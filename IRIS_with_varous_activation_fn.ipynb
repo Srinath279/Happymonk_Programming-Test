{
 "cells": [
  {
   "cell_type": "code",
   "execution_count": 26,
   "metadata": {
    "id": "U6uEAEfSgqxO"
   },
   "outputs": [],
   "source": [
    "import numpy as np\n",
    "from tqdm import tqdm_notebook\n",
    "from sklearn.metrics import log_loss,accuracy_score\n",
    "from sklearn.model_selection import train_test_split\n",
    "from sklearn.preprocessing import OneHotEncoder\n",
    "import matplotlib.pyplot as plt\n",
    "import matplotlib.colors\n",
    "from sklearn.datasets import load_iris\n",
    "from numpy.linalg import norm\n",
    "import warnings\n",
    "warnings.filterwarnings=\"ignore\""
   ]
  },
  {
   "cell_type": "markdown",
   "metadata": {
    "id": "GbfDqclSgqxf"
   },
   "source": [
    "#  Sample Data"
   ]
  },
  {
   "cell_type": "code",
   "execution_count": 2,
   "metadata": {
    "colab": {
     "base_uri": "https://localhost:8080/"
    },
    "id": "25cOmXrxgqxg",
    "outputId": "1967bd3e-59f0-4f92-f36b-c0c4ca7cca62"
   },
   "outputs": [
    {
     "name": "stdout",
     "output_type": "stream",
     "text": [
      "(150, 4) (150,)\n"
     ]
    }
   ],
   "source": [
    "iris = load_iris()\n",
    "data = iris.data\n",
    "labels = iris.target\n",
    "print(data.shape,labels.shape)"
   ]
  },
  {
   "cell_type": "markdown",
   "metadata": {
    "id": "huq8oDjsgqxh"
   },
   "source": [
    "# Train-Test-Split"
   ]
  },
  {
   "cell_type": "code",
   "execution_count": 3,
   "metadata": {
    "colab": {
     "base_uri": "https://localhost:8080/"
    },
    "id": "Q0Y8-Zcngqxh",
    "outputId": "df9b04a5-50a3-4f34-e5a4-7f41b0909b27"
   },
   "outputs": [
    {
     "name": "stdout",
     "output_type": "stream",
     "text": [
      "(120, 4) (120,) (30, 4) (30,)\n"
     ]
    }
   ],
   "source": [
    "X_train,X_val,Y_train,Y_val = train_test_split(data,labels,stratify=labels,random_state=0,test_size = 0.2)\n",
    "print(X_train.shape,Y_train.shape,X_val.shape,Y_val.shape)"
   ]
  },
  {
   "cell_type": "markdown",
   "metadata": {
    "id": "7wNfBmqrgqxi"
   },
   "source": [
    "# One hot encoding of Y_train"
   ]
  },
  {
   "cell_type": "code",
   "execution_count": 4,
   "metadata": {
    "colab": {
     "base_uri": "https://localhost:8080/"
    },
    "id": "GItkV3Dvgqxi",
    "outputId": "04348776-eb2c-4295-d984-44bc4bd863c2"
   },
   "outputs": [
    {
     "name": "stdout",
     "output_type": "stream",
     "text": [
      "(120, 3)\n"
     ]
    }
   ],
   "source": [
    "enc = OneHotEncoder()\n",
    "Y_train_one_hot = enc.fit_transform(np.expand_dims(Y_train,1)).toarray()\n",
    "print(Y_train_one_hot.shape)"
   ]
  },
  {
   "cell_type": "markdown",
   "metadata": {
    "id": "iF-QrgSIgqxj"
   },
   "source": [
    "# Multi-Layer-Perceptron/Feed Forward Nueral Network Class\n",
    "## With optimizers : Momentum , AdaGrad, RMSProp, Adam"
   ]
  },
  {
   "cell_type": "code",
   "execution_count": 5,
   "metadata": {
    "id": "Ew_V5PIbgqxj"
   },
   "outputs": [],
   "source": [
    "class Nueral_Network:\n",
    "\n",
    "    def __init__(self,hidden_layer=[4,8,8,3],num_nu1 = 8,num_nu2 = 8,output_layer=4,num_layers = 3,init_algo = 'random',activation='sigmoid'):\n",
    "        np.random.seed(0)\n",
    "        self.activation = activation\n",
    "        self.params = {}\n",
    "        self.hidden_layer = [4,num_nu1,num_nu2,3]\n",
    "        self.leaky_slope = 0.1\n",
    "        self.update_params = {}\n",
    "        self.gradients = {}\n",
    "        self.num_layers = num_layers\n",
    "        \n",
    "\n",
    "#     parameters -- python dictionary containing your parameters \"W1\", \"b1\", ..., \"WL\", \"bL\":\n",
    "#                     W1 -- weight matrix of shape (layers_dims[1], layers_dims[0])\n",
    "#                     b1 -- bias vector of shape (layers_dims[1], 1)\n",
    "#                     ...\n",
    "#                     WL -- weight matrix of shape (layers_dims[L], layers_dims[L-1])\n",
    "#                     bL -- bias vector of shape (layers_dims[L], 1)\n",
    "\n",
    "# W1: The number of rows is the number of hidden units of that layer, dims[1], \n",
    "#     and the number of columns is the number of features/rows of the previous layer (in this case X, our input data), dims[0].\n",
    "# b1: Same number of rows as W1 and a single column.\n",
    "        \n",
    "        if(init_algo == 'random'):\n",
    "            for i in range(1,num_layers + 1):\n",
    "                self.params['W' + str(i)] = np.random.randn(self.hidden_layer[i-1],self.hidden_layer[i])\n",
    "                self.params['B' + str(i)] = np.random.randn(1,self.hidden_layer[i])\n",
    "        elif(init_algo == 'zero'):\n",
    "            for i in range(1,num_layers + 1):\n",
    "                self.params['W' + str(i)] = np.zeros((self.hidden_layer[i-1],self.hidden_layer[i]))\n",
    "                self.params['B' + str(i)] = np.zeros((1,self.hidden_layer[i]))\n",
    "        elif(init_algo == 'xavier'):\n",
    "            for i in range(1,num_layers + 1):\n",
    "                self.params['W' + str(i)] = np.random.randn(self.hidden_layer[i-1],self.hidden_layer[i])*np.sqrt(1/self.hidden_layer[i-1])\n",
    "                self.params['B' + str(i)] = np.random.randn(1,self.hidden_layer[i])\n",
    "                \n",
    "        elif(init_algo == 'he'):\n",
    "            for i in range(1,num_layers + 1):\n",
    "                self.params['W' + str(i)] = np.random.randn(self.hidden_layer[i-1],self.hidden_layer[i])*np.sqrt(2/self.hidden_layer[i-1])\n",
    "                self.params['B' + str(i)] = np.random.randn(1,self.hidden_layer[i])\n",
    "                \n",
    "        print(\"parameters: \",self.params)\n",
    "            \n",
    "        for i in range(1,num_layers+1):\n",
    "            self.update_params['v_w' + str(i)] = 0\n",
    "            self.update_params['v_b' + str(i)] = 0\n",
    "            self.update_params['m_w' + str(i)] = 0\n",
    "            self.update_params['m_b' + str(i)] = 0\n",
    "            \n",
    "        print(\"update_params :\",self.update_params)\n",
    "            \n",
    "    \n",
    "    def forward_activation(self,X):\n",
    "        \n",
    "        if(self.activation == 'sigmoid'):\n",
    "            return(1.0/(1.0 + np.exp(-X)))\n",
    "        elif(self.activation == 'tanh'):\n",
    "            return(np.tanh(X))\n",
    "        elif(self.activation == 'relu'):\n",
    "            return(np.maximum(0,X))\n",
    "        elif(self.activation == 'leaky relu'):\n",
    "            return(np.maximum(self.leaky_slope * X,X))\n",
    "    \n",
    "    def grad_activation(self,X):\n",
    "        if(self.activation == 'sigmoid'):\n",
    "            return(X * (1-X))\n",
    "        elif(self.activation == 'tanh'):\n",
    "            return(1-np.square(X))\n",
    "        elif(self.activation == 'relu'):\n",
    "            return(1.0 * (X>0))\n",
    "\n",
    "        elif(self.activation == 'leaky relu'):\n",
    "            d = np.zeros_like(X)\n",
    "            d[X<=0] = self.leaky_slope\n",
    "            d[X>0] = 1.0\n",
    "            return d\n",
    "            \n",
    "    \n",
    "    def softmax(self,X):\n",
    "        exps = np.exp(X) # (N,2)\n",
    "        sums_exp = np.sum(exps,axis=1).reshape(-1,1) #(N,1)\n",
    "        return(exps/sums_exp) #(N,2) / (N,1) --> (N,2)\n",
    "        \n",
    "    \n",
    "    def forward_pass(self,X):\n",
    "        \n",
    "        # Layer 1(Hidden)\n",
    "        self.params['A1'] = np.matmul(X,self.params['W1']) + self.params['B1'] #(N,4) * (4,8)-->(N,8) + (N,8)\n",
    "        self.params['H1'] = self.forward_activation(self.params['A1']) # (N,8)\n",
    "        \n",
    "        #Layer 2(Hidden)\n",
    "        self.params['A2'] = np.matmul(self.params['H1'],self.params['W2']) + self.params['B2'] #(N,8) * (8,8)-->(N,8)\n",
    "        self.params['H2'] = self.forward_activation(self.params['A2']) #(N,8)\n",
    "        \n",
    "        #Layer 3(Output)\n",
    "        self.params['A3'] = np.matmul(self.params['H2'],self.params['W3']) + self.params['B3'] #(N,8) * (8,3)-->(N,3)\n",
    "        self.params['H3'] = self.softmax(self.params['A3']) #(N,3)\n",
    "        \n",
    "        # print(\"parameters of layers : \",self.params)\n",
    "        \n",
    "        return(self.params['H3']) #(N,3)\n",
    "    \n",
    "    \n",
    "    def grad(self,X,Y):\n",
    "        \n",
    "        self.forward_pass(X)\n",
    "        \n",
    "        #Layer 3\n",
    "        self.gradients['dA3'] = self.params['H3'] - Y #(N,3) - (N,3) -->(N,3)\n",
    "        self.gradients['dW3'] = np.matmul(self.params['H2'].T,self.gradients['dA3']) # (8,N) * (N,3) -->(8,3)\n",
    "        self.gradients['dB3'] = np.sum(self.gradients['dA3'],axis=0).reshape(1,-1) \n",
    "        \n",
    "        #Layer 2 \n",
    "        self.gradients['dH2'] = np.matmul(self.gradients['dA3'],self.params['W3'].T) #(N,3) * (3,8) -- >(N,8)\n",
    "        self.gradients['dA2'] = np.multiply(self.gradients['dH2'],self.grad_activation(self.params['H2'])) #(N,8) * (N,8)-->(N,8)\n",
    "        self.gradients['dW2'] = np.matmul(self.params['H1'].T,self.gradients['dA2']) #(8,N) * (N,8)   --> (8,8)\n",
    "        self.gradients['dB2'] = np.sum(self.gradients['dA2'],axis=0).reshape(1,-1)\n",
    "        \n",
    "        #Layer 1\n",
    "        self.gradients['dH1'] = np.matmul(self.gradients['dA2'],self.params['W2'].T) #(N,8) * (8,8) -->(N,8)\n",
    "        self.gradients['dA1'] = np.multiply(self.gradients['dH1'],self.grad_activation(self.params['H1'])) #(N,8) * (N,8)\n",
    "        self.gradients['dW1'] = np.matmul(X.T,self.gradients['dA1']) #(4,N) * (N,8) -->(4,8)\n",
    "        self.gradients['dB1'] = np.sum(self.gradients['dA1'],axis=0).reshape(1,-1)\n",
    "        \n",
    "        # print(\"gradients: \",self.gradients)\n",
    "    \n",
    "    def get_accuracy(self):\n",
    "        \n",
    "        Y_pred_train = self.predict(X_train)\n",
    "        Y_pred_train = np.argmax(Y_pred_train,axis=1)\n",
    "        Y_pred_val = self.predict(X_val)\n",
    "        Y_pred_val = np.argmax(Y_pred_val,axis=1)\n",
    "        \n",
    "        train_accuracy = accuracy_score(Y_pred_train,Y_train)\n",
    "        val_accuracy = accuracy_score(Y_pred_val,Y_val)\n",
    "        \n",
    "        return train_accuracy,val_accuracy\n",
    "        \n",
    "    def fit(self,X,Y,l2_norm=False,lambda_val=0.8,epochs=1,eta=1,display_loss = False,algo='GD',gamma=0.8,eps = 1e-8,beta = 0.8,beta1=0.8,beta2=0.8):\n",
    "        \n",
    "        if(display_loss):\n",
    "            training_loss = {}\n",
    "            training_acc = {}\n",
    "            val_acc = {}\n",
    "            weight_mag = {}\n",
    "        \n",
    "        for epoch in tqdm_notebook(range(epochs),unit=\"epoch\",total=epochs):\n",
    "            \n",
    "            if(algo == 'GD'):\n",
    "            \n",
    "                self.grad(X,Y)\n",
    "\n",
    "                m = X.shape[0]\n",
    "                for i in range(1,self.num_layers+1):\n",
    "                    \n",
    "                    \n",
    "                    if(l2_norm):\n",
    "                        self.params['W' + str(i)] -= (eta * lambda_val)/m * self.params['W' + str(i)] + eta * (self.gradients['dW' + str(i)]/m)\n",
    "                    else:\n",
    "                        self.params['W' + str(i)] -= eta * (self.gradients['dW' + str(i)]/m)\n",
    "                    self.params['B' + str(i)] -= eta * (self.gradients['dB'+ str(i)]/m)\n",
    "                \n",
    "\n",
    "                Y_pred = self.predict(X)\n",
    "                training_loss[epoch] = log_loss(np.argmax(Y,axis=1),Y_pred)\n",
    "                train,val = self.get_accuracy()\n",
    "                training_acc[epoch] = train\n",
    "                val_acc[epoch] = val\n",
    "                weight_mag[epoch] = (norm(self.params['W1']) + norm(self.params['W2']) + norm(self.params['W3']) + norm(self.params['B1']) + norm(self.params['B2']) + norm(self.params['B3']))/18\n",
    "                \n",
    "            \n",
    "            elif(algo == 'Momentum'):\n",
    "                self.grad(X,Y)\n",
    "                m = X.shape[0]\n",
    "                \n",
    "                for i in range(1,self.num_layers+1):\n",
    "                \n",
    "                    self.update_params['v_w' + str(i)] = gamma*self.update_params['v_w' + str(i)] + eta * (self.gradients['dW' + str(i)])/m\n",
    "                    self.update_params['v_b' + str(i)] = gamma*self.update_params['v_b' + str(i)] + eta * (self.gradients['dB' + str(i)])/m\n",
    "                    self.params['W' + str(i)] -= self.update_params['v_w' + str(i)]\n",
    "                    self.params['B' + str(i)] -= self.update_params['v_b' + str(i)]\n",
    "                \n",
    "                Y_pred = self.predict(X)\n",
    "                training_loss[epoch] = log_loss(np.argmax(Y,axis=1),Y_pred)\n",
    "                \n",
    "            \n",
    "            elif(algo == 'AdaGrad'):\n",
    "                self.grad(X,Y)\n",
    "                m = X.shape[0]\n",
    "                \n",
    "                for i in range(1,self.num_layers+1):\n",
    "                    \n",
    "                    self.update_params['v_w' + str(i)] = self.update_params['v_w' + str(i)] + ((self.gradients['dW' + str(i)]/m) ** 2)\n",
    "                    self.update_params['v_b' + str(i)] = self.update_params['v_b' + str(i)] + ((self.gradients['dB' + str(i)]/m) ** 2)\n",
    "                    self.params['W' + str(i)] -= (eta/np.sqrt(self.update_params['v_w' + str(i)]+eps)) * self.gradients['dW' + str(i)]/m\n",
    "                    self.params['B' + str(i)] -= (eta/np.sqrt(self.update_params['v_b' + str(i)]+eps)) * self.gradients['dB' + str(i)]/m\n",
    "                \n",
    "                Y_pred = self.predict(X)\n",
    "                loss[epoch] = log_loss(np.argmax(Y,axis=1),Y_pred)\n",
    "            \n",
    "            elif(algo == 'RMSProp'):\n",
    "                self.grad(X,Y)\n",
    "                m = X.shape[0]\n",
    "                \n",
    "                for i in range(1,self.num_layers+1):\n",
    "                    \n",
    "                    self.update_params['v_w' + str(i)] = beta*self.update_params['v_w' + str(i)] + (1-beta)*((self.gradients['dW' + str(i)]/m) ** 2)\n",
    "                    self.update_params['v_b' + str(i)] = beta*self.update_params['v_b' + str(i)] + (1-beta)*((self.gradients['dB' + str(i)]/m) ** 2)\n",
    "                    self.params['W' + str(i)] -= (eta/np.sqrt(self.update_params['v_w' + str(i)]+eps)) * self.gradients['dW' + str(i)]/m\n",
    "                    self.params['B' + str(i)] -= (eta/np.sqrt(self.update_params['v_b' + str(i)]+eps)) * self.gradients['dB' + str(i)]/m\n",
    "                    \n",
    "                Y_pred = self.predict(X)\n",
    "                loss[epoch] = log_loss(np.argmax(Y,axis=1),Y_pred)\n",
    "            \n",
    "            elif(algo == 'Adam'):\n",
    "                self.grad(X,Y)\n",
    "                m = X.shape[0]\n",
    "                num_updates = 0\n",
    "                for i in range(1,self.num_layers+1):\n",
    "                    num_updates+=1\n",
    "\n",
    "                    self.update_params['m_w' + str(i)] = beta1*self.update_params['m_w' + str(i)] + ((1-beta1) * self.gradients['dW' + str(i)]/m) \n",
    "                    self.update_params['m_b' + str(i)] = beta1*self.update_params['m_b' + str(i)] + ((1-beta1) * self.gradients['dB' + str(i)]/m) \n",
    "                    self.update_params['v_w' + str(i)] = beta2*self.update_params['v_w' + str(i)] + ((1-beta2) * ((self.gradients['dW' + str(i)]/m)**2))\n",
    "                    self.update_params['v_b' + str(i)] = beta2*self.update_params['v_b' + str(i)] + ((1-beta2) * ((self.gradients['dB' + str(i)]/m)**2))\n",
    "                    m_w_hat=self.update_params[\"m_w\"+str(i)]/(1-np.power(beta1,num_updates))\n",
    "                    v_w_hat=self.update_params[\"v_w\"+str(i)]/(1-np.power(beta2,num_updates))\n",
    "                    m_b_hat=self.update_params[\"m_b\"+str(i)]/(1-np.power(beta1,num_updates))\n",
    "                    v_b_hat=self.update_params[\"v_b\"+str(i)]/(1-np.power(beta2,num_updates))\n",
    "\n",
    "                    self.params['W' + str(i)] -= (eta/np.sqrt(v_w_hat + eps))* m_w_hat\n",
    "                    self.params['B' + str(i)] -= (eta/np.sqrt(v_b_hat + eps))* m_b_hat\n",
    "                \n",
    "                Y_pred = self.predict(X)\n",
    "                loss[epoch] = log_loss(np.argmax(Y,axis=1),Y_pred)\n",
    "                    \n",
    "                \n",
    "\n",
    "        if(display_loss):\n",
    "            fig,ax1 = plt.subplots()\n",
    "            \n",
    "            ax1.plot(list(training_loss.values()),label='Loss')\n",
    "            ax1.set_title('Loss Plot')\n",
    "            ax1.set_xlabel('Epochs')\n",
    "            ax1.set_ylabel('Log Loss')\n",
    "            ax2 = ax1.twinx()\n",
    "            ax2.set_ylabel('Weight Magnitude')\n",
    "            ax2.plot(list(weight_mag.values()),color='r',label='Weight Magnitude')\n",
    "            plt.legend()\n",
    "            plt.show()\n",
    "            \n",
    "        if(display_loss):\n",
    "            plt.figure()\n",
    "            plt.plot(list(training_acc.values()),label='Training Loss',color='blue')\n",
    "            plt.plot(list(val_acc.values()),label='Validation Loss',color='green')\n",
    "            plt.plot(np.ones((epochs,1))*0.9,label='High Standard',color='red')\n",
    "            plt.plot(np.ones((epochs,1))*0.33,label='Lowest Standard',color='violet')\n",
    "            plt.title('Accuracy Plot')\n",
    "            plt.xlabel('Epochs')\n",
    "            plt.ylabel('Accuracy')\n",
    "            plt.legend(loc='upper right')\n",
    "            plt.show()\n",
    "    \n",
    "    def predict(self,X):\n",
    "        Y_pred = []\n",
    "        return(np.asarray(self.forward_pass(X))) #(N,2)\n",
    "    "
   ]
  },
  {
   "cell_type": "code",
   "execution_count": 6,
   "metadata": {
    "id": "qEamH0pCgqxq"
   },
   "outputs": [],
   "source": [
    "def print_accuracy():\n",
    "    Y_pred_train = mlp.predict(X_train)\n",
    "#     print(Y_pred_train)\n",
    "    Y_pred_train = np.argmax(Y_pred_train,axis=1)\n",
    "#     print(Y_pred_train)\n",
    "    Y_pred_val = mlp.predict(X_val)\n",
    "    Y_pred_val = np.argmax(Y_pred_val,axis=1)\n",
    "    \n",
    "    training_accuracy = accuracy_score(Y_train,Y_pred_train)\n",
    "    validation_accuracy = accuracy_score(Y_val,Y_pred_val)\n",
    "    \n",
    "    print(f'The training accuracy is: {np.round(training_accuracy*100,4)}')\n",
    "    print(f'The validation accuracy is: {np.round(validation_accuracy*100,4)}')"
   ]
  },
  {
   "cell_type": "markdown",
   "metadata": {
    "id": "AUFDvwDagqxs"
   },
   "source": [
    "# Model Running"
   ]
  },
  {
   "cell_type": "code",
   "execution_count": null,
   "metadata": {
    "id": "HubcQtv3gqxs"
   },
   "outputs": [],
   "source": []
  },
  {
   "cell_type": "code",
   "execution_count": 7,
   "metadata": {
    "colab": {
     "base_uri": "https://localhost:8080/",
     "height": 1000,
     "referenced_widgets": [
      "cdb66921e66f49d88450eecf3271e711",
      "01f9e0605b8948c59b56eaefe449013a",
      "4ae8d5f31e9449a59948f643b979a167",
      "660d5084587f493cbc29cfde733f0962",
      "7b2af35e17544cb88a29a810b782ecdd",
      "fb0d7dafb408445a9ef8f1d32485d1ea",
      "509537c512694a2d9b8f54fc66eb7d46",
      "a199b2bedc9c4428a4266345c3c4e383"
     ]
    },
    "id": "_WkC4KG8gqxt",
    "outputId": "406b1f60-5f11-49a9-9190-46504d5b36fb"
   },
   "outputs": [
    {
     "name": "stdout",
     "output_type": "stream",
     "text": [
      "parameters:  {'W1': array([[ 0.88202617,  0.2000786 ,  0.48936899,  1.1204466 ,  0.933779  ,\n",
      "        -0.48863894,  0.47504421, -0.0756786 ],\n",
      "       [-0.05160943,  0.20529925,  0.07202179,  0.72713675,  0.38051886,\n",
      "         0.06083751,  0.22193162,  0.16683716],\n",
      "       [ 0.74703954, -0.10257913,  0.15653385, -0.42704787, -1.27649491,\n",
      "         0.3268093 ,  0.4322181 , -0.37108251],\n",
      "       [ 1.13487731, -0.72718284,  0.02287926, -0.09359193,  0.76638961,\n",
      "         0.73467938,  0.07747371,  0.18908126]]), 'B1': array([[-0.88778575, -1.98079647, -0.34791215,  0.15634897,  1.23029068,\n",
      "         1.20237985, -0.38732682, -0.30230275]]), 'W2': array([[-0.37071946, -0.50205216, -0.60325761,  0.68970326, -0.18018926,\n",
      "        -0.15488265, -0.44293005,  0.27488435],\n",
      "       [-0.57059906, -0.07521505, -0.31659524,  0.13679069, -0.18059689,\n",
      "        -0.41741651, -0.00996392,  0.15143819],\n",
      "       [ 0.02351739,  0.10693997, -0.22426673, -0.12824837, -0.23775067,\n",
      "        -0.12712124, -0.28749063, -0.61033307],\n",
      "       [ 0.06272961, -0.14205101, -0.57636215,  0.16361824, -0.32077841,\n",
      "         0.01836547,  0.25777244,  0.04560235],\n",
      "       [ 0.40283898, -0.43657686,  0.14224925, -0.24211693, -0.30787328,\n",
      "        -0.20465426, -0.11015045,  0.01985745],\n",
      "       [-0.41194268,  0.31849026,  0.16463653, -0.54314416,  0.52617661,\n",
      "         0.67029805,  0.41676151, -0.06361304],\n",
      "       [-0.37856822,  0.37280498, -0.14254458,  0.4321996 ,  0.07363632,\n",
      "         0.34529404,  0.12599455,  0.24981134],\n",
      "       [ 0.00371232,  0.63140057,  0.0448702 ,  0.1421247 ,  0.66579431,\n",
      "        -0.47650479, -0.44918428,  0.34273349]]), 'B2': array([[-1.17312341,  1.94362119, -0.41361898, -0.74745481,  1.92294203,\n",
      "         1.48051479,  1.86755896,  0.90604466]]), 'W3': array([[-0.30448926,  0.67530994, -0.0947535 ],\n",
      "       [ 0.28371118,  0.33490414, -0.05480434],\n",
      "       [ 0.21710984,  0.3260493 ,  0.13308652],\n",
      "       [-0.38869688,  0.10544312,  0.46894823],\n",
      "       [-0.24556682, -0.0529038 , -0.15385001],\n",
      "       [ 0.65381346,  0.23769209,  0.14405951],\n",
      "       [-0.27220644,  0.19065338, -0.2384126 ],\n",
      "       [ 0.0112538 , -0.22480554,  0.23915528]]), 'B3': array([[ 0.57659082, -0.20829876,  0.39600671]])}\n",
      "update_params : {'v_w1': 0, 'v_b1': 0, 'm_w1': 0, 'm_b1': 0, 'v_w2': 0, 'v_b2': 0, 'm_w2': 0, 'm_b2': 0, 'v_w3': 0, 'v_b3': 0, 'm_w3': 0, 'm_b3': 0}\n"
     ]
    },
    {
     "name": "stderr",
     "output_type": "stream",
     "text": [
      "<ipython-input-5-d46152a1b57e>:148: TqdmDeprecationWarning: This function will be removed in tqdm==5.0.0\n",
      "Please use `tqdm.notebook.tqdm` instead of `tqdm.tqdm_notebook`\n",
      "  for epoch in tqdm_notebook(range(epochs),unit=\"epoch\",total=epochs):\n"
     ]
    },
    {
     "data": {
      "application/vnd.jupyter.widget-view+json": {
       "model_id": "e635661a29d749be9a5fa6e16c5674ac",
       "version_major": 2,
       "version_minor": 0
      },
      "text/plain": [
       "  0%|          | 0/380 [00:00<?, ?epoch/s]"
      ]
     },
     "metadata": {},
     "output_type": "display_data"
    },
    {
     "data": {
      "image/png": "[encoded data removed]",
      "text/plain": [
       "<Figure size 432x288 with 2 Axes>"
      ]
     },
     "metadata": {
      "needs_background": "light"
     },
     "output_type": "display_data"
    },
    {
     "data": {
      "image/png": "[encoded data removed]",
      "text/plain": [
       "<Figure size 432x288 with 1 Axes>"
      ]
     },
     "metadata": {
      "needs_background": "light"
     },
     "output_type": "display_data"
    },
    {
     "name": "stdout",
     "output_type": "stream",
     "text": [
      "The training accuracy is: 85.0\n",
      "The validation accuracy is: 86.6667\n"
     ]
    }
   ],
   "source": [
    "mlp = Nueral_Network(init_algo='xavier',activation='sigmoid')\n",
    "mlp.fit(X_train,Y_train_one_hot,display_loss=True,epochs=380,eta=0.25,beta=0.8,algo='GD')\n",
    "print_accuracy()"
   ]
  },
  {
   "cell_type": "code",
   "execution_count": 8,
   "metadata": {},
   "outputs": [
    {
     "name": "stdout",
     "output_type": "stream",
     "text": [
      "The training accuracy obtained is:85.0\n"
     ]
    }
   ],
   "source": [
    "from sklearn.metrics import log_loss,accuracy_score\n",
    "Y_pred = mlp.predict(X_train)\n",
    "Y_pred_bin = np.argmax(Y_pred,axis=1)\n",
    "Y_pred_bin.shape\n",
    "\n",
    "accuracy_train = accuracy_score(Y_train.reshape(-1,1),Y_pred_bin)\n",
    "print(f'The training accuracy obtained is:{accuracy_train*100}')"
   ]
  },
  {
   "cell_type": "code",
   "execution_count": 9,
   "metadata": {},
   "outputs": [
    {
     "name": "stdout",
     "output_type": "stream",
     "text": [
      "The validation accuracy obtained is:86.66666666666667\n"
     ]
    }
   ],
   "source": [
    "Y_pred = mlp.predict(X_val)\n",
    "Y_pred_bin_test = np.argmax(Y_pred,axis=1)\n",
    "\n",
    "#print(Y_pred_bin_test.shape)\n",
    "\n",
    "accuracy_test = accuracy_score(Y_val.reshape(-1,1),Y_pred_bin_test)\n",
    "print(f'The validation accuracy obtained is:{accuracy_test*100}')"
   ]
  },
  {
   "cell_type": "markdown",
   "metadata": {
    "id": "oSi7Kskhgqyn"
   },
   "source": [
    "# Xavier Init with Sigmoid Activation with Regularization\n",
    "###  When Lambda_val (regularization param) = 10. More weightage is given to Weight minimizing so our model does not learn anything.\n",
    "### lambda_val = 1. It learns"
   ]
  },
  {
   "cell_type": "code",
   "execution_count": 10,
   "metadata": {
    "colab": {
     "base_uri": "https://localhost:8080/",
     "height": 1000,
     "referenced_widgets": [
      "c5945412582d4af7aef8384897f47b3a",
      "78a662ca26884cfdbef539b219086170",
      "87357915b6794620a81be174a5f7030e",
      "74fcca4d432149feb50659afb70cb2f7",
      "24420b2f3a92494c916b821fda1179b0",
      "50ec57e26baa4320bae780b3aa05bff3",
      "ef3b6623e09b4dfcbb0253c412886489",
      "b5ade15465c943e2b54aeced42f089dd"
     ]
    },
    "id": "FJPcHO4Ogqyn",
    "outputId": "9fa251db-36ee-48b5-af78-0fb45a826e28"
   },
   "outputs": [
    {
     "name": "stdout",
     "output_type": "stream",
     "text": [
      "parameters:  {'W1': array([[ 0.88202617,  0.2000786 ,  0.48936899,  1.1204466 ,  0.933779  ,\n",
      "        -0.48863894,  0.47504421, -0.0756786 ],\n",
      "       [-0.05160943,  0.20529925,  0.07202179,  0.72713675,  0.38051886,\n",
      "         0.06083751,  0.22193162,  0.16683716],\n",
      "       [ 0.74703954, -0.10257913,  0.15653385, -0.42704787, -1.27649491,\n",
      "         0.3268093 ,  0.4322181 , -0.37108251],\n",
      "       [ 1.13487731, -0.72718284,  0.02287926, -0.09359193,  0.76638961,\n",
      "         0.73467938,  0.07747371,  0.18908126]]), 'B1': array([[-0.88778575, -1.98079647, -0.34791215,  0.15634897,  1.23029068,\n",
      "         1.20237985, -0.38732682, -0.30230275]]), 'W2': array([[-0.37071946, -0.50205216, -0.60325761,  0.68970326, -0.18018926,\n",
      "        -0.15488265, -0.44293005,  0.27488435],\n",
      "       [-0.57059906, -0.07521505, -0.31659524,  0.13679069, -0.18059689,\n",
      "        -0.41741651, -0.00996392,  0.15143819],\n",
      "       [ 0.02351739,  0.10693997, -0.22426673, -0.12824837, -0.23775067,\n",
      "        -0.12712124, -0.28749063, -0.61033307],\n",
      "       [ 0.06272961, -0.14205101, -0.57636215,  0.16361824, -0.32077841,\n",
      "         0.01836547,  0.25777244,  0.04560235],\n",
      "       [ 0.40283898, -0.43657686,  0.14224925, -0.24211693, -0.30787328,\n",
      "        -0.20465426, -0.11015045,  0.01985745],\n",
      "       [-0.41194268,  0.31849026,  0.16463653, -0.54314416,  0.52617661,\n",
      "         0.67029805,  0.41676151, -0.06361304],\n",
      "       [-0.37856822,  0.37280498, -0.14254458,  0.4321996 ,  0.07363632,\n",
      "         0.34529404,  0.12599455,  0.24981134],\n",
      "       [ 0.00371232,  0.63140057,  0.0448702 ,  0.1421247 ,  0.66579431,\n",
      "        -0.47650479, -0.44918428,  0.34273349]]), 'B2': array([[-1.17312341,  1.94362119, -0.41361898, -0.74745481,  1.92294203,\n",
      "         1.48051479,  1.86755896,  0.90604466]]), 'W3': array([[-0.30448926,  0.67530994, -0.0947535 ],\n",
      "       [ 0.28371118,  0.33490414, -0.05480434],\n",
      "       [ 0.21710984,  0.3260493 ,  0.13308652],\n",
      "       [-0.38869688,  0.10544312,  0.46894823],\n",
      "       [-0.24556682, -0.0529038 , -0.15385001],\n",
      "       [ 0.65381346,  0.23769209,  0.14405951],\n",
      "       [-0.27220644,  0.19065338, -0.2384126 ],\n",
      "       [ 0.0112538 , -0.22480554,  0.23915528]]), 'B3': array([[ 0.57659082, -0.20829876,  0.39600671]])}\n",
      "update_params : {'v_w1': 0, 'v_b1': 0, 'm_w1': 0, 'm_b1': 0, 'v_w2': 0, 'v_b2': 0, 'm_w2': 0, 'm_b2': 0, 'v_w3': 0, 'v_b3': 0, 'm_w3': 0, 'm_b3': 0}\n"
     ]
    },
    {
     "name": "stderr",
     "output_type": "stream",
     "text": [
      "<ipython-input-5-d46152a1b57e>:148: TqdmDeprecationWarning: This function will be removed in tqdm==5.0.0\n",
      "Please use `tqdm.notebook.tqdm` instead of `tqdm.tqdm_notebook`\n",
      "  for epoch in tqdm_notebook(range(epochs),unit=\"epoch\",total=epochs):\n"
     ]
    },
    {
     "data": {
      "application/vnd.jupyter.widget-view+json": {
       "model_id": "ebdf4090a8914b10834451d426e89d4a",
       "version_major": 2,
       "version_minor": 0
      },
      "text/plain": [
       "  0%|          | 0/500 [00:00<?, ?epoch/s]"
      ]
     },
     "metadata": {},
     "output_type": "display_data"
    },
    {
     "data": {
      "image/png": "[encoded data removed]",
      "text/plain": [
       "<Figure size 432x288 with 2 Axes>"
      ]
     },
     "metadata": {
      "needs_background": "light"
     },
     "output_type": "display_data"
    },
    {
     "data": {
      "image/png": "[encoded data removed]",
      "text/plain": [
       "<Figure size 432x288 with 1 Axes>"
      ]
     },
     "metadata": {
      "needs_background": "light"
     },
     "output_type": "display_data"
    },
    {
     "name": "stdout",
     "output_type": "stream",
     "text": [
      "The training accuracy is: 85.8333\n",
      "The validation accuracy is: 86.6667\n"
     ]
    }
   ],
   "source": [
    "mlp = Nueral_Network(init_algo='xavier',activation='sigmoid')\n",
    "mlp.fit(X_train,Y_train_one_hot,display_loss=True,epochs=500,eta=0.25,beta=0.8,algo='GD',l2_norm=True,lambda_val = 1)\n",
    "print_accuracy()"
   ]
  },
  {
   "cell_type": "markdown",
   "metadata": {
    "id": "JbQgAsABgq0b"
   },
   "source": [
    "# Xavier with Tanh activation."
   ]
  },
  {
   "cell_type": "code",
   "execution_count": 11,
   "metadata": {
    "colab": {
     "base_uri": "https://localhost:8080/",
     "height": 1000,
     "referenced_widgets": [
      "968ff21d19b84388b0e119338e5dd7e3",
      "b541fb735746439594b82d05917bff23",
      "6da977ee63704f29ab142074d561209d",
      "6809430725cd46fdbd92b33de7fd7faf",
      "b218b655146640c0aee6247b9dcd35d2",
      "c5b113236f8641babb54d52081ae60c7",
      "4559a952509245539529552d38b849c5",
      "008cd6601907406ba823409deccce84f"
     ]
    },
    "id": "zFp3pPd0gq0b",
    "outputId": "137a63c3-598c-422c-c231-6475a04fa902"
   },
   "outputs": [
    {
     "name": "stdout",
     "output_type": "stream",
     "text": [
      "parameters:  {'W1': array([[ 0.88202617,  0.2000786 ,  0.48936899,  1.1204466 ,  0.933779  ,\n",
      "        -0.48863894,  0.47504421, -0.0756786 ],\n",
      "       [-0.05160943,  0.20529925,  0.07202179,  0.72713675,  0.38051886,\n",
      "         0.06083751,  0.22193162,  0.16683716],\n",
      "       [ 0.74703954, -0.10257913,  0.15653385, -0.42704787, -1.27649491,\n",
      "         0.3268093 ,  0.4322181 , -0.37108251],\n",
      "       [ 1.13487731, -0.72718284,  0.02287926, -0.09359193,  0.76638961,\n",
      "         0.73467938,  0.07747371,  0.18908126]]), 'B1': array([[-0.88778575, -1.98079647, -0.34791215,  0.15634897,  1.23029068,\n",
      "         1.20237985, -0.38732682, -0.30230275]]), 'W2': array([[-0.37071946, -0.50205216, -0.60325761,  0.68970326, -0.18018926,\n",
      "        -0.15488265, -0.44293005,  0.27488435],\n",
      "       [-0.57059906, -0.07521505, -0.31659524,  0.13679069, -0.18059689,\n",
      "        -0.41741651, -0.00996392,  0.15143819],\n",
      "       [ 0.02351739,  0.10693997, -0.22426673, -0.12824837, -0.23775067,\n",
      "        -0.12712124, -0.28749063, -0.61033307],\n",
      "       [ 0.06272961, -0.14205101, -0.57636215,  0.16361824, -0.32077841,\n",
      "         0.01836547,  0.25777244,  0.04560235],\n",
      "       [ 0.40283898, -0.43657686,  0.14224925, -0.24211693, -0.30787328,\n",
      "        -0.20465426, -0.11015045,  0.01985745],\n",
      "       [-0.41194268,  0.31849026,  0.16463653, -0.54314416,  0.52617661,\n",
      "         0.67029805,  0.41676151, -0.06361304],\n",
      "       [-0.37856822,  0.37280498, -0.14254458,  0.4321996 ,  0.07363632,\n",
      "         0.34529404,  0.12599455,  0.24981134],\n",
      "       [ 0.00371232,  0.63140057,  0.0448702 ,  0.1421247 ,  0.66579431,\n",
      "        -0.47650479, -0.44918428,  0.34273349]]), 'B2': array([[-1.17312341,  1.94362119, -0.41361898, -0.74745481,  1.92294203,\n",
      "         1.48051479,  1.86755896,  0.90604466]]), 'W3': array([[-0.30448926,  0.67530994, -0.0947535 ],\n",
      "       [ 0.28371118,  0.33490414, -0.05480434],\n",
      "       [ 0.21710984,  0.3260493 ,  0.13308652],\n",
      "       [-0.38869688,  0.10544312,  0.46894823],\n",
      "       [-0.24556682, -0.0529038 , -0.15385001],\n",
      "       [ 0.65381346,  0.23769209,  0.14405951],\n",
      "       [-0.27220644,  0.19065338, -0.2384126 ],\n",
      "       [ 0.0112538 , -0.22480554,  0.23915528]]), 'B3': array([[ 0.57659082, -0.20829876,  0.39600671]])}\n",
      "update_params : {'v_w1': 0, 'v_b1': 0, 'm_w1': 0, 'm_b1': 0, 'v_w2': 0, 'v_b2': 0, 'm_w2': 0, 'm_b2': 0, 'v_w3': 0, 'v_b3': 0, 'm_w3': 0, 'm_b3': 0}\n"
     ]
    },
    {
     "name": "stderr",
     "output_type": "stream",
     "text": [
      "<ipython-input-5-d46152a1b57e>:148: TqdmDeprecationWarning: This function will be removed in tqdm==5.0.0\n",
      "Please use `tqdm.notebook.tqdm` instead of `tqdm.tqdm_notebook`\n",
      "  for epoch in tqdm_notebook(range(epochs),unit=\"epoch\",total=epochs):\n"
     ]
    },
    {
     "data": {
      "application/vnd.jupyter.widget-view+json": {
       "model_id": "e077ced3e7464960bed163c9d3708251",
       "version_major": 2,
       "version_minor": 0
      },
      "text/plain": [
       "  0%|          | 0/500 [00:00<?, ?epoch/s]"
      ]
     },
     "metadata": {},
     "output_type": "display_data"
    },
    {
     "data": {
      "image/png": "[encoded data removed]",
      "text/plain": [
       "<Figure size 432x288 with 2 Axes>"
      ]
     },
     "metadata": {
      "needs_background": "light"
     },
     "output_type": "display_data"
    },
    {
     "data": {
      "image/png": "[encoded data removed]",
      "text/plain": [
       "<Figure size 432x288 with 1 Axes>"
      ]
     },
     "metadata": {
      "needs_background": "light"
     },
     "output_type": "display_data"
    },
    {
     "name": "stdout",
     "output_type": "stream",
     "text": [
      "The training accuracy is: 88.3333\n",
      "The validation accuracy is: 93.3333\n"
     ]
    }
   ],
   "source": [
    "mlp = Nueral_Network(init_algo='xavier',activation='tanh')\n",
    "mlp.fit(X_train,Y_train_one_hot,display_loss=True,epochs=500,eta=0.1,beta=0.8,algo='GD')\n",
    "print_accuracy()"
   ]
  },
  {
   "cell_type": "markdown",
   "metadata": {
    "id": "vPqhvy3Ugq1E"
   },
   "source": [
    "#  with relu"
   ]
  },
  {
   "cell_type": "code",
   "execution_count": 12,
   "metadata": {
    "colab": {
     "base_uri": "https://localhost:8080/",
     "height": 1000,
     "referenced_widgets": [
      "fbaa89dcbaad4a38bea8b0cf45e2d0c0",
      "0e45420a207c422ea3e9568ff82c1680",
      "361ee4921214428aa3b9025344c2ab47",
      "5b20fad96fa3452c9f24868982309c45",
      "ae930b003f374ce0bb32f7c12d7aa7b8",
      "b9b2f6ef822349b38c75c05f1411dccd",
      "a9569229191e499699c397d73c3c485d",
      "5c3815c078444f97a66fd7909c779e5d"
     ]
    },
    "id": "6p19yG9Wgq1E",
    "outputId": "307e1283-8c3d-4fc0-a09d-dea517a933b4"
   },
   "outputs": [
    {
     "name": "stdout",
     "output_type": "stream",
     "text": [
      "parameters:  {'W1': array([[ 0.88202617,  0.2000786 ,  0.48936899,  1.1204466 ,  0.933779  ,\n",
      "        -0.48863894,  0.47504421, -0.0756786 ],\n",
      "       [-0.05160943,  0.20529925,  0.07202179,  0.72713675,  0.38051886,\n",
      "         0.06083751,  0.22193162,  0.16683716],\n",
      "       [ 0.74703954, -0.10257913,  0.15653385, -0.42704787, -1.27649491,\n",
      "         0.3268093 ,  0.4322181 , -0.37108251],\n",
      "       [ 1.13487731, -0.72718284,  0.02287926, -0.09359193,  0.76638961,\n",
      "         0.73467938,  0.07747371,  0.18908126]]), 'B1': array([[-0.88778575, -1.98079647, -0.34791215,  0.15634897,  1.23029068,\n",
      "         1.20237985, -0.38732682, -0.30230275]]), 'W2': array([[-0.37071946, -0.50205216, -0.60325761,  0.68970326, -0.18018926,\n",
      "        -0.15488265, -0.44293005,  0.27488435],\n",
      "       [-0.57059906, -0.07521505, -0.31659524,  0.13679069, -0.18059689,\n",
      "        -0.41741651, -0.00996392,  0.15143819],\n",
      "       [ 0.02351739,  0.10693997, -0.22426673, -0.12824837, -0.23775067,\n",
      "        -0.12712124, -0.28749063, -0.61033307],\n",
      "       [ 0.06272961, -0.14205101, -0.57636215,  0.16361824, -0.32077841,\n",
      "         0.01836547,  0.25777244,  0.04560235],\n",
      "       [ 0.40283898, -0.43657686,  0.14224925, -0.24211693, -0.30787328,\n",
      "        -0.20465426, -0.11015045,  0.01985745],\n",
      "       [-0.41194268,  0.31849026,  0.16463653, -0.54314416,  0.52617661,\n",
      "         0.67029805,  0.41676151, -0.06361304],\n",
      "       [-0.37856822,  0.37280498, -0.14254458,  0.4321996 ,  0.07363632,\n",
      "         0.34529404,  0.12599455,  0.24981134],\n",
      "       [ 0.00371232,  0.63140057,  0.0448702 ,  0.1421247 ,  0.66579431,\n",
      "        -0.47650479, -0.44918428,  0.34273349]]), 'B2': array([[-1.17312341,  1.94362119, -0.41361898, -0.74745481,  1.92294203,\n",
      "         1.48051479,  1.86755896,  0.90604466]]), 'W3': array([[-0.30448926,  0.67530994, -0.0947535 ],\n",
      "       [ 0.28371118,  0.33490414, -0.05480434],\n",
      "       [ 0.21710984,  0.3260493 ,  0.13308652],\n",
      "       [-0.38869688,  0.10544312,  0.46894823],\n",
      "       [-0.24556682, -0.0529038 , -0.15385001],\n",
      "       [ 0.65381346,  0.23769209,  0.14405951],\n",
      "       [-0.27220644,  0.19065338, -0.2384126 ],\n",
      "       [ 0.0112538 , -0.22480554,  0.23915528]]), 'B3': array([[ 0.57659082, -0.20829876,  0.39600671]])}\n",
      "update_params : {'v_w1': 0, 'v_b1': 0, 'm_w1': 0, 'm_b1': 0, 'v_w2': 0, 'v_b2': 0, 'm_w2': 0, 'm_b2': 0, 'v_w3': 0, 'v_b3': 0, 'm_w3': 0, 'm_b3': 0}\n"
     ]
    },
    {
     "name": "stderr",
     "output_type": "stream",
     "text": [
      "<ipython-input-5-d46152a1b57e>:148: TqdmDeprecationWarning: This function will be removed in tqdm==5.0.0\n",
      "Please use `tqdm.notebook.tqdm` instead of `tqdm.tqdm_notebook`\n",
      "  for epoch in tqdm_notebook(range(epochs),unit=\"epoch\",total=epochs):\n"
     ]
    },
    {
     "data": {
      "application/vnd.jupyter.widget-view+json": {
       "model_id": "fa507a3ed59846dc9ae8d57969e57091",
       "version_major": 2,
       "version_minor": 0
      },
      "text/plain": [
       "  0%|          | 0/500 [00:00<?, ?epoch/s]"
      ]
     },
     "metadata": {},
     "output_type": "display_data"
    },
    {
     "data": {
      "image/png": "[encoded data removed]",
      "text/plain": [
       "<Figure size 432x288 with 2 Axes>"
      ]
     },
     "metadata": {
      "needs_background": "light"
     },
     "output_type": "display_data"
    },
    {
     "data": {
      "image/png": "[encoded data removed]",
      "text/plain": [
       "<Figure size 432x288 with 1 Axes>"
      ]
     },
     "metadata": {
      "needs_background": "light"
     },
     "output_type": "display_data"
    },
    {
     "name": "stdout",
     "output_type": "stream",
     "text": [
      "The training accuracy is: 98.3333\n",
      "The validation accuracy is: 100.0\n"
     ]
    }
   ],
   "source": [
    "mlp = Nueral_Network(init_algo='xavier',activation='relu')\n",
    "mlp.fit(X_train,Y_train_one_hot,display_loss=True,epochs=500,eta=0.01,beta=0.8,algo='GD')\n",
    "print_accuracy()"
   ]
  },
  {
   "cell_type": "code",
   "execution_count": 13,
   "metadata": {
    "colab": {
     "base_uri": "https://localhost:8080/",
     "height": 1000,
     "referenced_widgets": [
      "88e6f25b6bbb428b95f00a0d8a0275a8",
      "e56940d1ae9a4ce78fed4d3e60ca962d",
      "c02c1d8bf55a422e9957a1faf14c1f80",
      "9be69122313e43e3a2a26ca689290d61",
      "819d889b60e94413935829c608ee419d",
      "8f4653ac71e9464ca668f96fc4b6ff2f",
      "31d28619dde44e9ba21fae221aa4cf97",
      "3fe025a8f72f4b7ea88750c557a1fbfc"
     ]
    },
    "id": "OFSPihkWgq1E",
    "outputId": "3aeb6869-c645-4470-c4de-5de4a8aad59c"
   },
   "outputs": [
    {
     "name": "stdout",
     "output_type": "stream",
     "text": [
      "parameters:  {'W1': array([[ 0.88202617,  0.2000786 ,  0.48936899,  1.1204466 ,  0.933779  ,\n",
      "        -0.48863894,  0.47504421, -0.0756786 ],\n",
      "       [-0.05160943,  0.20529925,  0.07202179,  0.72713675,  0.38051886,\n",
      "         0.06083751,  0.22193162,  0.16683716],\n",
      "       [ 0.74703954, -0.10257913,  0.15653385, -0.42704787, -1.27649491,\n",
      "         0.3268093 ,  0.4322181 , -0.37108251],\n",
      "       [ 1.13487731, -0.72718284,  0.02287926, -0.09359193,  0.76638961,\n",
      "         0.73467938,  0.07747371,  0.18908126]]), 'B1': array([[-0.88778575, -1.98079647, -0.34791215,  0.15634897,  1.23029068,\n",
      "         1.20237985, -0.38732682, -0.30230275]]), 'W2': array([[-0.37071946, -0.50205216, -0.60325761,  0.68970326, -0.18018926,\n",
      "        -0.15488265, -0.44293005,  0.27488435],\n",
      "       [-0.57059906, -0.07521505, -0.31659524,  0.13679069, -0.18059689,\n",
      "        -0.41741651, -0.00996392,  0.15143819],\n",
      "       [ 0.02351739,  0.10693997, -0.22426673, -0.12824837, -0.23775067,\n",
      "        -0.12712124, -0.28749063, -0.61033307],\n",
      "       [ 0.06272961, -0.14205101, -0.57636215,  0.16361824, -0.32077841,\n",
      "         0.01836547,  0.25777244,  0.04560235],\n",
      "       [ 0.40283898, -0.43657686,  0.14224925, -0.24211693, -0.30787328,\n",
      "        -0.20465426, -0.11015045,  0.01985745],\n",
      "       [-0.41194268,  0.31849026,  0.16463653, -0.54314416,  0.52617661,\n",
      "         0.67029805,  0.41676151, -0.06361304],\n",
      "       [-0.37856822,  0.37280498, -0.14254458,  0.4321996 ,  0.07363632,\n",
      "         0.34529404,  0.12599455,  0.24981134],\n",
      "       [ 0.00371232,  0.63140057,  0.0448702 ,  0.1421247 ,  0.66579431,\n",
      "        -0.47650479, -0.44918428,  0.34273349]]), 'B2': array([[-1.17312341,  1.94362119, -0.41361898, -0.74745481,  1.92294203,\n",
      "         1.48051479,  1.86755896,  0.90604466]]), 'W3': array([[-0.30448926,  0.67530994, -0.0947535 ],\n",
      "       [ 0.28371118,  0.33490414, -0.05480434],\n",
      "       [ 0.21710984,  0.3260493 ,  0.13308652],\n",
      "       [-0.38869688,  0.10544312,  0.46894823],\n",
      "       [-0.24556682, -0.0529038 , -0.15385001],\n",
      "       [ 0.65381346,  0.23769209,  0.14405951],\n",
      "       [-0.27220644,  0.19065338, -0.2384126 ],\n",
      "       [ 0.0112538 , -0.22480554,  0.23915528]]), 'B3': array([[ 0.57659082, -0.20829876,  0.39600671]])}\n",
      "update_params : {'v_w1': 0, 'v_b1': 0, 'm_w1': 0, 'm_b1': 0, 'v_w2': 0, 'v_b2': 0, 'm_w2': 0, 'm_b2': 0, 'v_w3': 0, 'v_b3': 0, 'm_w3': 0, 'm_b3': 0}\n"
     ]
    },
    {
     "name": "stderr",
     "output_type": "stream",
     "text": [
      "<ipython-input-5-d46152a1b57e>:148: TqdmDeprecationWarning: This function will be removed in tqdm==5.0.0\n",
      "Please use `tqdm.notebook.tqdm` instead of `tqdm.tqdm_notebook`\n",
      "  for epoch in tqdm_notebook(range(epochs),unit=\"epoch\",total=epochs):\n"
     ]
    },
    {
     "data": {
      "application/vnd.jupyter.widget-view+json": {
       "model_id": "5834c47c22c84bb79d3c154d47f1b434",
       "version_major": 2,
       "version_minor": 0
      },
      "text/plain": [
       "  0%|          | 0/800 [00:00<?, ?epoch/s]"
      ]
     },
     "metadata": {},
     "output_type": "display_data"
    },
    {
     "data": {
      "image/png": "[encoded data removed]",
      "text/plain": [
       "<Figure size 432x288 with 2 Axes>"
      ]
     },
     "metadata": {
      "needs_background": "light"
     },
     "output_type": "display_data"
    },
    {
     "data": {
      "image/png": "[encoded data removed]",
      "text/plain": [
       "<Figure size 432x288 with 1 Axes>"
      ]
     },
     "metadata": {
      "needs_background": "light"
     },
     "output_type": "display_data"
    },
    {
     "name": "stdout",
     "output_type": "stream",
     "text": [
      "The training accuracy is: 98.3333\n",
      "The validation accuracy is: 100.0\n"
     ]
    }
   ],
   "source": [
    "mlp = Nueral_Network(init_algo='xavier',activation='relu')\n",
    "mlp.fit(X_train,Y_train_one_hot,display_loss=True,epochs=800,eta=0.008,beta=0.8,algo='GD')\n",
    "print_accuracy()"
   ]
  },
  {
   "cell_type": "code",
   "execution_count": 14,
   "metadata": {
    "colab": {
     "base_uri": "https://localhost:8080/",
     "height": 1000,
     "referenced_widgets": [
      "7daf6c875c264963a8292aca31c11e95",
      "ff1870ef211b4f0885ed74516b86eb27",
      "64b2f118d04d4a5ba915b8b2d57f458c",
      "55154431353243c6816733ab750de69c",
      "c50560388993439d8126b142ef9bf463",
      "27adcfc62ca14b60b69a0b8957e1f2b1",
      "d5e908d8c5c84f7b94f8bc63ead142b6",
      "9a4f6d6bf1e24d008e8ad2cb9f8314e2"
     ]
    },
    "id": "53CkiaeMgq1E",
    "outputId": "e7320321-6823-43ee-d28b-8164f5e1e1b6"
   },
   "outputs": [
    {
     "name": "stdout",
     "output_type": "stream",
     "text": [
      "parameters:  {'W1': array([[ 0.88202617,  0.2000786 ,  0.48936899,  1.1204466 ,  0.933779  ,\n",
      "        -0.48863894,  0.47504421, -0.0756786 ],\n",
      "       [-0.05160943,  0.20529925,  0.07202179,  0.72713675,  0.38051886,\n",
      "         0.06083751,  0.22193162,  0.16683716],\n",
      "       [ 0.74703954, -0.10257913,  0.15653385, -0.42704787, -1.27649491,\n",
      "         0.3268093 ,  0.4322181 , -0.37108251],\n",
      "       [ 1.13487731, -0.72718284,  0.02287926, -0.09359193,  0.76638961,\n",
      "         0.73467938,  0.07747371,  0.18908126]]), 'B1': array([[-0.88778575, -1.98079647, -0.34791215,  0.15634897,  1.23029068,\n",
      "         1.20237985, -0.38732682, -0.30230275]]), 'W2': array([[-0.37071946, -0.50205216, -0.60325761,  0.68970326, -0.18018926,\n",
      "        -0.15488265, -0.44293005,  0.27488435],\n",
      "       [-0.57059906, -0.07521505, -0.31659524,  0.13679069, -0.18059689,\n",
      "        -0.41741651, -0.00996392,  0.15143819],\n",
      "       [ 0.02351739,  0.10693997, -0.22426673, -0.12824837, -0.23775067,\n",
      "        -0.12712124, -0.28749063, -0.61033307],\n",
      "       [ 0.06272961, -0.14205101, -0.57636215,  0.16361824, -0.32077841,\n",
      "         0.01836547,  0.25777244,  0.04560235],\n",
      "       [ 0.40283898, -0.43657686,  0.14224925, -0.24211693, -0.30787328,\n",
      "        -0.20465426, -0.11015045,  0.01985745],\n",
      "       [-0.41194268,  0.31849026,  0.16463653, -0.54314416,  0.52617661,\n",
      "         0.67029805,  0.41676151, -0.06361304],\n",
      "       [-0.37856822,  0.37280498, -0.14254458,  0.4321996 ,  0.07363632,\n",
      "         0.34529404,  0.12599455,  0.24981134],\n",
      "       [ 0.00371232,  0.63140057,  0.0448702 ,  0.1421247 ,  0.66579431,\n",
      "        -0.47650479, -0.44918428,  0.34273349]]), 'B2': array([[-1.17312341,  1.94362119, -0.41361898, -0.74745481,  1.92294203,\n",
      "         1.48051479,  1.86755896,  0.90604466]]), 'W3': array([[-0.30448926,  0.67530994, -0.0947535 ],\n",
      "       [ 0.28371118,  0.33490414, -0.05480434],\n",
      "       [ 0.21710984,  0.3260493 ,  0.13308652],\n",
      "       [-0.38869688,  0.10544312,  0.46894823],\n",
      "       [-0.24556682, -0.0529038 , -0.15385001],\n",
      "       [ 0.65381346,  0.23769209,  0.14405951],\n",
      "       [-0.27220644,  0.19065338, -0.2384126 ],\n",
      "       [ 0.0112538 , -0.22480554,  0.23915528]]), 'B3': array([[ 0.57659082, -0.20829876,  0.39600671]])}\n",
      "update_params : {'v_w1': 0, 'v_b1': 0, 'm_w1': 0, 'm_b1': 0, 'v_w2': 0, 'v_b2': 0, 'm_w2': 0, 'm_b2': 0, 'v_w3': 0, 'v_b3': 0, 'm_w3': 0, 'm_b3': 0}\n"
     ]
    },
    {
     "name": "stderr",
     "output_type": "stream",
     "text": [
      "<ipython-input-5-d46152a1b57e>:148: TqdmDeprecationWarning: This function will be removed in tqdm==5.0.0\n",
      "Please use `tqdm.notebook.tqdm` instead of `tqdm.tqdm_notebook`\n",
      "  for epoch in tqdm_notebook(range(epochs),unit=\"epoch\",total=epochs):\n"
     ]
    },
    {
     "data": {
      "application/vnd.jupyter.widget-view+json": {
       "model_id": "ecd839f123484688b14a5c1ab2213679",
       "version_major": 2,
       "version_minor": 0
      },
      "text/plain": [
       "  0%|          | 0/800 [00:00<?, ?epoch/s]"
      ]
     },
     "metadata": {},
     "output_type": "display_data"
    },
    {
     "data": {
      "image/png": "[encoded data removed]",
      "text/plain": [
       "<Figure size 432x288 with 2 Axes>"
      ]
     },
     "metadata": {
      "needs_background": "light"
     },
     "output_type": "display_data"
    },
    {
     "data": {
      "image/png": "[encoded data removed]",
      "text/plain": [
       "<Figure size 432x288 with 1 Axes>"
      ]
     },
     "metadata": {
      "needs_background": "light"
     },
     "output_type": "display_data"
    },
    {
     "name": "stdout",
     "output_type": "stream",
     "text": [
      "The training accuracy is: 96.6667\n",
      "The validation accuracy is: 100.0\n"
     ]
    }
   ],
   "source": [
    "mlp = Nueral_Network(init_algo='xavier',activation='relu')\n",
    "mlp.fit(X_train,Y_train_one_hot,display_loss=True,epochs=800,eta=0.008,beta=0.8,algo='GD',l2_norm=True,lambda_val=15)\n",
    "print_accuracy()"
   ]
  },
  {
   "cell_type": "code",
   "execution_count": 15,
   "metadata": {
    "colab": {
     "base_uri": "https://localhost:8080/",
     "height": 1000,
     "referenced_widgets": [
      "753372cc17f44f8a8697231b03b9588a",
      "05122aa1ed4841dfb86450da23067cd2",
      "6681cd9005a24db9b542dbd91921c103",
      "d9fbad99ae2749da9b5e89676f2b48b5",
      "9831f07a49144405afa7fbaaf88d208e",
      "0322816fc41e4b4ab48badf5e8a28dd9",
      "6956041c590845268ddb870066c4ad30",
      "8ab78f98052a4523982969a06fb3f394"
     ]
    },
    "id": "-HG_iRLegq1F",
    "outputId": "ccabe0dc-7f5a-4add-f54c-924f00bda432"
   },
   "outputs": [
    {
     "name": "stdout",
     "output_type": "stream",
     "text": [
      "parameters:  {'W1': array([[ 0.88202617,  0.2000786 ,  0.48936899,  1.1204466 ,  0.933779  ,\n",
      "        -0.48863894,  0.47504421, -0.0756786 ],\n",
      "       [-0.05160943,  0.20529925,  0.07202179,  0.72713675,  0.38051886,\n",
      "         0.06083751,  0.22193162,  0.16683716],\n",
      "       [ 0.74703954, -0.10257913,  0.15653385, -0.42704787, -1.27649491,\n",
      "         0.3268093 ,  0.4322181 , -0.37108251],\n",
      "       [ 1.13487731, -0.72718284,  0.02287926, -0.09359193,  0.76638961,\n",
      "         0.73467938,  0.07747371,  0.18908126]]), 'B1': array([[-0.88778575, -1.98079647, -0.34791215,  0.15634897,  1.23029068,\n",
      "         1.20237985, -0.38732682, -0.30230275]]), 'W2': array([[-0.37071946, -0.50205216, -0.60325761,  0.68970326, -0.18018926,\n",
      "        -0.15488265, -0.44293005,  0.27488435],\n",
      "       [-0.57059906, -0.07521505, -0.31659524,  0.13679069, -0.18059689,\n",
      "        -0.41741651, -0.00996392,  0.15143819],\n",
      "       [ 0.02351739,  0.10693997, -0.22426673, -0.12824837, -0.23775067,\n",
      "        -0.12712124, -0.28749063, -0.61033307],\n",
      "       [ 0.06272961, -0.14205101, -0.57636215,  0.16361824, -0.32077841,\n",
      "         0.01836547,  0.25777244,  0.04560235],\n",
      "       [ 0.40283898, -0.43657686,  0.14224925, -0.24211693, -0.30787328,\n",
      "        -0.20465426, -0.11015045,  0.01985745],\n",
      "       [-0.41194268,  0.31849026,  0.16463653, -0.54314416,  0.52617661,\n",
      "         0.67029805,  0.41676151, -0.06361304],\n",
      "       [-0.37856822,  0.37280498, -0.14254458,  0.4321996 ,  0.07363632,\n",
      "         0.34529404,  0.12599455,  0.24981134],\n",
      "       [ 0.00371232,  0.63140057,  0.0448702 ,  0.1421247 ,  0.66579431,\n",
      "        -0.47650479, -0.44918428,  0.34273349]]), 'B2': array([[-1.17312341,  1.94362119, -0.41361898, -0.74745481,  1.92294203,\n",
      "         1.48051479,  1.86755896,  0.90604466]]), 'W3': array([[-0.30448926,  0.67530994, -0.0947535 ],\n",
      "       [ 0.28371118,  0.33490414, -0.05480434],\n",
      "       [ 0.21710984,  0.3260493 ,  0.13308652],\n",
      "       [-0.38869688,  0.10544312,  0.46894823],\n",
      "       [-0.24556682, -0.0529038 , -0.15385001],\n",
      "       [ 0.65381346,  0.23769209,  0.14405951],\n",
      "       [-0.27220644,  0.19065338, -0.2384126 ],\n",
      "       [ 0.0112538 , -0.22480554,  0.23915528]]), 'B3': array([[ 0.57659082, -0.20829876,  0.39600671]])}\n",
      "update_params : {'v_w1': 0, 'v_b1': 0, 'm_w1': 0, 'm_b1': 0, 'v_w2': 0, 'v_b2': 0, 'm_w2': 0, 'm_b2': 0, 'v_w3': 0, 'v_b3': 0, 'm_w3': 0, 'm_b3': 0}\n"
     ]
    },
    {
     "name": "stderr",
     "output_type": "stream",
     "text": [
      "<ipython-input-5-d46152a1b57e>:148: TqdmDeprecationWarning: This function will be removed in tqdm==5.0.0\n",
      "Please use `tqdm.notebook.tqdm` instead of `tqdm.tqdm_notebook`\n",
      "  for epoch in tqdm_notebook(range(epochs),unit=\"epoch\",total=epochs):\n"
     ]
    },
    {
     "data": {
      "application/vnd.jupyter.widget-view+json": {
       "model_id": "16051c9821b34395aed09a76e2f8b986",
       "version_major": 2,
       "version_minor": 0
      },
      "text/plain": [
       "  0%|          | 0/750 [00:00<?, ?epoch/s]"
      ]
     },
     "metadata": {},
     "output_type": "display_data"
    },
    {
     "data": {
      "image/png": "[encoded data removed]",
      "text/plain": [
       "<Figure size 432x288 with 2 Axes>"
      ]
     },
     "metadata": {
      "needs_background": "light"
     },
     "output_type": "display_data"
    },
    {
     "data": {
      "image/png": "[encoded data removed]",
      "text/plain": [
       "<Figure size 432x288 with 1 Axes>"
      ]
     },
     "metadata": {
      "needs_background": "light"
     },
     "output_type": "display_data"
    },
    {
     "name": "stdout",
     "output_type": "stream",
     "text": [
      "The training accuracy is: 96.6667\n",
      "The validation accuracy is: 100.0\n"
     ]
    }
   ],
   "source": [
    "mlp = Nueral_Network(init_algo='xavier',activation='relu')\n",
    "mlp.fit(X_train,Y_train_one_hot,display_loss=True,epochs=750,eta=0.008,beta=0.8,algo='GD',l2_norm=True,lambda_val=12)\n",
    "print_accuracy()"
   ]
  },
  {
   "cell_type": "code",
   "execution_count": 16,
   "metadata": {
    "colab": {
     "base_uri": "https://localhost:8080/",
     "height": 1000,
     "referenced_widgets": [
      "23b9727a09bf4d788b0d8b630452fb0d",
      "4992ba869f494561befb13f0037fda86",
      "f9a6785467c94f3f99a2019ac7a6bc63",
      "5d90d7e2c5c1402594ad148cc183f437",
      "bc717d2a6631460ca83455bbb20e12b5",
      "91855b32d037416299dbfd664f4ce1f6",
      "922fdfbb30254db9af18afb495912040",
      "324a7739709c4fe78962bcaa7b19d808"
     ]
    },
    "id": "frvbpcMFgq1F",
    "outputId": "63ed927d-5e0f-4031-9b22-1992c9bf9b1e"
   },
   "outputs": [
    {
     "name": "stdout",
     "output_type": "stream",
     "text": [
      "parameters:  {'W1': array([[ 0.88202617,  0.2000786 ,  0.48936899,  1.1204466 ,  0.933779  ,\n",
      "        -0.48863894,  0.47504421, -0.0756786 ],\n",
      "       [-0.05160943,  0.20529925,  0.07202179,  0.72713675,  0.38051886,\n",
      "         0.06083751,  0.22193162,  0.16683716],\n",
      "       [ 0.74703954, -0.10257913,  0.15653385, -0.42704787, -1.27649491,\n",
      "         0.3268093 ,  0.4322181 , -0.37108251],\n",
      "       [ 1.13487731, -0.72718284,  0.02287926, -0.09359193,  0.76638961,\n",
      "         0.73467938,  0.07747371,  0.18908126]]), 'B1': array([[-0.88778575, -1.98079647, -0.34791215,  0.15634897,  1.23029068,\n",
      "         1.20237985, -0.38732682, -0.30230275]]), 'W2': array([[-0.37071946, -0.50205216, -0.60325761,  0.68970326, -0.18018926,\n",
      "        -0.15488265, -0.44293005,  0.27488435],\n",
      "       [-0.57059906, -0.07521505, -0.31659524,  0.13679069, -0.18059689,\n",
      "        -0.41741651, -0.00996392,  0.15143819],\n",
      "       [ 0.02351739,  0.10693997, -0.22426673, -0.12824837, -0.23775067,\n",
      "        -0.12712124, -0.28749063, -0.61033307],\n",
      "       [ 0.06272961, -0.14205101, -0.57636215,  0.16361824, -0.32077841,\n",
      "         0.01836547,  0.25777244,  0.04560235],\n",
      "       [ 0.40283898, -0.43657686,  0.14224925, -0.24211693, -0.30787328,\n",
      "        -0.20465426, -0.11015045,  0.01985745],\n",
      "       [-0.41194268,  0.31849026,  0.16463653, -0.54314416,  0.52617661,\n",
      "         0.67029805,  0.41676151, -0.06361304],\n",
      "       [-0.37856822,  0.37280498, -0.14254458,  0.4321996 ,  0.07363632,\n",
      "         0.34529404,  0.12599455,  0.24981134],\n",
      "       [ 0.00371232,  0.63140057,  0.0448702 ,  0.1421247 ,  0.66579431,\n",
      "        -0.47650479, -0.44918428,  0.34273349]]), 'B2': array([[-1.17312341,  1.94362119, -0.41361898, -0.74745481,  1.92294203,\n",
      "         1.48051479,  1.86755896,  0.90604466]]), 'W3': array([[-0.30448926,  0.67530994, -0.0947535 ],\n",
      "       [ 0.28371118,  0.33490414, -0.05480434],\n",
      "       [ 0.21710984,  0.3260493 ,  0.13308652],\n",
      "       [-0.38869688,  0.10544312,  0.46894823],\n",
      "       [-0.24556682, -0.0529038 , -0.15385001],\n",
      "       [ 0.65381346,  0.23769209,  0.14405951],\n",
      "       [-0.27220644,  0.19065338, -0.2384126 ],\n",
      "       [ 0.0112538 , -0.22480554,  0.23915528]]), 'B3': array([[ 0.57659082, -0.20829876,  0.39600671]])}\n",
      "update_params : {'v_w1': 0, 'v_b1': 0, 'm_w1': 0, 'm_b1': 0, 'v_w2': 0, 'v_b2': 0, 'm_w2': 0, 'm_b2': 0, 'v_w3': 0, 'v_b3': 0, 'm_w3': 0, 'm_b3': 0}\n"
     ]
    },
    {
     "name": "stderr",
     "output_type": "stream",
     "text": [
      "<ipython-input-5-d46152a1b57e>:148: TqdmDeprecationWarning: This function will be removed in tqdm==5.0.0\n",
      "Please use `tqdm.notebook.tqdm` instead of `tqdm.tqdm_notebook`\n",
      "  for epoch in tqdm_notebook(range(epochs),unit=\"epoch\",total=epochs):\n"
     ]
    },
    {
     "data": {
      "application/vnd.jupyter.widget-view+json": {
       "model_id": "4edf26e461f04d97b8e725e7f3faeaa5",
       "version_major": 2,
       "version_minor": 0
      },
      "text/plain": [
       "  0%|          | 0/750 [00:00<?, ?epoch/s]"
      ]
     },
     "metadata": {},
     "output_type": "display_data"
    },
    {
     "data": {
      "image/png": "[encoded data removed]",
      "text/plain": [
       "<Figure size 432x288 with 2 Axes>"
      ]
     },
     "metadata": {
      "needs_background": "light"
     },
     "output_type": "display_data"
    },
    {
     "data": {
      "image/png": "[encoded data removed]",
      "text/plain": [
       "<Figure size 432x288 with 1 Axes>"
      ]
     },
     "metadata": {
      "needs_background": "light"
     },
     "output_type": "display_data"
    },
    {
     "name": "stdout",
     "output_type": "stream",
     "text": [
      "The training accuracy is: 96.6667\n",
      "The validation accuracy is: 100.0\n"
     ]
    }
   ],
   "source": [
    "mlp = Nueral_Network(init_algo='xavier',activation='relu')\n",
    "mlp.fit(X_train,Y_train_one_hot,display_loss=True,epochs=750,eta=0.008,beta=0.8,algo='GD',l2_norm=True,lambda_val=12)\n",
    "print_accuracy()"
   ]
  },
  {
   "cell_type": "markdown",
   "metadata": {
    "id": "NpYga4g-gq1F"
   },
   "source": [
    "## Early Stopping"
   ]
  },
  {
   "cell_type": "code",
   "execution_count": 17,
   "metadata": {
    "colab": {
     "base_uri": "https://localhost:8080/",
     "height": 1000,
     "referenced_widgets": [
      "d09ea46456b746d6be03f656072f6a05",
      "07d95b160d3d43fca5ee0b891359d4ec",
      "aafaee241a8a472e84227d49bb5f6eaa",
      "16413eccfe0a4249ad811f8946bdac70",
      "966bc70c633947259dfcde0d93e2a175",
      "79dac01783c948b8a1ce24941fb77c90",
      "23f0ab406ab14ef2bb8975d9968f669d",
      "fb24293f6ee6401486eb72dc9830a301"
     ]
    },
    "id": "OAQimHNjgq1F",
    "outputId": "0b1ee46d-12b9-44af-f55e-54c4a208c7f0"
   },
   "outputs": [
    {
     "name": "stdout",
     "output_type": "stream",
     "text": [
      "parameters:  {'W1': array([[ 0.88202617,  0.2000786 ,  0.48936899,  1.1204466 ,  0.933779  ,\n",
      "        -0.48863894,  0.47504421, -0.0756786 ],\n",
      "       [-0.05160943,  0.20529925,  0.07202179,  0.72713675,  0.38051886,\n",
      "         0.06083751,  0.22193162,  0.16683716],\n",
      "       [ 0.74703954, -0.10257913,  0.15653385, -0.42704787, -1.27649491,\n",
      "         0.3268093 ,  0.4322181 , -0.37108251],\n",
      "       [ 1.13487731, -0.72718284,  0.02287926, -0.09359193,  0.76638961,\n",
      "         0.73467938,  0.07747371,  0.18908126]]), 'B1': array([[-0.88778575, -1.98079647, -0.34791215,  0.15634897,  1.23029068,\n",
      "         1.20237985, -0.38732682, -0.30230275]]), 'W2': array([[-0.37071946, -0.50205216, -0.60325761,  0.68970326, -0.18018926,\n",
      "        -0.15488265, -0.44293005,  0.27488435],\n",
      "       [-0.57059906, -0.07521505, -0.31659524,  0.13679069, -0.18059689,\n",
      "        -0.41741651, -0.00996392,  0.15143819],\n",
      "       [ 0.02351739,  0.10693997, -0.22426673, -0.12824837, -0.23775067,\n",
      "        -0.12712124, -0.28749063, -0.61033307],\n",
      "       [ 0.06272961, -0.14205101, -0.57636215,  0.16361824, -0.32077841,\n",
      "         0.01836547,  0.25777244,  0.04560235],\n",
      "       [ 0.40283898, -0.43657686,  0.14224925, -0.24211693, -0.30787328,\n",
      "        -0.20465426, -0.11015045,  0.01985745],\n",
      "       [-0.41194268,  0.31849026,  0.16463653, -0.54314416,  0.52617661,\n",
      "         0.67029805,  0.41676151, -0.06361304],\n",
      "       [-0.37856822,  0.37280498, -0.14254458,  0.4321996 ,  0.07363632,\n",
      "         0.34529404,  0.12599455,  0.24981134],\n",
      "       [ 0.00371232,  0.63140057,  0.0448702 ,  0.1421247 ,  0.66579431,\n",
      "        -0.47650479, -0.44918428,  0.34273349]]), 'B2': array([[-1.17312341,  1.94362119, -0.41361898, -0.74745481,  1.92294203,\n",
      "         1.48051479,  1.86755896,  0.90604466]]), 'W3': array([[-0.30448926,  0.67530994, -0.0947535 ],\n",
      "       [ 0.28371118,  0.33490414, -0.05480434],\n",
      "       [ 0.21710984,  0.3260493 ,  0.13308652],\n",
      "       [-0.38869688,  0.10544312,  0.46894823],\n",
      "       [-0.24556682, -0.0529038 , -0.15385001],\n",
      "       [ 0.65381346,  0.23769209,  0.14405951],\n",
      "       [-0.27220644,  0.19065338, -0.2384126 ],\n",
      "       [ 0.0112538 , -0.22480554,  0.23915528]]), 'B3': array([[ 0.57659082, -0.20829876,  0.39600671]])}\n",
      "update_params : {'v_w1': 0, 'v_b1': 0, 'm_w1': 0, 'm_b1': 0, 'v_w2': 0, 'v_b2': 0, 'm_w2': 0, 'm_b2': 0, 'v_w3': 0, 'v_b3': 0, 'm_w3': 0, 'm_b3': 0}\n"
     ]
    },
    {
     "name": "stderr",
     "output_type": "stream",
     "text": [
      "<ipython-input-5-d46152a1b57e>:148: TqdmDeprecationWarning: This function will be removed in tqdm==5.0.0\n",
      "Please use `tqdm.notebook.tqdm` instead of `tqdm.tqdm_notebook`\n",
      "  for epoch in tqdm_notebook(range(epochs),unit=\"epoch\",total=epochs):\n"
     ]
    },
    {
     "data": {
      "application/vnd.jupyter.widget-view+json": {
       "model_id": "1009f57d060c494a9969b78a46185746",
       "version_major": 2,
       "version_minor": 0
      },
      "text/plain": [
       "  0%|          | 0/500 [00:00<?, ?epoch/s]"
      ]
     },
     "metadata": {},
     "output_type": "display_data"
    },
    {
     "data": {
      "image/png": "[encoded data removed]",
      "text/plain": [
       "<Figure size 432x288 with 2 Axes>"
      ]
     },
     "metadata": {
      "needs_background": "light"
     },
     "output_type": "display_data"
    },
    {
     "data": {
      "image/png": "[encoded data removed]",
      "text/plain": [
       "<Figure size 432x288 with 1 Axes>"
      ]
     },
     "metadata": {
      "needs_background": "light"
     },
     "output_type": "display_data"
    },
    {
     "name": "stdout",
     "output_type": "stream",
     "text": [
      "The training accuracy is: 95.8333\n",
      "The validation accuracy is: 100.0\n"
     ]
    }
   ],
   "source": [
    "mlp = Nueral_Network(init_algo='xavier',activation='relu')\n",
    "mlp.fit(X_train,Y_train_one_hot,display_loss=True,epochs=500,eta=0.008,beta=0.8,algo='GD',l2_norm=True,lambda_val=12)\n",
    "print_accuracy()"
   ]
  },
  {
   "cell_type": "markdown",
   "metadata": {
    "id": "VWweKHrvgq1F"
   },
   "source": [
    "# He with Relu"
   ]
  },
  {
   "cell_type": "code",
   "execution_count": 18,
   "metadata": {
    "colab": {
     "base_uri": "https://localhost:8080/",
     "height": 1000,
     "referenced_widgets": [
      "cdafbee37d0c4b9c92118d9471cbb7f8",
      "925313ada67c492a9d83f341799caca9",
      "ad9ab84bb1fe4b64999aee172138a912",
      "90e97ad735794272b501bd849b94cb0a",
      "d366303f9982474999615333f6d85623",
      "590705c90d8b413a85672e3fd6a2212e",
      "eaaec69293f2418db00de0ec3890b993",
      "1a810f1cd1d9419bb089c73633f2fdf9"
     ]
    },
    "id": "LmYZkKx1gq1G",
    "outputId": "cc9cdfd4-6379-4d51-9f38-4cf6e9bb6a3a"
   },
   "outputs": [
    {
     "name": "stdout",
     "output_type": "stream",
     "text": [
      "parameters:  {'W1': array([[ 1.24737338,  0.28295388,  0.69207227,  1.58455078,  1.32056292,\n",
      "        -0.69103982,  0.67181396, -0.10702571],\n",
      "       [-0.07298675,  0.29033699,  0.10185419,  1.02832666,  0.53813494,\n",
      "         0.08603723,  0.3138587 ,  0.23594338],\n",
      "       [ 1.05647344, -0.1450688 ,  0.22137229, -0.60393689, -1.80523641,\n",
      "         0.46217814,  0.6112487 , -0.52478992],\n",
      "       [ 1.60495889, -1.02839183,  0.03235616, -0.13235897,  1.08383858,\n",
      "         1.03899355,  0.10956438,  0.26740128]]), 'B1': array([[-0.88778575, -1.98079647, -0.34791215,  0.15634897,  1.23029068,\n",
      "         1.20237985, -0.38732682, -0.30230275]]), 'W2': array([[-0.52427648, -0.71000897, -0.8531351 ,  0.9753877 , -0.25482609,\n",
      "        -0.21903715, -0.62639768,  0.38874518],\n",
      "       [-0.80694892, -0.10637014, -0.44773328,  0.19345125, -0.25540257,\n",
      "        -0.59031609, -0.01409111,  0.21416594],\n",
      "       [ 0.03325861,  0.15123595, -0.31716105, -0.18137058, -0.33623022,\n",
      "        -0.17977658, -0.40657314, -0.8631413 ],\n",
      "       [ 0.08871307, -0.20089047, -0.81509917,  0.23139113, -0.45364918,\n",
      "         0.0259727 ,  0.36454528,  0.06449146],\n",
      "       [ 0.56970034, -0.61741291,  0.20117082, -0.34240505, -0.43539857,\n",
      "        -0.28942483, -0.15577627,  0.02808267],\n",
      "       [-0.58257492,  0.45041324,  0.23283122, -0.76812184,  0.7441261 ,\n",
      "         0.94794459,  0.58938979, -0.08996242],\n",
      "       [-0.53537631,  0.52722586, -0.20158847,  0.61122254,  0.10413749,\n",
      "         0.48831952,  0.1781832 ,  0.35328658],\n",
      "       [ 0.00525001,  0.89293525,  0.06345605,  0.20099468,  0.94157535,\n",
      "        -0.67387953, -0.6352425 ,  0.48469835]]), 'B2': array([[-1.17312341,  1.94362119, -0.41361898, -0.74745481,  1.92294203,\n",
      "         1.48051479,  1.86755896,  0.90604466]]), 'W3': array([[-0.43061284,  0.95503248, -0.13400169],\n",
      "       [ 0.4012282 ,  0.47362598, -0.07750505],\n",
      "       [ 0.30703969,  0.46110334,  0.18821277],\n",
      "       [-0.5497004 ,  0.14911909,  0.66319295],\n",
      "       [-0.34728393, -0.07481727, -0.21757678],\n",
      "       [ 0.92463186,  0.33614738,  0.20373092],\n",
      "       [-0.38495804,  0.2696246 , -0.33716633],\n",
      "       [ 0.01591528, -0.31792304,  0.33821665]]), 'B3': array([[ 0.57659082, -0.20829876,  0.39600671]])}\n",
      "update_params : {'v_w1': 0, 'v_b1': 0, 'm_w1': 0, 'm_b1': 0, 'v_w2': 0, 'v_b2': 0, 'm_w2': 0, 'm_b2': 0, 'v_w3': 0, 'v_b3': 0, 'm_w3': 0, 'm_b3': 0}\n"
     ]
    },
    {
     "name": "stderr",
     "output_type": "stream",
     "text": [
      "<ipython-input-5-d46152a1b57e>:148: TqdmDeprecationWarning: This function will be removed in tqdm==5.0.0\n",
      "Please use `tqdm.notebook.tqdm` instead of `tqdm.tqdm_notebook`\n",
      "  for epoch in tqdm_notebook(range(epochs),unit=\"epoch\",total=epochs):\n"
     ]
    },
    {
     "data": {
      "application/vnd.jupyter.widget-view+json": {
       "model_id": "c2766a2ae92e4ded987dddced013e7fd",
       "version_major": 2,
       "version_minor": 0
      },
      "text/plain": [
       "  0%|          | 0/700 [00:00<?, ?epoch/s]"
      ]
     },
     "metadata": {},
     "output_type": "display_data"
    },
    {
     "data": {
      "image/png": "[encoded data removed]",
      "text/plain": [
       "<Figure size 432x288 with 2 Axes>"
      ]
     },
     "metadata": {
      "needs_background": "light"
     },
     "output_type": "display_data"
    },
    {
     "data": {
      "image/png": "[encoded data removed]",
      "text/plain": [
       "<Figure size 432x288 with 1 Axes>"
      ]
     },
     "metadata": {
      "needs_background": "light"
     },
     "output_type": "display_data"
    },
    {
     "name": "stdout",
     "output_type": "stream",
     "text": [
      "The training accuracy is: 85.0\n",
      "The validation accuracy is: 90.0\n"
     ]
    }
   ],
   "source": [
    "mlp = Nueral_Network(init_algo='he',activation='relu')\n",
    "mlp.fit(X_train,Y_train_one_hot,display_loss=True,epochs=700,eta=0.001,beta=0.8,algo='GD')\n",
    "print_accuracy()"
   ]
  },
  {
   "cell_type": "markdown",
   "metadata": {
    "id": "fWX9g4Hogq1G"
   },
   "source": [
    "# Xavier with sigmoid"
   ]
  },
  {
   "cell_type": "code",
   "execution_count": 19,
   "metadata": {
    "colab": {
     "base_uri": "https://localhost:8080/",
     "height": 1000,
     "referenced_widgets": [
      "e64c4f8b4d574b4886257dc9e1817442",
      "03694d96304f4c9dbc81d8b2e1114eb7",
      "5c58cf439648465d965968ea34d40401",
      "963eb015dd06468abe912d5e8fd1bc03",
      "292037675da34bb69e4dd5d524167019",
      "a806085d6e664e5399dcb01a4c53bbce",
      "8813b849275b403d8608b532153cb166",
      "be708fb8e9084e2398759b8d5bef2350"
     ]
    },
    "id": "2etMBBdAgq1G",
    "outputId": "b67fc808-1177-4aab-eae8-fdf5659a2daf"
   },
   "outputs": [
    {
     "name": "stdout",
     "output_type": "stream",
     "text": [
      "parameters:  {'W1': array([[ 0.88202617,  0.2000786 ,  0.48936899,  1.1204466 ,  0.933779  ,\n",
      "        -0.48863894,  0.47504421, -0.0756786 ],\n",
      "       [-0.05160943,  0.20529925,  0.07202179,  0.72713675,  0.38051886,\n",
      "         0.06083751,  0.22193162,  0.16683716],\n",
      "       [ 0.74703954, -0.10257913,  0.15653385, -0.42704787, -1.27649491,\n",
      "         0.3268093 ,  0.4322181 , -0.37108251],\n",
      "       [ 1.13487731, -0.72718284,  0.02287926, -0.09359193,  0.76638961,\n",
      "         0.73467938,  0.07747371,  0.18908126]]), 'B1': array([[-0.88778575, -1.98079647, -0.34791215,  0.15634897,  1.23029068,\n",
      "         1.20237985, -0.38732682, -0.30230275]]), 'W2': array([[-0.37071946, -0.50205216, -0.60325761,  0.68970326, -0.18018926,\n",
      "        -0.15488265, -0.44293005,  0.27488435],\n",
      "       [-0.57059906, -0.07521505, -0.31659524,  0.13679069, -0.18059689,\n",
      "        -0.41741651, -0.00996392,  0.15143819],\n",
      "       [ 0.02351739,  0.10693997, -0.22426673, -0.12824837, -0.23775067,\n",
      "        -0.12712124, -0.28749063, -0.61033307],\n",
      "       [ 0.06272961, -0.14205101, -0.57636215,  0.16361824, -0.32077841,\n",
      "         0.01836547,  0.25777244,  0.04560235],\n",
      "       [ 0.40283898, -0.43657686,  0.14224925, -0.24211693, -0.30787328,\n",
      "        -0.20465426, -0.11015045,  0.01985745],\n",
      "       [-0.41194268,  0.31849026,  0.16463653, -0.54314416,  0.52617661,\n",
      "         0.67029805,  0.41676151, -0.06361304],\n",
      "       [-0.37856822,  0.37280498, -0.14254458,  0.4321996 ,  0.07363632,\n",
      "         0.34529404,  0.12599455,  0.24981134],\n",
      "       [ 0.00371232,  0.63140057,  0.0448702 ,  0.1421247 ,  0.66579431,\n",
      "        -0.47650479, -0.44918428,  0.34273349]]), 'B2': array([[-1.17312341,  1.94362119, -0.41361898, -0.74745481,  1.92294203,\n",
      "         1.48051479,  1.86755896,  0.90604466]]), 'W3': array([[-0.30448926,  0.67530994, -0.0947535 ],\n",
      "       [ 0.28371118,  0.33490414, -0.05480434],\n",
      "       [ 0.21710984,  0.3260493 ,  0.13308652],\n",
      "       [-0.38869688,  0.10544312,  0.46894823],\n",
      "       [-0.24556682, -0.0529038 , -0.15385001],\n",
      "       [ 0.65381346,  0.23769209,  0.14405951],\n",
      "       [-0.27220644,  0.19065338, -0.2384126 ],\n",
      "       [ 0.0112538 , -0.22480554,  0.23915528]]), 'B3': array([[ 0.57659082, -0.20829876,  0.39600671]])}\n",
      "update_params : {'v_w1': 0, 'v_b1': 0, 'm_w1': 0, 'm_b1': 0, 'v_w2': 0, 'v_b2': 0, 'm_w2': 0, 'm_b2': 0, 'v_w3': 0, 'v_b3': 0, 'm_w3': 0, 'm_b3': 0}\n"
     ]
    },
    {
     "name": "stderr",
     "output_type": "stream",
     "text": [
      "<ipython-input-5-d46152a1b57e>:148: TqdmDeprecationWarning: This function will be removed in tqdm==5.0.0\n",
      "Please use `tqdm.notebook.tqdm` instead of `tqdm.tqdm_notebook`\n",
      "  for epoch in tqdm_notebook(range(epochs),unit=\"epoch\",total=epochs):\n"
     ]
    },
    {
     "data": {
      "application/vnd.jupyter.widget-view+json": {
       "model_id": "c4f302d67d504c0d829842d8410ea718",
       "version_major": 2,
       "version_minor": 0
      },
      "text/plain": [
       "  0%|          | 0/400 [00:00<?, ?epoch/s]"
      ]
     },
     "metadata": {},
     "output_type": "display_data"
    },
    {
     "data": {
      "image/png": "[encoded data removed]",
      "text/plain": [
       "<Figure size 432x288 with 2 Axes>"
      ]
     },
     "metadata": {
      "needs_background": "light"
     },
     "output_type": "display_data"
    },
    {
     "data": {
      "image/png": "[encoded data removed]",
      "text/plain": [
       "<Figure size 432x288 with 1 Axes>"
      ]
     },
     "metadata": {
      "needs_background": "light"
     },
     "output_type": "display_data"
    },
    {
     "name": "stdout",
     "output_type": "stream",
     "text": [
      "The training accuracy is: 72.5\n",
      "The validation accuracy is: 70.0\n"
     ]
    }
   ],
   "source": [
    "mlp = Nueral_Network(init_algo='xavier',activation='sigmoid')\n",
    "mlp.fit(X_train,Y_train_one_hot,display_loss=True,epochs=400,eta=0.2,beta=0.8,algo='GD')\n",
    "print_accuracy()"
   ]
  },
  {
   "cell_type": "markdown",
   "metadata": {
    "id": "ImOA_DVdgq1G"
   },
   "source": [
    "# Xavier with tanh"
   ]
  },
  {
   "cell_type": "code",
   "execution_count": 20,
   "metadata": {
    "colab": {
     "base_uri": "https://localhost:8080/",
     "height": 1000,
     "referenced_widgets": [
      "b778c7d5a564429db501b9b5c49eabb3",
      "d0541fc9d57443cda37eb8522e69b458",
      "5fd34d412cfe4dceb9a8d53f5bac48ec",
      "3f7f96ec2a3742ef8c8e27611a8944cb",
      "504b737d8a5a427ea5f5e4dff9842c04",
      "ed18f308d52546febf60ddac7d09328d",
      "84e26cee388e48849de51235a7109597",
      "1410eaebccae4e12af0bc8fabc989acd"
     ]
    },
    "id": "LjUiF2qTgq1H",
    "outputId": "0f7125dd-cb6b-4764-a754-ed5fbd1ce6a3"
   },
   "outputs": [
    {
     "name": "stdout",
     "output_type": "stream",
     "text": [
      "parameters:  {'W1': array([[ 0.88202617,  0.2000786 ,  0.48936899,  1.1204466 ,  0.933779  ,\n",
      "        -0.48863894,  0.47504421, -0.0756786 ],\n",
      "       [-0.05160943,  0.20529925,  0.07202179,  0.72713675,  0.38051886,\n",
      "         0.06083751,  0.22193162,  0.16683716],\n",
      "       [ 0.74703954, -0.10257913,  0.15653385, -0.42704787, -1.27649491,\n",
      "         0.3268093 ,  0.4322181 , -0.37108251],\n",
      "       [ 1.13487731, -0.72718284,  0.02287926, -0.09359193,  0.76638961,\n",
      "         0.73467938,  0.07747371,  0.18908126]]), 'B1': array([[-0.88778575, -1.98079647, -0.34791215,  0.15634897,  1.23029068,\n",
      "         1.20237985, -0.38732682, -0.30230275]]), 'W2': array([[-0.37071946, -0.50205216, -0.60325761,  0.68970326, -0.18018926,\n",
      "        -0.15488265, -0.44293005,  0.27488435, -0.57059906, -0.07521505,\n",
      "        -0.31659524,  0.13679069, -0.18059689, -0.41741651, -0.00996392,\n",
      "         0.15143819],\n",
      "       [ 0.02351739,  0.10693997, -0.22426673, -0.12824837, -0.23775067,\n",
      "        -0.12712124, -0.28749063, -0.61033307,  0.06272961, -0.14205101,\n",
      "        -0.57636215,  0.16361824, -0.32077841,  0.01836547,  0.25777244,\n",
      "         0.04560235],\n",
      "       [ 0.40283898, -0.43657686,  0.14224925, -0.24211693, -0.30787328,\n",
      "        -0.20465426, -0.11015045,  0.01985745, -0.41194268,  0.31849026,\n",
      "         0.16463653, -0.54314416,  0.52617661,  0.67029805,  0.41676151,\n",
      "        -0.06361304],\n",
      "       [-0.37856822,  0.37280498, -0.14254458,  0.4321996 ,  0.07363632,\n",
      "         0.34529404,  0.12599455,  0.24981134,  0.00371232,  0.63140057,\n",
      "         0.0448702 ,  0.1421247 ,  0.66579431, -0.47650479, -0.44918428,\n",
      "         0.34273349],\n",
      "       [-0.41476176,  0.68717386, -0.14623639, -0.26426518,  0.67986267,\n",
      "         0.52344102,  0.6602818 ,  0.32033516, -0.30448926,  0.67530994,\n",
      "        -0.0947535 ,  0.28371118,  0.33490414, -0.05480434,  0.21710984,\n",
      "         0.3260493 ],\n",
      "       [ 0.13308652, -0.38869688,  0.10544312,  0.46894823, -0.24556682,\n",
      "        -0.0529038 , -0.15385001,  0.65381346,  0.23769209,  0.14405951,\n",
      "        -0.27220644,  0.19065338, -0.2384126 ,  0.0112538 , -0.22480554,\n",
      "         0.23915528],\n",
      "       [ 0.20385564, -0.07364473,  0.14000952, -0.3864556 , -0.52723918,\n",
      "         0.15534843,  0.05892798,  0.22451752,  0.84256892,  0.33392392,\n",
      "        -0.32273139,  0.3949249 , -0.46524353, -0.1631948 , -0.02412705,\n",
      "         0.60575813],\n",
      "       [-0.26331059, -0.29219015, -0.03480822, -0.234575  ,  0.39832595,\n",
      "        -0.38181345, -0.40569143, -0.15479276, -0.17608106,  0.6821926 ,\n",
      "         0.33567095,  0.03095404, -0.43325688,  0.29852739, -0.35362953,\n",
      "        -0.54615906]]), 'B2': array([[ 1.18802979,  0.31694261,  0.92085882,  0.31872765,  0.85683061,\n",
      "        -0.65102559, -1.03424284,  0.68159452, -0.80340966, -0.68954978,\n",
      "        -0.4555325 ,  0.01747916, -0.35399391, -1.37495129, -0.6436184 ,\n",
      "        -2.22340315]]), 'W3': array([[ 0.15630786, -0.40051441, -0.27609583],\n",
      "       [ 0.01304127, -0.18489075,  0.38575365],\n",
      "       [-0.32321423,  0.06676272, -0.0098207 ],\n",
      "       [-0.29202337,  0.13081917, -0.04288658],\n",
      "       [ 0.19294764,  0.20587604,  0.54080899],\n",
      "       [ 0.33413199, -0.09229546, -0.05984479],\n",
      "       [ 0.2749149 ,  0.16381593,  0.16003288],\n",
      "       [-0.40423901, -0.00608153, -0.18450773],\n",
      "       [ 0.06998115, -0.0245376 ,  0.22754473],\n",
      "       [ 0.07930455,  0.19658199, -0.11660477],\n",
      "       [-0.23611156, -0.10251242, -0.0042551 ],\n",
      "       [ 0.09478793,  0.56482724, -0.01056429],\n",
      "       [-0.23898625, -0.08649544, -0.11589899],\n",
      "       [ 0.12037037, -0.38519925,  0.0158155 ],\n",
      "       [ 0.03912663,  0.05804526, -0.14932902],\n",
      "       [-0.05948043, -0.35601523, -0.12332997]]), 'B3': array([[-0.54286148,  0.41605005, -1.15618243]])}\n",
      "update_params : {'v_w1': 0, 'v_b1': 0, 'm_w1': 0, 'm_b1': 0, 'v_w2': 0, 'v_b2': 0, 'm_w2': 0, 'm_b2': 0, 'v_w3': 0, 'v_b3': 0, 'm_w3': 0, 'm_b3': 0}\n"
     ]
    },
    {
     "name": "stderr",
     "output_type": "stream",
     "text": [
      "<ipython-input-5-d46152a1b57e>:148: TqdmDeprecationWarning: This function will be removed in tqdm==5.0.0\n",
      "Please use `tqdm.notebook.tqdm` instead of `tqdm.tqdm_notebook`\n",
      "  for epoch in tqdm_notebook(range(epochs),unit=\"epoch\",total=epochs):\n"
     ]
    },
    {
     "data": {
      "application/vnd.jupyter.widget-view+json": {
       "model_id": "d2fa5f76ecfb43f4b0bb5726d98aae32",
       "version_major": 2,
       "version_minor": 0
      },
      "text/plain": [
       "  0%|          | 0/150 [00:00<?, ?epoch/s]"
      ]
     },
     "metadata": {},
     "output_type": "display_data"
    },
    {
     "data": {
      "image/png": "[encoded data removed]",
      "text/plain": [
       "<Figure size 432x288 with 2 Axes>"
      ]
     },
     "metadata": {
      "needs_background": "light"
     },
     "output_type": "display_data"
    },
    {
     "data": {
      "image/png": "[encoded data removed]",
      "text/plain": [
       "<Figure size 432x288 with 1 Axes>"
      ]
     },
     "metadata": {
      "needs_background": "light"
     },
     "output_type": "display_data"
    },
    {
     "name": "stdout",
     "output_type": "stream",
     "text": [
      "The training accuracy is: 90.0\n",
      "The validation accuracy is: 93.3333\n"
     ]
    }
   ],
   "source": [
    "mlp = Nueral_Network(init_algo='xavier',activation='tanh',num_nu1=8,num_nu2=16)\n",
    "mlp.fit(X_train,Y_train_one_hot,display_loss=True,epochs=150,eta=0.05,beta=0.8,algo='GD')\n",
    "print_accuracy()"
   ]
  },
  {
   "cell_type": "markdown",
   "metadata": {
    "id": "7mhjb-Gpgq1H"
   },
   "source": [
    "# He with ReLU"
   ]
  },
  {
   "cell_type": "code",
   "execution_count": 21,
   "metadata": {
    "colab": {
     "base_uri": "https://localhost:8080/",
     "height": 1000,
     "referenced_widgets": [
      "53eca61e9b0647e3ad67bf6bde90602b",
      "cec62e79b725479087ec56710a6f1834",
      "d48af63365384bf5b928a5bbfc07a8fd",
      "48fb154a52e646d482050b15f2cee308",
      "02f751cbd8904d648b17226f7d678ae8",
      "c55cd7de1ded43a78beb64f74799c1c0",
      "fe61720a35874f29a08f48bccbf9dbb6",
      "3e13060cbc7447a9b5a3e19e28f965ee"
     ]
    },
    "id": "h6XGrcVQgq1H",
    "outputId": "34282dd8-c698-4128-f0da-0e753b126d47"
   },
   "outputs": [
    {
     "name": "stdout",
     "output_type": "stream",
     "text": [
      "parameters:  {'W1': array([[ 1.24737338,  0.28295388,  0.69207227,  1.58455078,  1.32056292,\n",
      "        -0.69103982,  0.67181396, -0.10702571],\n",
      "       [-0.07298675,  0.29033699,  0.10185419,  1.02832666,  0.53813494,\n",
      "         0.08603723,  0.3138587 ,  0.23594338],\n",
      "       [ 1.05647344, -0.1450688 ,  0.22137229, -0.60393689, -1.80523641,\n",
      "         0.46217814,  0.6112487 , -0.52478992],\n",
      "       [ 1.60495889, -1.02839183,  0.03235616, -0.13235897,  1.08383858,\n",
      "         1.03899355,  0.10956438,  0.26740128]]), 'B1': array([[-0.88778575, -1.98079647, -0.34791215,  0.15634897,  1.23029068,\n",
      "         1.20237985, -0.38732682, -0.30230275]]), 'W2': array([[-0.52427648, -0.71000897, -0.8531351 ,  0.9753877 , -0.25482609,\n",
      "        -0.21903715, -0.62639768,  0.38874518, -0.80694892, -0.10637014,\n",
      "        -0.44773328,  0.19345125, -0.25540257, -0.59031609, -0.01409111,\n",
      "         0.21416594],\n",
      "       [ 0.03325861,  0.15123595, -0.31716105, -0.18137058, -0.33623022,\n",
      "        -0.17977658, -0.40657314, -0.8631413 ,  0.08871307, -0.20089047,\n",
      "        -0.81509917,  0.23139113, -0.45364918,  0.0259727 ,  0.36454528,\n",
      "         0.06449146],\n",
      "       [ 0.56970034, -0.61741291,  0.20117082, -0.34240505, -0.43539857,\n",
      "        -0.28942483, -0.15577627,  0.02808267, -0.58257492,  0.45041324,\n",
      "         0.23283122, -0.76812184,  0.7441261 ,  0.94794459,  0.58938979,\n",
      "        -0.08996242],\n",
      "       [-0.53537631,  0.52722586, -0.20158847,  0.61122254,  0.10413749,\n",
      "         0.48831952,  0.1781832 ,  0.35328658,  0.00525001,  0.89293525,\n",
      "         0.06345605,  0.20099468,  0.94157535, -0.67387953, -0.6352425 ,\n",
      "         0.48469835],\n",
      "       [-0.5865617 ,  0.97181059, -0.20680949, -0.37372741,  0.96147101,\n",
      "         0.7402574 ,  0.93377948,  0.45302233, -0.43061284,  0.95503248,\n",
      "        -0.13400169,  0.4012282 ,  0.47362598, -0.07750505,  0.30703969,\n",
      "         0.46110334],\n",
      "       [ 0.18821277, -0.5497004 ,  0.14911909,  0.66319295, -0.34728393,\n",
      "        -0.07481727, -0.21757678,  0.92463186,  0.33614738,  0.20373092,\n",
      "        -0.38495804,  0.2696246 , -0.33716633,  0.01591528, -0.31792304,\n",
      "         0.33821665],\n",
      "       [ 0.28829541, -0.10414938,  0.19800336, -0.54653075, -0.7456288 ,\n",
      "         0.21969585,  0.08333675,  0.31751572,  1.19157239,  0.47223974,\n",
      "        -0.45641111,  0.55850814, -0.65795371, -0.2307923 , -0.0341208 ,\n",
      "         0.85667136],\n",
      "       [-0.37237741, -0.41321927, -0.04922626, -0.33173914,  0.56331796,\n",
      "        -0.53996575, -0.57373433, -0.21891002, -0.24901623,  0.96476603,\n",
      "         0.4747104 ,  0.04377562, -0.61271776,  0.42218149, -0.50010767,\n",
      "        -0.77238555]]), 'B2': array([[ 1.18802979,  0.31694261,  0.92085882,  0.31872765,  0.85683061,\n",
      "        -0.65102559, -1.03424284,  0.68159452, -0.80340966, -0.68954978,\n",
      "        -0.4555325 ,  0.01747916, -0.35399391, -1.37495129, -0.6436184 ,\n",
      "        -2.22340315]]), 'W3': array([[ 0.2210527 , -0.56641292, -0.39045847],\n",
      "       [ 0.01844314, -0.261475  ,  0.54553804],\n",
      "       [-0.45709394,  0.09441674, -0.01388857],\n",
      "       [-0.41298342,  0.18500624, -0.06065079],\n",
      "       [ 0.27286917,  0.29115269,  0.7648194 ],\n",
      "       [ 0.47253399, -0.13052549, -0.08463332],\n",
      "       [ 0.38878838,  0.23167071,  0.22632067],\n",
      "       [-0.57168029, -0.00860058, -0.26093333],\n",
      "       [ 0.09896829, -0.0347014 ,  0.32179684],\n",
      "       [ 0.11215358,  0.27800892, -0.16490405],\n",
      "       [-0.33391218, -0.14497446, -0.00601763],\n",
      "       [ 0.13405038,  0.79878634, -0.01494016],\n",
      "       [-0.3379776 , -0.12232303, -0.16390593],\n",
      "       [ 0.17022941, -0.54475401,  0.02236649],\n",
      "       [ 0.05533342,  0.08208839, -0.21118312],\n",
      "       [-0.08411803, -0.50348156, -0.17441492]]), 'B3': array([[-0.54286148,  0.41605005, -1.15618243]])}\n",
      "update_params : {'v_w1': 0, 'v_b1': 0, 'm_w1': 0, 'm_b1': 0, 'v_w2': 0, 'v_b2': 0, 'm_w2': 0, 'm_b2': 0, 'v_w3': 0, 'v_b3': 0, 'm_w3': 0, 'm_b3': 0}\n"
     ]
    },
    {
     "name": "stderr",
     "output_type": "stream",
     "text": [
      "<ipython-input-5-d46152a1b57e>:148: TqdmDeprecationWarning: This function will be removed in tqdm==5.0.0\n",
      "Please use `tqdm.notebook.tqdm` instead of `tqdm.tqdm_notebook`\n",
      "  for epoch in tqdm_notebook(range(epochs),unit=\"epoch\",total=epochs):\n"
     ]
    },
    {
     "data": {
      "application/vnd.jupyter.widget-view+json": {
       "model_id": "8023e28ef30c4e37a0be2928e0067ce7",
       "version_major": 2,
       "version_minor": 0
      },
      "text/plain": [
       "  0%|          | 0/200 [00:00<?, ?epoch/s]"
      ]
     },
     "metadata": {},
     "output_type": "display_data"
    },
    {
     "data": {
      "image/png": "[encoded data removed]",
      "text/plain": [
       "<Figure size 432x288 with 2 Axes>"
      ]
     },
     "metadata": {
      "needs_background": "light"
     },
     "output_type": "display_data"
    },
    {
     "data": {
      "image/png": "[encoded data removed]",
      "text/plain": [
       "<Figure size 432x288 with 1 Axes>"
      ]
     },
     "metadata": {
      "needs_background": "light"
     },
     "output_type": "display_data"
    },
    {
     "name": "stdout",
     "output_type": "stream",
     "text": [
      "The training accuracy is: 96.6667\n",
      "The validation accuracy is: 100.0\n"
     ]
    }
   ],
   "source": [
    "mlp = Nueral_Network(init_algo='he',activation='relu',num_nu1=8,num_nu2=16)\n",
    "mlp.fit(X_train,Y_train_one_hot,display_loss=True,epochs=200,eta=0.01,beta=0.8,algo='GD')\n",
    "print_accuracy()"
   ]
  },
  {
   "cell_type": "markdown",
   "metadata": {
    "id": "hfbskUb_gq1H"
   },
   "source": [
    "# He with Leaky Relu"
   ]
  },
  {
   "cell_type": "code",
   "execution_count": 22,
   "metadata": {
    "colab": {
     "base_uri": "https://localhost:8080/",
     "height": 1000,
     "referenced_widgets": [
      "06fe1a10d0e44e69876cc0b136872817",
      "88d158cc33c647609c055f2b223b56cb",
      "b0ac730bf489483fbd281984dd72cc88",
      "19e7c13e04ac419e870eb1a9815da51d",
      "58b29290667d42dd9cf934aa3e530514",
      "a25888b6fa924cc6a93a95954d705bd9",
      "acd63fa955d2442ea2e33e22ffba4eb8",
      "44c00aa0aed54d52acb762f8f10f8b2e"
     ]
    },
    "id": "nq6jprKWgq1H",
    "outputId": "f4a87577-8cd6-49a7-897c-ffa88af5c6fe"
   },
   "outputs": [
    {
     "name": "stdout",
     "output_type": "stream",
     "text": [
      "parameters:  {'W1': array([[ 1.24737338,  0.28295388,  0.69207227,  1.58455078,  1.32056292,\n",
      "        -0.69103982,  0.67181396, -0.10702571, -0.07298675,  0.29033699,\n",
      "         0.10185419,  1.02832666,  0.53813494,  0.08603723,  0.3138587 ,\n",
      "         0.23594338],\n",
      "       [ 1.05647344, -0.1450688 ,  0.22137229, -0.60393689, -1.80523641,\n",
      "         0.46217814,  0.6112487 , -0.52478992,  1.60495889, -1.02839183,\n",
      "         0.03235616, -0.13235897,  1.08383858,  1.03899355,  0.10956438,\n",
      "         0.26740128],\n",
      "       [-0.62775932, -1.40063461, -0.24601104,  0.11055542,  0.86994688,\n",
      "         0.85021094, -0.27388142, -0.21376032, -0.74143891, -1.00410431,\n",
      "        -1.20651522,  1.37940651, -0.36037851, -0.30976531, -0.88586009,\n",
      "         0.5497687 ],\n",
      "       [-1.14119811, -0.15043009, -0.63319048,  0.27358138, -0.36119378,\n",
      "        -0.83483302, -0.01992784,  0.30287637,  0.04703478,  0.21387993,\n",
      "        -0.44853345, -0.25649674, -0.47550134, -0.25424248, -0.57498125,\n",
      "        -1.22066613]]), 'B1': array([[ 0.17742614, -0.40178094, -1.63019835,  0.46278226, -0.90729836,\n",
      "         0.0519454 ,  0.72909056,  0.12898291,  1.13940068, -1.23482582,\n",
      "         0.40234164, -0.68481009, -0.87079715, -0.57884966, -0.31155253,\n",
      "         0.05616534]]), 'W2': array([[-0.41194268,  0.31849026,  0.16463653, -0.54314416,  0.52617661,\n",
      "         0.67029805,  0.41676151, -0.06361304, -0.37856822,  0.37280498,\n",
      "        -0.14254458,  0.4321996 ,  0.07363632,  0.34529404,  0.12599455,\n",
      "         0.24981134],\n",
      "       [ 0.00371232,  0.63140057,  0.0448702 ,  0.1421247 ,  0.66579431,\n",
      "        -0.47650479, -0.44918428,  0.34273349, -0.41476176,  0.68717386,\n",
      "        -0.14623639, -0.26426518,  0.67986267,  0.52344102,  0.6602818 ,\n",
      "         0.32033516],\n",
      "       [-0.30448926,  0.67530994, -0.0947535 ,  0.28371118,  0.33490414,\n",
      "        -0.05480434,  0.21710984,  0.3260493 ,  0.13308652, -0.38869688,\n",
      "         0.10544312,  0.46894823, -0.24556682, -0.0529038 , -0.15385001,\n",
      "         0.65381346],\n",
      "       [ 0.23769209,  0.14405951, -0.27220644,  0.19065338, -0.2384126 ,\n",
      "         0.0112538 , -0.22480554,  0.23915528,  0.20385564, -0.07364473,\n",
      "         0.14000952, -0.3864556 , -0.52723918,  0.15534843,  0.05892798,\n",
      "         0.22451752],\n",
      "       [ 0.84256892,  0.33392392, -0.32273139,  0.3949249 , -0.46524353,\n",
      "        -0.1631948 , -0.02412705,  0.60575813, -0.26331059, -0.29219015,\n",
      "        -0.03480822, -0.234575  ,  0.39832595, -0.38181345, -0.40569143,\n",
      "        -0.15479276],\n",
      "       [-0.17608106,  0.6821926 ,  0.33567095,  0.03095404, -0.43325688,\n",
      "         0.29852739, -0.35362953, -0.54615906,  0.42003196,  0.11205614,\n",
      "         0.32557276,  0.11268724,  0.30293537, -0.23017231, -0.36566006,\n",
      "         0.24098005],\n",
      "       [-0.28404821, -0.24379266, -0.16105506,  0.00617982, -0.12515575,\n",
      "        -0.48611869, -0.22755347, -0.78609172,  0.2210527 , -0.56641292,\n",
      "        -0.39045847,  0.01844314, -0.261475  ,  0.54553804, -0.45709394,\n",
      "         0.09441674],\n",
      "       [-0.01388857, -0.41298342,  0.18500624, -0.06065079,  0.27286917,\n",
      "         0.29115269,  0.7648194 ,  0.47253399, -0.13052549, -0.08463332,\n",
      "         0.38878838,  0.23167071,  0.22632067, -0.57168029, -0.00860058,\n",
      "        -0.26093333],\n",
      "       [ 0.09896829, -0.0347014 ,  0.32179684,  0.11215358,  0.27800892,\n",
      "        -0.16490405, -0.33391218, -0.14497446, -0.00601763,  0.13405038,\n",
      "         0.79878634, -0.01494016, -0.3379776 , -0.12232303, -0.16390593,\n",
      "         0.17022941],\n",
      "       [-0.54475401,  0.02236649,  0.05533342,  0.08208839, -0.21118312,\n",
      "        -0.08411803, -0.50348156, -0.17441492, -0.19193052,  0.1470959 ,\n",
      "        -0.40877222,  0.27619524,  0.52838008, -0.73185022,  0.15070522,\n",
      "         0.23932313],\n",
      "       [-0.22536802, -0.1404568 , -0.04698038, -0.10528498, -0.10925258,\n",
      "        -0.59255683,  0.40741073,  0.38170281, -0.28756769, -0.51845929,\n",
      "         0.18422425, -0.20357179,  0.05018802, -0.11289964,  0.24449587,\n",
      "         0.24563092],\n",
      "       [-0.25653741, -0.48909302, -0.55965324,  0.2158017 , -0.42032522,\n",
      "        -0.17918664, -0.21082885, -0.01858535, -0.68457829,  0.06674331,\n",
      "         0.18522345,  0.03126193, -0.10991486,  0.03443616,  0.14108419,\n",
      "        -0.98025957],\n",
      "       [ 0.69151943,  0.13791882, -0.23066127, -0.13822289,  0.17456408,\n",
      "        -0.04104894, -0.71795538,  0.72990845, -0.03908202,  0.36068552,\n",
      "        -0.24467657,  0.54319132,  0.10123778,  0.2152588 , -0.36955287,\n",
      "         0.42820452],\n",
      "       [ 0.24388755,  0.46027215, -0.22206249, -0.17006877,  0.81455756,\n",
      "        -0.37477219, -0.04806548,  0.4019518 ,  0.03455099,  0.20610525,\n",
      "        -0.14122656,  0.13083451, -0.461927  ,  0.58623772, -0.0417773 ,\n",
      "        -0.24047931],\n",
      "       [ 0.235602  , -0.16288904, -0.47173161, -0.47613654,  0.24528585,\n",
      "        -0.05641773, -0.04727064,  0.38103998, -0.39839309, -0.2583336 ,\n",
      "        -0.13607556,  0.03335832, -0.01490986, -0.10142994, -0.02178822,\n",
      "        -0.03793814],\n",
      "       [-0.25441857, -0.28743643,  0.09705619, -0.31498605, -0.40918688,\n",
      "        -0.11041198, -0.05574371,  0.79787224, -0.24914917,  0.33349303,\n",
      "         0.26417097, -0.42035552,  0.27338621, -0.41856501, -0.94015936,\n",
      "         0.21436632]]), 'B2': array([[-1.75589058,  0.45093446, -0.6840109 ,  1.6595508 ,  1.0685094 ,\n",
      "        -0.4533858 , -0.68783761, -1.2140774 , -0.44092263, -0.2803555 ,\n",
      "        -0.36469354,  0.15670386,  0.5785215 ,  0.34965446, -0.76414392,\n",
      "        -1.43779147]]), 'W3': array([[ 0.48243486, -0.2437571 , -0.23062061],\n",
      "       [-0.18426825, -0.65162349, -0.16898933],\n",
      "       [-0.16958394,  0.21932978,  0.24694189],\n",
      "       [ 0.00133321,  0.32945815,  0.12019577],\n",
      "       [-0.00554446,  0.0568967 , -0.06740619],\n",
      "       [-0.13960038, -0.0946581 , -0.39881223],\n",
      "       [ 0.09915112, -0.35112222,  0.29756159],\n",
      "       [-0.08819693,  0.01749912,  0.17459767],\n",
      "       [ 0.22744601, -0.55529923, -0.0731515 ],\n",
      "       [ 0.31119024, -0.60037107,  0.13692433],\n",
      "       [-0.79746238, -0.36151076,  0.01365796],\n",
      "       [-0.58573724, -0.34843066, -0.52037226],\n",
      "       [ 0.58270369,  0.05806328,  0.2005674 ],\n",
      "       [-0.07872754, -0.12495699, -0.57150993],\n",
      "       [-0.10318009, -0.26922815,  0.30332191],\n",
      "       [ 0.40344043,  0.51851388,  0.30142263]]), 'B3': array([[-0.59865394, -1.11589699,  0.76666318]])}\n",
      "update_params : {'v_w1': 0, 'v_b1': 0, 'm_w1': 0, 'm_b1': 0, 'v_w2': 0, 'v_b2': 0, 'm_w2': 0, 'm_b2': 0, 'v_w3': 0, 'v_b3': 0, 'm_w3': 0, 'm_b3': 0}\n"
     ]
    },
    {
     "name": "stderr",
     "output_type": "stream",
     "text": [
      "<ipython-input-5-d46152a1b57e>:148: TqdmDeprecationWarning: This function will be removed in tqdm==5.0.0\n",
      "Please use `tqdm.notebook.tqdm` instead of `tqdm.tqdm_notebook`\n",
      "  for epoch in tqdm_notebook(range(epochs),unit=\"epoch\",total=epochs):\n"
     ]
    },
    {
     "data": {
      "application/vnd.jupyter.widget-view+json": {
       "model_id": "33111e8fbc5c4a4ebc993b0023e787b0",
       "version_major": 2,
       "version_minor": 0
      },
      "text/plain": [
       "  0%|          | 0/2200 [00:00<?, ?epoch/s]"
      ]
     },
     "metadata": {},
     "output_type": "display_data"
    },
    {
     "data": {
      "image/png": "[encoded data removed]",
      "text/plain": [
       "<Figure size 432x288 with 2 Axes>"
      ]
     },
     "metadata": {
      "needs_background": "light"
     },
     "output_type": "display_data"
    },
    {
     "data": {
      "image/png": "[encoded data removed]",
      "text/plain": [
       "<Figure size 432x288 with 1 Axes>"
      ]
     },
     "metadata": {
      "needs_background": "light"
     },
     "output_type": "display_data"
    },
    {
     "name": "stdout",
     "output_type": "stream",
     "text": [
      "The training accuracy is: 98.3333\n",
      "The validation accuracy is: 100.0\n"
     ]
    }
   ],
   "source": [
    "mlp = Nueral_Network(init_algo='he',activation='leaky relu',num_nu1=16,num_nu2=16)\n",
    "mlp.fit(X_train,Y_train_one_hot,display_loss=True,epochs=2200,eta=0.01,beta=0.8,algo='GD')\n",
    "print_accuracy()"
   ]
  },
  {
   "cell_type": "code",
   "execution_count": null,
   "metadata": {
    "id": "R48g-3HCgq1I"
   },
   "outputs": [],
   "source": []
  },
  {
   "cell_type": "code",
   "execution_count": null,
   "metadata": {
    "id": "WWZ6Fynpgq1I"
   },
   "outputs": [],
   "source": []
  }
 ],
 "metadata": {
  "colab": {
   "collapsed_sections": [],
   "name": "IRIS with varous activation fn.ipynb",
   "provenance": []
  },
  "kernelspec": {
   "display_name": "Python 3",
   "language": "python",
   "name": "python3"
  },
  "language_info": {
   "codemirror_mode": {
    "name": "ipython",
    "version": 3
   },
   "file_extension": ".py",
   "mimetype": "text/x-python",
   "name": "python",
   "nbconvert_exporter": "python",
   "pygments_lexer": "ipython3",
   "version": "3.8.5"
  },
  "widgets": {
   "application/vnd.jupyter.widget-state+json": {
    "008cd6601907406ba823409deccce84f": {
     "model_module": "@jupyter-widgets/base",
     "model_name": "LayoutModel",
     "state": {
      "_model_module": "@jupyter-widgets/base",
      "_model_module_version": "1.2.0",
      "_model_name": "LayoutModel",
      "_view_count": null,
      "_view_module": "@jupyter-widgets/base",
      "_view_module_version": "1.2.0",
      "_view_name": "LayoutView",
      "align_content": null,
      "align_items": null,
      "align_self": null,
      "border": null,
      "bottom": null,
      "display": null,
      "flex": null,
      "flex_flow": null,
      "grid_area": null,
      "grid_auto_columns": null,
      "grid_auto_flow": null,
      "grid_auto_rows": null,
      "grid_column": null,
      "grid_gap": null,
      "grid_row": null,
      "grid_template_areas": null,
      "grid_template_columns": null,
      "grid_template_rows": null,
      "height": null,
      "justify_content": null,
      "justify_items": null,
      "left": null,
      "margin": null,
      "max_height": null,
      "max_width": null,
      "min_height": null,
      "min_width": null,
      "object_fit": null,
      "object_position": null,
      "order": null,
      "overflow": null,
      "overflow_x": null,
      "overflow_y": null,
      "padding": null,
      "right": null,
      "top": null,
      "visibility": null,
      "width": null
     }
    },
    "01f9e0605b8948c59b56eaefe449013a": {
     "model_module": "@jupyter-widgets/base",
     "model_name": "LayoutModel",
     "state": {
      "_model_module": "@jupyter-widgets/base",
      "_model_module_version": "1.2.0",
      "_model_name": "LayoutModel",
      "_view_count": null,
      "_view_module": "@jupyter-widgets/base",
      "_view_module_version": "1.2.0",
      "_view_name": "LayoutView",
      "align_content": null,
      "align_items": null,
      "align_self": null,
      "border": null,
      "bottom": null,
      "display": null,
      "flex": null,
      "flex_flow": null,
      "grid_area": null,
      "grid_auto_columns": null,
      "grid_auto_flow": null,
      "grid_auto_rows": null,
      "grid_column": null,
      "grid_gap": null,
      "grid_row": null,
      "grid_template_areas": null,
      "grid_template_columns": null,
      "grid_template_rows": null,
      "height": null,
      "justify_content": null,
      "justify_items": null,
      "left": null,
      "margin": null,
      "max_height": null,
      "max_width": null,
      "min_height": null,
      "min_width": null,
      "object_fit": null,
      "object_position": null,
      "order": null,
      "overflow": null,
      "overflow_x": null,
      "overflow_y": null,
      "padding": null,
      "right": null,
      "top": null,
      "visibility": null,
      "width": null
     }
    },
    "02f751cbd8904d648b17226f7d678ae8": {
     "model_module": "@jupyter-widgets/controls",
     "model_name": "ProgressStyleModel",
     "state": {
      "_model_module": "@jupyter-widgets/controls",
      "_model_module_version": "1.5.0",
      "_model_name": "ProgressStyleModel",
      "_view_count": null,
      "_view_module": "@jupyter-widgets/base",
      "_view_module_version": "1.2.0",
      "_view_name": "StyleView",
      "bar_color": null,
      "description_width": "initial"
     }
    },
    "0322816fc41e4b4ab48badf5e8a28dd9": {
     "model_module": "@jupyter-widgets/base",
     "model_name": "LayoutModel",
     "state": {
      "_model_module": "@jupyter-widgets/base",
      "_model_module_version": "1.2.0",
      "_model_name": "LayoutModel",
      "_view_count": null,
      "_view_module": "@jupyter-widgets/base",
      "_view_module_version": "1.2.0",
      "_view_name": "LayoutView",
      "align_content": null,
      "align_items": null,
      "align_self": null,
      "border": null,
      "bottom": null,
      "display": null,
      "flex": null,
      "flex_flow": null,
      "grid_area": null,
      "grid_auto_columns": null,
      "grid_auto_flow": null,
      "grid_auto_rows": null,
      "grid_column": null,
      "grid_gap": null,
      "grid_row": null,
      "grid_template_areas": null,
      "grid_template_columns": null,
      "grid_template_rows": null,
      "height": null,
      "justify_content": null,
      "justify_items": null,
      "left": null,
      "margin": null,
      "max_height": null,
      "max_width": null,
      "min_height": null,
      "min_width": null,
      "object_fit": null,
      "object_position": null,
      "order": null,
      "overflow": null,
      "overflow_x": null,
      "overflow_y": null,
      "padding": null,
      "right": null,
      "top": null,
      "visibility": null,
      "width": null
     }
    },
    "03694d96304f4c9dbc81d8b2e1114eb7": {
     "model_module": "@jupyter-widgets/base",
     "model_name": "LayoutModel",
     "state": {
      "_model_module": "@jupyter-widgets/base",
      "_model_module_version": "1.2.0",
      "_model_name": "LayoutModel",
      "_view_count": null,
      "_view_module": "@jupyter-widgets/base",
      "_view_module_version": "1.2.0",
      "_view_name": "LayoutView",
      "align_content": null,
      "align_items": null,
      "align_self": null,
      "border": null,
      "bottom": null,
      "display": null,
      "flex": null,
      "flex_flow": null,
      "grid_area": null,
      "grid_auto_columns": null,
      "grid_auto_flow": null,
      "grid_auto_rows": null,
      "grid_column": null,
      "grid_gap": null,
      "grid_row": null,
      "grid_template_areas": null,
      "grid_template_columns": null,
      "grid_template_rows": null,
      "height": null,
      "justify_content": null,
      "justify_items": null,
      "left": null,
      "margin": null,
      "max_height": null,
      "max_width": null,
      "min_height": null,
      "min_width": null,
      "object_fit": null,
      "object_position": null,
      "order": null,
      "overflow": null,
      "overflow_x": null,
      "overflow_y": null,
      "padding": null,
      "right": null,
      "top": null,
      "visibility": null,
      "width": null
     }
    },
    "05122aa1ed4841dfb86450da23067cd2": {
     "model_module": "@jupyter-widgets/base",
     "model_name": "LayoutModel",
     "state": {
      "_model_module": "@jupyter-widgets/base",
      "_model_module_version": "1.2.0",
      "_model_name": "LayoutModel",
      "_view_count": null,
      "_view_module": "@jupyter-widgets/base",
      "_view_module_version": "1.2.0",
      "_view_name": "LayoutView",
      "align_content": null,
      "align_items": null,
      "align_self": null,
      "border": null,
      "bottom": null,
      "display": null,
      "flex": null,
      "flex_flow": null,
      "grid_area": null,
      "grid_auto_columns": null,
      "grid_auto_flow": null,
      "grid_auto_rows": null,
      "grid_column": null,
      "grid_gap": null,
      "grid_row": null,
      "grid_template_areas": null,
      "grid_template_columns": null,
      "grid_template_rows": null,
      "height": null,
      "justify_content": null,
      "justify_items": null,
      "left": null,
      "margin": null,
      "max_height": null,
      "max_width": null,
      "min_height": null,
      "min_width": null,
      "object_fit": null,
      "object_position": null,
      "order": null,
      "overflow": null,
      "overflow_x": null,
      "overflow_y": null,
      "padding": null,
      "right": null,
      "top": null,
      "visibility": null,
      "width": null
     }
    },
    "06fe1a10d0e44e69876cc0b136872817": {
     "model_module": "@jupyter-widgets/controls",
     "model_name": "HBoxModel",
     "state": {
      "_dom_classes": [],
      "_model_module": "@jupyter-widgets/controls",
      "_model_module_version": "1.5.0",
      "_model_name": "HBoxModel",
      "_view_count": null,
      "_view_module": "@jupyter-widgets/controls",
      "_view_module_version": "1.5.0",
      "_view_name": "HBoxView",
      "box_style": "",
      "children": [
       "IPY_MODEL_b0ac730bf489483fbd281984dd72cc88",
       "IPY_MODEL_19e7c13e04ac419e870eb1a9815da51d"
      ],
      "layout": "IPY_MODEL_88d158cc33c647609c055f2b223b56cb"
     }
    },
    "07d95b160d3d43fca5ee0b891359d4ec": {
     "model_module": "@jupyter-widgets/base",
     "model_name": "LayoutModel",
     "state": {
      "_model_module": "@jupyter-widgets/base",
      "_model_module_version": "1.2.0",
      "_model_name": "LayoutModel",
      "_view_count": null,
      "_view_module": "@jupyter-widgets/base",
      "_view_module_version": "1.2.0",
      "_view_name": "LayoutView",
      "align_content": null,
      "align_items": null,
      "align_self": null,
      "border": null,
      "bottom": null,
      "display": null,
      "flex": null,
      "flex_flow": null,
      "grid_area": null,
      "grid_auto_columns": null,
      "grid_auto_flow": null,
      "grid_auto_rows": null,
      "grid_column": null,
      "grid_gap": null,
      "grid_row": null,
      "grid_template_areas": null,
      "grid_template_columns": null,
      "grid_template_rows": null,
      "height": null,
      "justify_content": null,
      "justify_items": null,
      "left": null,
      "margin": null,
      "max_height": null,
      "max_width": null,
      "min_height": null,
      "min_width": null,
      "object_fit": null,
      "object_position": null,
      "order": null,
      "overflow": null,
      "overflow_x": null,
      "overflow_y": null,
      "padding": null,
      "right": null,
      "top": null,
      "visibility": null,
      "width": null
     }
    },
    "0e45420a207c422ea3e9568ff82c1680": {
     "model_module": "@jupyter-widgets/base",
     "model_name": "LayoutModel",
     "state": {
      "_model_module": "@jupyter-widgets/base",
      "_model_module_version": "1.2.0",
      "_model_name": "LayoutModel",
      "_view_count": null,
      "_view_module": "@jupyter-widgets/base",
      "_view_module_version": "1.2.0",
      "_view_name": "LayoutView",
      "align_content": null,
      "align_items": null,
      "align_self": null,
      "border": null,
      "bottom": null,
      "display": null,
      "flex": null,
      "flex_flow": null,
      "grid_area": null,
      "grid_auto_columns": null,
      "grid_auto_flow": null,
      "grid_auto_rows": null,
      "grid_column": null,
      "grid_gap": null,
      "grid_row": null,
      "grid_template_areas": null,
      "grid_template_columns": null,
      "grid_template_rows": null,
      "height": null,
      "justify_content": null,
      "justify_items": null,
      "left": null,
      "margin": null,
      "max_height": null,
      "max_width": null,
      "min_height": null,
      "min_width": null,
      "object_fit": null,
      "object_position": null,
      "order": null,
      "overflow": null,
      "overflow_x": null,
      "overflow_y": null,
      "padding": null,
      "right": null,
      "top": null,
      "visibility": null,
      "width": null
     }
    },
    "1410eaebccae4e12af0bc8fabc989acd": {
     "model_module": "@jupyter-widgets/base",
     "model_name": "LayoutModel",
     "state": {
      "_model_module": "@jupyter-widgets/base",
      "_model_module_version": "1.2.0",
      "_model_name": "LayoutModel",
      "_view_count": null,
      "_view_module": "@jupyter-widgets/base",
      "_view_module_version": "1.2.0",
      "_view_name": "LayoutView",
      "align_content": null,
      "align_items": null,
      "align_self": null,
      "border": null,
      "bottom": null,
      "display": null,
      "flex": null,
      "flex_flow": null,
      "grid_area": null,
      "grid_auto_columns": null,
      "grid_auto_flow": null,
      "grid_auto_rows": null,
      "grid_column": null,
      "grid_gap": null,
      "grid_row": null,
      "grid_template_areas": null,
      "grid_template_columns": null,
      "grid_template_rows": null,
      "height": null,
      "justify_content": null,
      "justify_items": null,
      "left": null,
      "margin": null,
      "max_height": null,
      "max_width": null,
      "min_height": null,
      "min_width": null,
      "object_fit": null,
      "object_position": null,
      "order": null,
      "overflow": null,
      "overflow_x": null,
      "overflow_y": null,
      "padding": null,
      "right": null,
      "top": null,
      "visibility": null,
      "width": null
     }
    },
    "16413eccfe0a4249ad811f8946bdac70": {
     "model_module": "@jupyter-widgets/controls",
     "model_name": "HTMLModel",
     "state": {
      "_dom_classes": [],
      "_model_module": "@jupyter-widgets/controls",
      "_model_module_version": "1.5.0",
      "_model_name": "HTMLModel",
      "_view_count": null,
      "_view_module": "@jupyter-widgets/controls",
      "_view_module_version": "1.5.0",
      "_view_name": "HTMLView",
      "description": "",
      "description_tooltip": null,
      "layout": "IPY_MODEL_fb24293f6ee6401486eb72dc9830a301",
      "placeholder": "​",
      "style": "IPY_MODEL_23f0ab406ab14ef2bb8975d9968f669d",
      "value": " 500/500 [00:01&lt;00:00, 407.90epoch/s]"
     }
    },
    "19e7c13e04ac419e870eb1a9815da51d": {
     "model_module": "@jupyter-widgets/controls",
     "model_name": "HTMLModel",
     "state": {
      "_dom_classes": [],
      "_model_module": "@jupyter-widgets/controls",
      "_model_module_version": "1.5.0",
      "_model_name": "HTMLModel",
      "_view_count": null,
      "_view_module": "@jupyter-widgets/controls",
      "_view_module_version": "1.5.0",
      "_view_name": "HTMLView",
      "description": "",
      "description_tooltip": null,
      "layout": "IPY_MODEL_44c00aa0aed54d52acb762f8f10f8b2e",
      "placeholder": "​",
      "style": "IPY_MODEL_acd63fa955d2442ea2e33e22ffba4eb8",
      "value": " 2200/2200 [00:04&lt;00:00, 495.04epoch/s]"
     }
    },
    "1a810f1cd1d9419bb089c73633f2fdf9": {
     "model_module": "@jupyter-widgets/base",
     "model_name": "LayoutModel",
     "state": {
      "_model_module": "@jupyter-widgets/base",
      "_model_module_version": "1.2.0",
      "_model_name": "LayoutModel",
      "_view_count": null,
      "_view_module": "@jupyter-widgets/base",
      "_view_module_version": "1.2.0",
      "_view_name": "LayoutView",
      "align_content": null,
      "align_items": null,
      "align_self": null,
      "border": null,
      "bottom": null,
      "display": null,
      "flex": null,
      "flex_flow": null,
      "grid_area": null,
      "grid_auto_columns": null,
      "grid_auto_flow": null,
      "grid_auto_rows": null,
      "grid_column": null,
      "grid_gap": null,
      "grid_row": null,
      "grid_template_areas": null,
      "grid_template_columns": null,
      "grid_template_rows": null,
      "height": null,
      "justify_content": null,
      "justify_items": null,
      "left": null,
      "margin": null,
      "max_height": null,
      "max_width": null,
      "min_height": null,
      "min_width": null,
      "object_fit": null,
      "object_position": null,
      "order": null,
      "overflow": null,
      "overflow_x": null,
      "overflow_y": null,
      "padding": null,
      "right": null,
      "top": null,
      "visibility": null,
      "width": null
     }
    },
    "23b9727a09bf4d788b0d8b630452fb0d": {
     "model_module": "@jupyter-widgets/controls",
     "model_name": "HBoxModel",
     "state": {
      "_dom_classes": [],
      "_model_module": "@jupyter-widgets/controls",
      "_model_module_version": "1.5.0",
      "_model_name": "HBoxModel",
      "_view_count": null,
      "_view_module": "@jupyter-widgets/controls",
      "_view_module_version": "1.5.0",
      "_view_name": "HBoxView",
      "box_style": "",
      "children": [
       "IPY_MODEL_f9a6785467c94f3f99a2019ac7a6bc63",
       "IPY_MODEL_5d90d7e2c5c1402594ad148cc183f437"
      ],
      "layout": "IPY_MODEL_4992ba869f494561befb13f0037fda86"
     }
    },
    "23f0ab406ab14ef2bb8975d9968f669d": {
     "model_module": "@jupyter-widgets/controls",
     "model_name": "DescriptionStyleModel",
     "state": {
      "_model_module": "@jupyter-widgets/controls",
      "_model_module_version": "1.5.0",
      "_model_name": "DescriptionStyleModel",
      "_view_count": null,
      "_view_module": "@jupyter-widgets/base",
      "_view_module_version": "1.2.0",
      "_view_name": "StyleView",
      "description_width": ""
     }
    },
    "24420b2f3a92494c916b821fda1179b0": {
     "model_module": "@jupyter-widgets/controls",
     "model_name": "ProgressStyleModel",
     "state": {
      "_model_module": "@jupyter-widgets/controls",
      "_model_module_version": "1.5.0",
      "_model_name": "ProgressStyleModel",
      "_view_count": null,
      "_view_module": "@jupyter-widgets/base",
      "_view_module_version": "1.2.0",
      "_view_name": "StyleView",
      "bar_color": null,
      "description_width": "initial"
     }
    },
    "27adcfc62ca14b60b69a0b8957e1f2b1": {
     "model_module": "@jupyter-widgets/base",
     "model_name": "LayoutModel",
     "state": {
      "_model_module": "@jupyter-widgets/base",
      "_model_module_version": "1.2.0",
      "_model_name": "LayoutModel",
      "_view_count": null,
      "_view_module": "@jupyter-widgets/base",
      "_view_module_version": "1.2.0",
      "_view_name": "LayoutView",
      "align_content": null,
      "align_items": null,
      "align_self": null,
      "border": null,
      "bottom": null,
      "display": null,
      "flex": null,
      "flex_flow": null,
      "grid_area": null,
      "grid_auto_columns": null,
      "grid_auto_flow": null,
      "grid_auto_rows": null,
      "grid_column": null,
      "grid_gap": null,
      "grid_row": null,
      "grid_template_areas": null,
      "grid_template_columns": null,
      "grid_template_rows": null,
      "height": null,
      "justify_content": null,
      "justify_items": null,
      "left": null,
      "margin": null,
      "max_height": null,
      "max_width": null,
      "min_height": null,
      "min_width": null,
      "object_fit": null,
      "object_position": null,
      "order": null,
      "overflow": null,
      "overflow_x": null,
      "overflow_y": null,
      "padding": null,
      "right": null,
      "top": null,
      "visibility": null,
      "width": null
     }
    },
    "292037675da34bb69e4dd5d524167019": {
     "model_module": "@jupyter-widgets/controls",
     "model_name": "ProgressStyleModel",
     "state": {
      "_model_module": "@jupyter-widgets/controls",
      "_model_module_version": "1.5.0",
      "_model_name": "ProgressStyleModel",
      "_view_count": null,
      "_view_module": "@jupyter-widgets/base",
      "_view_module_version": "1.2.0",
      "_view_name": "StyleView",
      "bar_color": null,
      "description_width": "initial"
     }
    },
    "31d28619dde44e9ba21fae221aa4cf97": {
     "model_module": "@jupyter-widgets/controls",
     "model_name": "DescriptionStyleModel",
     "state": {
      "_model_module": "@jupyter-widgets/controls",
      "_model_module_version": "1.5.0",
      "_model_name": "DescriptionStyleModel",
      "_view_count": null,
      "_view_module": "@jupyter-widgets/base",
      "_view_module_version": "1.2.0",
      "_view_name": "StyleView",
      "description_width": ""
     }
    },
    "324a7739709c4fe78962bcaa7b19d808": {
     "model_module": "@jupyter-widgets/base",
     "model_name": "LayoutModel",
     "state": {
      "_model_module": "@jupyter-widgets/base",
      "_model_module_version": "1.2.0",
      "_model_name": "LayoutModel",
      "_view_count": null,
      "_view_module": "@jupyter-widgets/base",
      "_view_module_version": "1.2.0",
      "_view_name": "LayoutView",
      "align_content": null,
      "align_items": null,
      "align_self": null,
      "border": null,
      "bottom": null,
      "display": null,
      "flex": null,
      "flex_flow": null,
      "grid_area": null,
      "grid_auto_columns": null,
      "grid_auto_flow": null,
      "grid_auto_rows": null,
      "grid_column": null,
      "grid_gap": null,
      "grid_row": null,
      "grid_template_areas": null,
      "grid_template_columns": null,
      "grid_template_rows": null,
      "height": null,
      "justify_content": null,
      "justify_items": null,
      "left": null,
      "margin": null,
      "max_height": null,
      "max_width": null,
      "min_height": null,
      "min_width": null,
      "object_fit": null,
      "object_position": null,
      "order": null,
      "overflow": null,
      "overflow_x": null,
      "overflow_y": null,
      "padding": null,
      "right": null,
      "top": null,
      "visibility": null,
      "width": null
     }
    },
    "361ee4921214428aa3b9025344c2ab47": {
     "model_module": "@jupyter-widgets/controls",
     "model_name": "FloatProgressModel",
     "state": {
      "_dom_classes": [],
      "_model_module": "@jupyter-widgets/controls",
      "_model_module_version": "1.5.0",
      "_model_name": "FloatProgressModel",
      "_view_count": null,
      "_view_module": "@jupyter-widgets/controls",
      "_view_module_version": "1.5.0",
      "_view_name": "ProgressView",
      "bar_style": "success",
      "description": "100%",
      "description_tooltip": null,
      "layout": "IPY_MODEL_b9b2f6ef822349b38c75c05f1411dccd",
      "max": 500,
      "min": 0,
      "orientation": "horizontal",
      "style": "IPY_MODEL_ae930b003f374ce0bb32f7c12d7aa7b8",
      "value": 500
     }
    },
    "3e13060cbc7447a9b5a3e19e28f965ee": {
     "model_module": "@jupyter-widgets/base",
     "model_name": "LayoutModel",
     "state": {
      "_model_module": "@jupyter-widgets/base",
      "_model_module_version": "1.2.0",
      "_model_name": "LayoutModel",
      "_view_count": null,
      "_view_module": "@jupyter-widgets/base",
      "_view_module_version": "1.2.0",
      "_view_name": "LayoutView",
      "align_content": null,
      "align_items": null,
      "align_self": null,
      "border": null,
      "bottom": null,
      "display": null,
      "flex": null,
      "flex_flow": null,
      "grid_area": null,
      "grid_auto_columns": null,
      "grid_auto_flow": null,
      "grid_auto_rows": null,
      "grid_column": null,
      "grid_gap": null,
      "grid_row": null,
      "grid_template_areas": null,
      "grid_template_columns": null,
      "grid_template_rows": null,
      "height": null,
      "justify_content": null,
      "justify_items": null,
      "left": null,
      "margin": null,
      "max_height": null,
      "max_width": null,
      "min_height": null,
      "min_width": null,
      "object_fit": null,
      "object_position": null,
      "order": null,
      "overflow": null,
      "overflow_x": null,
      "overflow_y": null,
      "padding": null,
      "right": null,
      "top": null,
      "visibility": null,
      "width": null
     }
    },
    "3f7f96ec2a3742ef8c8e27611a8944cb": {
     "model_module": "@jupyter-widgets/controls",
     "model_name": "HTMLModel",
     "state": {
      "_dom_classes": [],
      "_model_module": "@jupyter-widgets/controls",
      "_model_module_version": "1.5.0",
      "_model_name": "HTMLModel",
      "_view_count": null,
      "_view_module": "@jupyter-widgets/controls",
      "_view_module_version": "1.5.0",
      "_view_name": "HTMLView",
      "description": "",
      "description_tooltip": null,
      "layout": "IPY_MODEL_1410eaebccae4e12af0bc8fabc989acd",
      "placeholder": "​",
      "style": "IPY_MODEL_84e26cee388e48849de51235a7109597",
      "value": " 150/150 [00:00&lt;00:00, 320.59epoch/s]"
     }
    },
    "3fe025a8f72f4b7ea88750c557a1fbfc": {
     "model_module": "@jupyter-widgets/base",
     "model_name": "LayoutModel",
     "state": {
      "_model_module": "@jupyter-widgets/base",
      "_model_module_version": "1.2.0",
      "_model_name": "LayoutModel",
      "_view_count": null,
      "_view_module": "@jupyter-widgets/base",
      "_view_module_version": "1.2.0",
      "_view_name": "LayoutView",
      "align_content": null,
      "align_items": null,
      "align_self": null,
      "border": null,
      "bottom": null,
      "display": null,
      "flex": null,
      "flex_flow": null,
      "grid_area": null,
      "grid_auto_columns": null,
      "grid_auto_flow": null,
      "grid_auto_rows": null,
      "grid_column": null,
      "grid_gap": null,
      "grid_row": null,
      "grid_template_areas": null,
      "grid_template_columns": null,
      "grid_template_rows": null,
      "height": null,
      "justify_content": null,
      "justify_items": null,
      "left": null,
      "margin": null,
      "max_height": null,
      "max_width": null,
      "min_height": null,
      "min_width": null,
      "object_fit": null,
      "object_position": null,
      "order": null,
      "overflow": null,
      "overflow_x": null,
      "overflow_y": null,
      "padding": null,
      "right": null,
      "top": null,
      "visibility": null,
      "width": null
     }
    },
    "44c00aa0aed54d52acb762f8f10f8b2e": {
     "model_module": "@jupyter-widgets/base",
     "model_name": "LayoutModel",
     "state": {
      "_model_module": "@jupyter-widgets/base",
      "_model_module_version": "1.2.0",
      "_model_name": "LayoutModel",
      "_view_count": null,
      "_view_module": "@jupyter-widgets/base",
      "_view_module_version": "1.2.0",
      "_view_name": "LayoutView",
      "align_content": null,
      "align_items": null,
      "align_self": null,
      "border": null,
      "bottom": null,
      "display": null,
      "flex": null,
      "flex_flow": null,
      "grid_area": null,
      "grid_auto_columns": null,
      "grid_auto_flow": null,
      "grid_auto_rows": null,
      "grid_column": null,
      "grid_gap": null,
      "grid_row": null,
      "grid_template_areas": null,
      "grid_template_columns": null,
      "grid_template_rows": null,
      "height": null,
      "justify_content": null,
      "justify_items": null,
      "left": null,
      "margin": null,
      "max_height": null,
      "max_width": null,
      "min_height": null,
      "min_width": null,
      "object_fit": null,
      "object_position": null,
      "order": null,
      "overflow": null,
      "overflow_x": null,
      "overflow_y": null,
      "padding": null,
      "right": null,
      "top": null,
      "visibility": null,
      "width": null
     }
    },
    "4559a952509245539529552d38b849c5": {
     "model_module": "@jupyter-widgets/controls",
     "model_name": "DescriptionStyleModel",
     "state": {
      "_model_module": "@jupyter-widgets/controls",
      "_model_module_version": "1.5.0",
      "_model_name": "DescriptionStyleModel",
      "_view_count": null,
      "_view_module": "@jupyter-widgets/base",
      "_view_module_version": "1.2.0",
      "_view_name": "StyleView",
      "description_width": ""
     }
    },
    "48fb154a52e646d482050b15f2cee308": {
     "model_module": "@jupyter-widgets/controls",
     "model_name": "HTMLModel",
     "state": {
      "_dom_classes": [],
      "_model_module": "@jupyter-widgets/controls",
      "_model_module_version": "1.5.0",
      "_model_name": "HTMLModel",
      "_view_count": null,
      "_view_module": "@jupyter-widgets/controls",
      "_view_module_version": "1.5.0",
      "_view_name": "HTMLView",
      "description": "",
      "description_tooltip": null,
      "layout": "IPY_MODEL_3e13060cbc7447a9b5a3e19e28f965ee",
      "placeholder": "​",
      "style": "IPY_MODEL_fe61720a35874f29a08f48bccbf9dbb6",
      "value": " 200/200 [00:00&lt;00:00, 442.85epoch/s]"
     }
    },
    "4992ba869f494561befb13f0037fda86": {
     "model_module": "@jupyter-widgets/base",
     "model_name": "LayoutModel",
     "state": {
      "_model_module": "@jupyter-widgets/base",
      "_model_module_version": "1.2.0",
      "_model_name": "LayoutModel",
      "_view_count": null,
      "_view_module": "@jupyter-widgets/base",
      "_view_module_version": "1.2.0",
      "_view_name": "LayoutView",
      "align_content": null,
      "align_items": null,
      "align_self": null,
      "border": null,
      "bottom": null,
      "display": null,
      "flex": null,
      "flex_flow": null,
      "grid_area": null,
      "grid_auto_columns": null,
      "grid_auto_flow": null,
      "grid_auto_rows": null,
      "grid_column": null,
      "grid_gap": null,
      "grid_row": null,
      "grid_template_areas": null,
      "grid_template_columns": null,
      "grid_template_rows": null,
      "height": null,
      "justify_content": null,
      "justify_items": null,
      "left": null,
      "margin": null,
      "max_height": null,
      "max_width": null,
      "min_height": null,
      "min_width": null,
      "object_fit": null,
      "object_position": null,
      "order": null,
      "overflow": null,
      "overflow_x": null,
      "overflow_y": null,
      "padding": null,
      "right": null,
      "top": null,
      "visibility": null,
      "width": null
     }
    },
    "4ae8d5f31e9449a59948f643b979a167": {
     "model_module": "@jupyter-widgets/controls",
     "model_name": "FloatProgressModel",
     "state": {
      "_dom_classes": [],
      "_model_module": "@jupyter-widgets/controls",
      "_model_module_version": "1.5.0",
      "_model_name": "FloatProgressModel",
      "_view_count": null,
      "_view_module": "@jupyter-widgets/controls",
      "_view_module_version": "1.5.0",
      "_view_name": "ProgressView",
      "bar_style": "success",
      "description": "100%",
      "description_tooltip": null,
      "layout": "IPY_MODEL_fb0d7dafb408445a9ef8f1d32485d1ea",
      "max": 380,
      "min": 0,
      "orientation": "horizontal",
      "style": "IPY_MODEL_7b2af35e17544cb88a29a810b782ecdd",
      "value": 380
     }
    },
    "504b737d8a5a427ea5f5e4dff9842c04": {
     "model_module": "@jupyter-widgets/controls",
     "model_name": "ProgressStyleModel",
     "state": {
      "_model_module": "@jupyter-widgets/controls",
      "_model_module_version": "1.5.0",
      "_model_name": "ProgressStyleModel",
      "_view_count": null,
      "_view_module": "@jupyter-widgets/base",
      "_view_module_version": "1.2.0",
      "_view_name": "StyleView",
      "bar_color": null,
      "description_width": "initial"
     }
    },
    "509537c512694a2d9b8f54fc66eb7d46": {
     "model_module": "@jupyter-widgets/controls",
     "model_name": "DescriptionStyleModel",
     "state": {
      "_model_module": "@jupyter-widgets/controls",
      "_model_module_version": "1.5.0",
      "_model_name": "DescriptionStyleModel",
      "_view_count": null,
      "_view_module": "@jupyter-widgets/base",
      "_view_module_version": "1.2.0",
      "_view_name": "StyleView",
      "description_width": ""
     }
    },
    "50ec57e26baa4320bae780b3aa05bff3": {
     "model_module": "@jupyter-widgets/base",
     "model_name": "LayoutModel",
     "state": {
      "_model_module": "@jupyter-widgets/base",
      "_model_module_version": "1.2.0",
      "_model_name": "LayoutModel",
      "_view_count": null,
      "_view_module": "@jupyter-widgets/base",
      "_view_module_version": "1.2.0",
      "_view_name": "LayoutView",
      "align_content": null,
      "align_items": null,
      "align_self": null,
      "border": null,
      "bottom": null,
      "display": null,
      "flex": null,
      "flex_flow": null,
      "grid_area": null,
      "grid_auto_columns": null,
      "grid_auto_flow": null,
      "grid_auto_rows": null,
      "grid_column": null,
      "grid_gap": null,
      "grid_row": null,
      "grid_template_areas": null,
      "grid_template_columns": null,
      "grid_template_rows": null,
      "height": null,
      "justify_content": null,
      "justify_items": null,
      "left": null,
      "margin": null,
      "max_height": null,
      "max_width": null,
      "min_height": null,
      "min_width": null,
      "object_fit": null,
      "object_position": null,
      "order": null,
      "overflow": null,
      "overflow_x": null,
      "overflow_y": null,
      "padding": null,
      "right": null,
      "top": null,
      "visibility": null,
      "width": null
     }
    },
    "53eca61e9b0647e3ad67bf6bde90602b": {
     "model_module": "@jupyter-widgets/controls",
     "model_name": "HBoxModel",
     "state": {
      "_dom_classes": [],
      "_model_module": "@jupyter-widgets/controls",
      "_model_module_version": "1.5.0",
      "_model_name": "HBoxModel",
      "_view_count": null,
      "_view_module": "@jupyter-widgets/controls",
      "_view_module_version": "1.5.0",
      "_view_name": "HBoxView",
      "box_style": "",
      "children": [
       "IPY_MODEL_d48af63365384bf5b928a5bbfc07a8fd",
       "IPY_MODEL_48fb154a52e646d482050b15f2cee308"
      ],
      "layout": "IPY_MODEL_cec62e79b725479087ec56710a6f1834"
     }
    },
    "55154431353243c6816733ab750de69c": {
     "model_module": "@jupyter-widgets/controls",
     "model_name": "HTMLModel",
     "state": {
      "_dom_classes": [],
      "_model_module": "@jupyter-widgets/controls",
      "_model_module_version": "1.5.0",
      "_model_name": "HTMLModel",
      "_view_count": null,
      "_view_module": "@jupyter-widgets/controls",
      "_view_module_version": "1.5.0",
      "_view_name": "HTMLView",
      "description": "",
      "description_tooltip": null,
      "layout": "IPY_MODEL_9a4f6d6bf1e24d008e8ad2cb9f8314e2",
      "placeholder": "​",
      "style": "IPY_MODEL_d5e908d8c5c84f7b94f8bc63ead142b6",
      "value": " 800/800 [00:01&lt;00:00, 463.94epoch/s]"
     }
    },
    "58b29290667d42dd9cf934aa3e530514": {
     "model_module": "@jupyter-widgets/controls",
     "model_name": "ProgressStyleModel",
     "state": {
      "_model_module": "@jupyter-widgets/controls",
      "_model_module_version": "1.5.0",
      "_model_name": "ProgressStyleModel",
      "_view_count": null,
      "_view_module": "@jupyter-widgets/base",
      "_view_module_version": "1.2.0",
      "_view_name": "StyleView",
      "bar_color": null,
      "description_width": "initial"
     }
    },
    "590705c90d8b413a85672e3fd6a2212e": {
     "model_module": "@jupyter-widgets/base",
     "model_name": "LayoutModel",
     "state": {
      "_model_module": "@jupyter-widgets/base",
      "_model_module_version": "1.2.0",
      "_model_name": "LayoutModel",
      "_view_count": null,
      "_view_module": "@jupyter-widgets/base",
      "_view_module_version": "1.2.0",
      "_view_name": "LayoutView",
      "align_content": null,
      "align_items": null,
      "align_self": null,
      "border": null,
      "bottom": null,
      "display": null,
      "flex": null,
      "flex_flow": null,
      "grid_area": null,
      "grid_auto_columns": null,
      "grid_auto_flow": null,
      "grid_auto_rows": null,
      "grid_column": null,
      "grid_gap": null,
      "grid_row": null,
      "grid_template_areas": null,
      "grid_template_columns": null,
      "grid_template_rows": null,
      "height": null,
      "justify_content": null,
      "justify_items": null,
      "left": null,
      "margin": null,
      "max_height": null,
      "max_width": null,
      "min_height": null,
      "min_width": null,
      "object_fit": null,
      "object_position": null,
      "order": null,
      "overflow": null,
      "overflow_x": null,
      "overflow_y": null,
      "padding": null,
      "right": null,
      "top": null,
      "visibility": null,
      "width": null
     }
    },
    "5b20fad96fa3452c9f24868982309c45": {
     "model_module": "@jupyter-widgets/controls",
     "model_name": "HTMLModel",
     "state": {
      "_dom_classes": [],
      "_model_module": "@jupyter-widgets/controls",
      "_model_module_version": "1.5.0",
      "_model_name": "HTMLModel",
      "_view_count": null,
      "_view_module": "@jupyter-widgets/controls",
      "_view_module_version": "1.5.0",
      "_view_name": "HTMLView",
      "description": "",
      "description_tooltip": null,
      "layout": "IPY_MODEL_5c3815c078444f97a66fd7909c779e5d",
      "placeholder": "​",
      "style": "IPY_MODEL_a9569229191e499699c397d73c3c485d",
      "value": " 500/500 [00:01&lt;00:00, 395.05epoch/s]"
     }
    },
    "5c3815c078444f97a66fd7909c779e5d": {
     "model_module": "@jupyter-widgets/base",
     "model_name": "LayoutModel",
     "state": {
      "_model_module": "@jupyter-widgets/base",
      "_model_module_version": "1.2.0",
      "_model_name": "LayoutModel",
      "_view_count": null,
      "_view_module": "@jupyter-widgets/base",
      "_view_module_version": "1.2.0",
      "_view_name": "LayoutView",
      "align_content": null,
      "align_items": null,
      "align_self": null,
      "border": null,
      "bottom": null,
      "display": null,
      "flex": null,
      "flex_flow": null,
      "grid_area": null,
      "grid_auto_columns": null,
      "grid_auto_flow": null,
      "grid_auto_rows": null,
      "grid_column": null,
      "grid_gap": null,
      "grid_row": null,
      "grid_template_areas": null,
      "grid_template_columns": null,
      "grid_template_rows": null,
      "height": null,
      "justify_content": null,
      "justify_items": null,
      "left": null,
      "margin": null,
      "max_height": null,
      "max_width": null,
      "min_height": null,
      "min_width": null,
      "object_fit": null,
      "object_position": null,
      "order": null,
      "overflow": null,
      "overflow_x": null,
      "overflow_y": null,
      "padding": null,
      "right": null,
      "top": null,
      "visibility": null,
      "width": null
     }
    },
    "5c58cf439648465d965968ea34d40401": {
     "model_module": "@jupyter-widgets/controls",
     "model_name": "FloatProgressModel",
     "state": {
      "_dom_classes": [],
      "_model_module": "@jupyter-widgets/controls",
      "_model_module_version": "1.5.0",
      "_model_name": "FloatProgressModel",
      "_view_count": null,
      "_view_module": "@jupyter-widgets/controls",
      "_view_module_version": "1.5.0",
      "_view_name": "ProgressView",
      "bar_style": "success",
      "description": "100%",
      "description_tooltip": null,
      "layout": "IPY_MODEL_a806085d6e664e5399dcb01a4c53bbce",
      "max": 400,
      "min": 0,
      "orientation": "horizontal",
      "style": "IPY_MODEL_292037675da34bb69e4dd5d524167019",
      "value": 400
     }
    },
    "5d90d7e2c5c1402594ad148cc183f437": {
     "model_module": "@jupyter-widgets/controls",
     "model_name": "HTMLModel",
     "state": {
      "_dom_classes": [],
      "_model_module": "@jupyter-widgets/controls",
      "_model_module_version": "1.5.0",
      "_model_name": "HTMLModel",
      "_view_count": null,
      "_view_module": "@jupyter-widgets/controls",
      "_view_module_version": "1.5.0",
      "_view_name": "HTMLView",
      "description": "",
      "description_tooltip": null,
      "layout": "IPY_MODEL_324a7739709c4fe78962bcaa7b19d808",
      "placeholder": "​",
      "style": "IPY_MODEL_922fdfbb30254db9af18afb495912040",
      "value": " 750/750 [00:01&lt;00:00, 456.56epoch/s]"
     }
    },
    "5fd34d412cfe4dceb9a8d53f5bac48ec": {
     "model_module": "@jupyter-widgets/controls",
     "model_name": "FloatProgressModel",
     "state": {
      "_dom_classes": [],
      "_model_module": "@jupyter-widgets/controls",
      "_model_module_version": "1.5.0",
      "_model_name": "FloatProgressModel",
      "_view_count": null,
      "_view_module": "@jupyter-widgets/controls",
      "_view_module_version": "1.5.0",
      "_view_name": "ProgressView",
      "bar_style": "success",
      "description": "100%",
      "description_tooltip": null,
      "layout": "IPY_MODEL_ed18f308d52546febf60ddac7d09328d",
      "max": 150,
      "min": 0,
      "orientation": "horizontal",
      "style": "IPY_MODEL_504b737d8a5a427ea5f5e4dff9842c04",
      "value": 150
     }
    },
    "64b2f118d04d4a5ba915b8b2d57f458c": {
     "model_module": "@jupyter-widgets/controls",
     "model_name": "FloatProgressModel",
     "state": {
      "_dom_classes": [],
      "_model_module": "@jupyter-widgets/controls",
      "_model_module_version": "1.5.0",
      "_model_name": "FloatProgressModel",
      "_view_count": null,
      "_view_module": "@jupyter-widgets/controls",
      "_view_module_version": "1.5.0",
      "_view_name": "ProgressView",
      "bar_style": "success",
      "description": "100%",
      "description_tooltip": null,
      "layout": "IPY_MODEL_27adcfc62ca14b60b69a0b8957e1f2b1",
      "max": 800,
      "min": 0,
      "orientation": "horizontal",
      "style": "IPY_MODEL_c50560388993439d8126b142ef9bf463",
      "value": 800
     }
    },
    "660d5084587f493cbc29cfde733f0962": {
     "model_module": "@jupyter-widgets/controls",
     "model_name": "HTMLModel",
     "state": {
      "_dom_classes": [],
      "_model_module": "@jupyter-widgets/controls",
      "_model_module_version": "1.5.0",
      "_model_name": "HTMLModel",
      "_view_count": null,
      "_view_module": "@jupyter-widgets/controls",
      "_view_module_version": "1.5.0",
      "_view_name": "HTMLView",
      "description": "",
      "description_tooltip": null,
      "layout": "IPY_MODEL_a199b2bedc9c4428a4266345c3c4e383",
      "placeholder": "​",
      "style": "IPY_MODEL_509537c512694a2d9b8f54fc66eb7d46",
      "value": " 380/380 [00:00&lt;00:00, 536.97epoch/s]"
     }
    },
    "6681cd9005a24db9b542dbd91921c103": {
     "model_module": "@jupyter-widgets/controls",
     "model_name": "FloatProgressModel",
     "state": {
      "_dom_classes": [],
      "_model_module": "@jupyter-widgets/controls",
      "_model_module_version": "1.5.0",
      "_model_name": "FloatProgressModel",
      "_view_count": null,
      "_view_module": "@jupyter-widgets/controls",
      "_view_module_version": "1.5.0",
      "_view_name": "ProgressView",
      "bar_style": "success",
      "description": "100%",
      "description_tooltip": null,
      "layout": "IPY_MODEL_0322816fc41e4b4ab48badf5e8a28dd9",
      "max": 750,
      "min": 0,
      "orientation": "horizontal",
      "style": "IPY_MODEL_9831f07a49144405afa7fbaaf88d208e",
      "value": 750
     }
    },
    "6809430725cd46fdbd92b33de7fd7faf": {
     "model_module": "@jupyter-widgets/controls",
     "model_name": "HTMLModel",
     "state": {
      "_dom_classes": [],
      "_model_module": "@jupyter-widgets/controls",
      "_model_module_version": "1.5.0",
      "_model_name": "HTMLModel",
      "_view_count": null,
      "_view_module": "@jupyter-widgets/controls",
      "_view_module_version": "1.5.0",
      "_view_name": "HTMLView",
      "description": "",
      "description_tooltip": null,
      "layout": "IPY_MODEL_008cd6601907406ba823409deccce84f",
      "placeholder": "​",
      "style": "IPY_MODEL_4559a952509245539529552d38b849c5",
      "value": " 500/500 [00:08&lt;00:00, 55.81epoch/s]"
     }
    },
    "6956041c590845268ddb870066c4ad30": {
     "model_module": "@jupyter-widgets/controls",
     "model_name": "DescriptionStyleModel",
     "state": {
      "_model_module": "@jupyter-widgets/controls",
      "_model_module_version": "1.5.0",
      "_model_name": "DescriptionStyleModel",
      "_view_count": null,
      "_view_module": "@jupyter-widgets/base",
      "_view_module_version": "1.2.0",
      "_view_name": "StyleView",
      "description_width": ""
     }
    },
    "6da977ee63704f29ab142074d561209d": {
     "model_module": "@jupyter-widgets/controls",
     "model_name": "FloatProgressModel",
     "state": {
      "_dom_classes": [],
      "_model_module": "@jupyter-widgets/controls",
      "_model_module_version": "1.5.0",
      "_model_name": "FloatProgressModel",
      "_view_count": null,
      "_view_module": "@jupyter-widgets/controls",
      "_view_module_version": "1.5.0",
      "_view_name": "ProgressView",
      "bar_style": "success",
      "description": "100%",
      "description_tooltip": null,
      "layout": "IPY_MODEL_c5b113236f8641babb54d52081ae60c7",
      "max": 500,
      "min": 0,
      "orientation": "horizontal",
      "style": "IPY_MODEL_b218b655146640c0aee6247b9dcd35d2",
      "value": 500
     }
    },
    "74fcca4d432149feb50659afb70cb2f7": {
     "model_module": "@jupyter-widgets/controls",
     "model_name": "HTMLModel",
     "state": {
      "_dom_classes": [],
      "_model_module": "@jupyter-widgets/controls",
      "_model_module_version": "1.5.0",
      "_model_name": "HTMLModel",
      "_view_count": null,
      "_view_module": "@jupyter-widgets/controls",
      "_view_module_version": "1.5.0",
      "_view_name": "HTMLView",
      "description": "",
      "description_tooltip": null,
      "layout": "IPY_MODEL_b5ade15465c943e2b54aeced42f089dd",
      "placeholder": "​",
      "style": "IPY_MODEL_ef3b6623e09b4dfcbb0253c412886489",
      "value": " 500/500 [00:01&lt;00:00, 418.05epoch/s]"
     }
    },
    "753372cc17f44f8a8697231b03b9588a": {
     "model_module": "@jupyter-widgets/controls",
     "model_name": "HBoxModel",
     "state": {
      "_dom_classes": [],
      "_model_module": "@jupyter-widgets/controls",
      "_model_module_version": "1.5.0",
      "_model_name": "HBoxModel",
      "_view_count": null,
      "_view_module": "@jupyter-widgets/controls",
      "_view_module_version": "1.5.0",
      "_view_name": "HBoxView",
      "box_style": "",
      "children": [
       "IPY_MODEL_6681cd9005a24db9b542dbd91921c103",
       "IPY_MODEL_d9fbad99ae2749da9b5e89676f2b48b5"
      ],
      "layout": "IPY_MODEL_05122aa1ed4841dfb86450da23067cd2"
     }
    },
    "78a662ca26884cfdbef539b219086170": {
     "model_module": "@jupyter-widgets/base",
     "model_name": "LayoutModel",
     "state": {
      "_model_module": "@jupyter-widgets/base",
      "_model_module_version": "1.2.0",
      "_model_name": "LayoutModel",
      "_view_count": null,
      "_view_module": "@jupyter-widgets/base",
      "_view_module_version": "1.2.0",
      "_view_name": "LayoutView",
      "align_content": null,
      "align_items": null,
      "align_self": null,
      "border": null,
      "bottom": null,
      "display": null,
      "flex": null,
      "flex_flow": null,
      "grid_area": null,
      "grid_auto_columns": null,
      "grid_auto_flow": null,
      "grid_auto_rows": null,
      "grid_column": null,
      "grid_gap": null,
      "grid_row": null,
      "grid_template_areas": null,
      "grid_template_columns": null,
      "grid_template_rows": null,
      "height": null,
      "justify_content": null,
      "justify_items": null,
      "left": null,
      "margin": null,
      "max_height": null,
      "max_width": null,
      "min_height": null,
      "min_width": null,
      "object_fit": null,
      "object_position": null,
      "order": null,
      "overflow": null,
      "overflow_x": null,
      "overflow_y": null,
      "padding": null,
      "right": null,
      "top": null,
      "visibility": null,
      "width": null
     }
    },
    "79dac01783c948b8a1ce24941fb77c90": {
     "model_module": "@jupyter-widgets/base",
     "model_name": "LayoutModel",
     "state": {
      "_model_module": "@jupyter-widgets/base",
      "_model_module_version": "1.2.0",
      "_model_name": "LayoutModel",
      "_view_count": null,
      "_view_module": "@jupyter-widgets/base",
      "_view_module_version": "1.2.0",
      "_view_name": "LayoutView",
      "align_content": null,
      "align_items": null,
      "align_self": null,
      "border": null,
      "bottom": null,
      "display": null,
      "flex": null,
      "flex_flow": null,
      "grid_area": null,
      "grid_auto_columns": null,
      "grid_auto_flow": null,
      "grid_auto_rows": null,
      "grid_column": null,
      "grid_gap": null,
      "grid_row": null,
      "grid_template_areas": null,
      "grid_template_columns": null,
      "grid_template_rows": null,
      "height": null,
      "justify_content": null,
      "justify_items": null,
      "left": null,
      "margin": null,
      "max_height": null,
      "max_width": null,
      "min_height": null,
      "min_width": null,
      "object_fit": null,
      "object_position": null,
      "order": null,
      "overflow": null,
      "overflow_x": null,
      "overflow_y": null,
      "padding": null,
      "right": null,
      "top": null,
      "visibility": null,
      "width": null
     }
    },
    "7b2af35e17544cb88a29a810b782ecdd": {
     "model_module": "@jupyter-widgets/controls",
     "model_name": "ProgressStyleModel",
     "state": {
      "_model_module": "@jupyter-widgets/controls",
      "_model_module_version": "1.5.0",
      "_model_name": "ProgressStyleModel",
      "_view_count": null,
      "_view_module": "@jupyter-widgets/base",
      "_view_module_version": "1.2.0",
      "_view_name": "StyleView",
      "bar_color": null,
      "description_width": "initial"
     }
    },
    "7daf6c875c264963a8292aca31c11e95": {
     "model_module": "@jupyter-widgets/controls",
     "model_name": "HBoxModel",
     "state": {
      "_dom_classes": [],
      "_model_module": "@jupyter-widgets/controls",
      "_model_module_version": "1.5.0",
      "_model_name": "HBoxModel",
      "_view_count": null,
      "_view_module": "@jupyter-widgets/controls",
      "_view_module_version": "1.5.0",
      "_view_name": "HBoxView",
      "box_style": "",
      "children": [
       "IPY_MODEL_64b2f118d04d4a5ba915b8b2d57f458c",
       "IPY_MODEL_55154431353243c6816733ab750de69c"
      ],
      "layout": "IPY_MODEL_ff1870ef211b4f0885ed74516b86eb27"
     }
    },
    "819d889b60e94413935829c608ee419d": {
     "model_module": "@jupyter-widgets/controls",
     "model_name": "ProgressStyleModel",
     "state": {
      "_model_module": "@jupyter-widgets/controls",
      "_model_module_version": "1.5.0",
      "_model_name": "ProgressStyleModel",
      "_view_count": null,
      "_view_module": "@jupyter-widgets/base",
      "_view_module_version": "1.2.0",
      "_view_name": "StyleView",
      "bar_color": null,
      "description_width": "initial"
     }
    },
    "84e26cee388e48849de51235a7109597": {
     "model_module": "@jupyter-widgets/controls",
     "model_name": "DescriptionStyleModel",
     "state": {
      "_model_module": "@jupyter-widgets/controls",
      "_model_module_version": "1.5.0",
      "_model_name": "DescriptionStyleModel",
      "_view_count": null,
      "_view_module": "@jupyter-widgets/base",
      "_view_module_version": "1.2.0",
      "_view_name": "StyleView",
      "description_width": ""
     }
    },
    "87357915b6794620a81be174a5f7030e": {
     "model_module": "@jupyter-widgets/controls",
     "model_name": "FloatProgressModel",
     "state": {
      "_dom_classes": [],
      "_model_module": "@jupyter-widgets/controls",
      "_model_module_version": "1.5.0",
      "_model_name": "FloatProgressModel",
      "_view_count": null,
      "_view_module": "@jupyter-widgets/controls",
      "_view_module_version": "1.5.0",
      "_view_name": "ProgressView",
      "bar_style": "success",
      "description": "100%",
      "description_tooltip": null,
      "layout": "IPY_MODEL_50ec57e26baa4320bae780b3aa05bff3",
      "max": 500,
      "min": 0,
      "orientation": "horizontal",
      "style": "IPY_MODEL_24420b2f3a92494c916b821fda1179b0",
      "value": 500
     }
    },
    "8813b849275b403d8608b532153cb166": {
     "model_module": "@jupyter-widgets/controls",
     "model_name": "DescriptionStyleModel",
     "state": {
      "_model_module": "@jupyter-widgets/controls",
      "_model_module_version": "1.5.0",
      "_model_name": "DescriptionStyleModel",
      "_view_count": null,
      "_view_module": "@jupyter-widgets/base",
      "_view_module_version": "1.2.0",
      "_view_name": "StyleView",
      "description_width": ""
     }
    },
    "88d158cc33c647609c055f2b223b56cb": {
     "model_module": "@jupyter-widgets/base",
     "model_name": "LayoutModel",
     "state": {
      "_model_module": "@jupyter-widgets/base",
      "_model_module_version": "1.2.0",
      "_model_name": "LayoutModel",
      "_view_count": null,
      "_view_module": "@jupyter-widgets/base",
      "_view_module_version": "1.2.0",
      "_view_name": "LayoutView",
      "align_content": null,
      "align_items": null,
      "align_self": null,
      "border": null,
      "bottom": null,
      "display": null,
      "flex": null,
      "flex_flow": null,
      "grid_area": null,
      "grid_auto_columns": null,
      "grid_auto_flow": null,
      "grid_auto_rows": null,
      "grid_column": null,
      "grid_gap": null,
      "grid_row": null,
      "grid_template_areas": null,
      "grid_template_columns": null,
      "grid_template_rows": null,
      "height": null,
      "justify_content": null,
      "justify_items": null,
      "left": null,
      "margin": null,
      "max_height": null,
      "max_width": null,
      "min_height": null,
      "min_width": null,
      "object_fit": null,
      "object_position": null,
      "order": null,
      "overflow": null,
      "overflow_x": null,
      "overflow_y": null,
      "padding": null,
      "right": null,
      "top": null,
      "visibility": null,
      "width": null
     }
    },
    "88e6f25b6bbb428b95f00a0d8a0275a8": {
     "model_module": "@jupyter-widgets/controls",
     "model_name": "HBoxModel",
     "state": {
      "_dom_classes": [],
      "_model_module": "@jupyter-widgets/controls",
      "_model_module_version": "1.5.0",
      "_model_name": "HBoxModel",
      "_view_count": null,
      "_view_module": "@jupyter-widgets/controls",
      "_view_module_version": "1.5.0",
      "_view_name": "HBoxView",
      "box_style": "",
      "children": [
       "IPY_MODEL_c02c1d8bf55a422e9957a1faf14c1f80",
       "IPY_MODEL_9be69122313e43e3a2a26ca689290d61"
      ],
      "layout": "IPY_MODEL_e56940d1ae9a4ce78fed4d3e60ca962d"
     }
    },
    "8ab78f98052a4523982969a06fb3f394": {
     "model_module": "@jupyter-widgets/base",
     "model_name": "LayoutModel",
     "state": {
      "_model_module": "@jupyter-widgets/base",
      "_model_module_version": "1.2.0",
      "_model_name": "LayoutModel",
      "_view_count": null,
      "_view_module": "@jupyter-widgets/base",
      "_view_module_version": "1.2.0",
      "_view_name": "LayoutView",
      "align_content": null,
      "align_items": null,
      "align_self": null,
      "border": null,
      "bottom": null,
      "display": null,
      "flex": null,
      "flex_flow": null,
      "grid_area": null,
      "grid_auto_columns": null,
      "grid_auto_flow": null,
      "grid_auto_rows": null,
      "grid_column": null,
      "grid_gap": null,
      "grid_row": null,
      "grid_template_areas": null,
      "grid_template_columns": null,
      "grid_template_rows": null,
      "height": null,
      "justify_content": null,
      "justify_items": null,
      "left": null,
      "margin": null,
      "max_height": null,
      "max_width": null,
      "min_height": null,
      "min_width": null,
      "object_fit": null,
      "object_position": null,
      "order": null,
      "overflow": null,
      "overflow_x": null,
      "overflow_y": null,
      "padding": null,
      "right": null,
      "top": null,
      "visibility": null,
      "width": null
     }
    },
    "8f4653ac71e9464ca668f96fc4b6ff2f": {
     "model_module": "@jupyter-widgets/base",
     "model_name": "LayoutModel",
     "state": {
      "_model_module": "@jupyter-widgets/base",
      "_model_module_version": "1.2.0",
      "_model_name": "LayoutModel",
      "_view_count": null,
      "_view_module": "@jupyter-widgets/base",
      "_view_module_version": "1.2.0",
      "_view_name": "LayoutView",
      "align_content": null,
      "align_items": null,
      "align_self": null,
      "border": null,
      "bottom": null,
      "display": null,
      "flex": null,
      "flex_flow": null,
      "grid_area": null,
      "grid_auto_columns": null,
      "grid_auto_flow": null,
      "grid_auto_rows": null,
      "grid_column": null,
      "grid_gap": null,
      "grid_row": null,
      "grid_template_areas": null,
      "grid_template_columns": null,
      "grid_template_rows": null,
      "height": null,
      "justify_content": null,
      "justify_items": null,
      "left": null,
      "margin": null,
      "max_height": null,
      "max_width": null,
      "min_height": null,
      "min_width": null,
      "object_fit": null,
      "object_position": null,
      "order": null,
      "overflow": null,
      "overflow_x": null,
      "overflow_y": null,
      "padding": null,
      "right": null,
      "top": null,
      "visibility": null,
      "width": null
     }
    },
    "90e97ad735794272b501bd849b94cb0a": {
     "model_module": "@jupyter-widgets/controls",
     "model_name": "HTMLModel",
     "state": {
      "_dom_classes": [],
      "_model_module": "@jupyter-widgets/controls",
      "_model_module_version": "1.5.0",
      "_model_name": "HTMLModel",
      "_view_count": null,
      "_view_module": "@jupyter-widgets/controls",
      "_view_module_version": "1.5.0",
      "_view_name": "HTMLView",
      "description": "",
      "description_tooltip": null,
      "layout": "IPY_MODEL_1a810f1cd1d9419bb089c73633f2fdf9",
      "placeholder": "​",
      "style": "IPY_MODEL_eaaec69293f2418db00de0ec3890b993",
      "value": " 700/700 [00:01&lt;00:00, 448.12epoch/s]"
     }
    },
    "91855b32d037416299dbfd664f4ce1f6": {
     "model_module": "@jupyter-widgets/base",
     "model_name": "LayoutModel",
     "state": {
      "_model_module": "@jupyter-widgets/base",
      "_model_module_version": "1.2.0",
      "_model_name": "LayoutModel",
      "_view_count": null,
      "_view_module": "@jupyter-widgets/base",
      "_view_module_version": "1.2.0",
      "_view_name": "LayoutView",
      "align_content": null,
      "align_items": null,
      "align_self": null,
      "border": null,
      "bottom": null,
      "display": null,
      "flex": null,
      "flex_flow": null,
      "grid_area": null,
      "grid_auto_columns": null,
      "grid_auto_flow": null,
      "grid_auto_rows": null,
      "grid_column": null,
      "grid_gap": null,
      "grid_row": null,
      "grid_template_areas": null,
      "grid_template_columns": null,
      "grid_template_rows": null,
      "height": null,
      "justify_content": null,
      "justify_items": null,
      "left": null,
      "margin": null,
      "max_height": null,
      "max_width": null,
      "min_height": null,
      "min_width": null,
      "object_fit": null,
      "object_position": null,
      "order": null,
      "overflow": null,
      "overflow_x": null,
      "overflow_y": null,
      "padding": null,
      "right": null,
      "top": null,
      "visibility": null,
      "width": null
     }
    },
    "922fdfbb30254db9af18afb495912040": {
     "model_module": "@jupyter-widgets/controls",
     "model_name": "DescriptionStyleModel",
     "state": {
      "_model_module": "@jupyter-widgets/controls",
      "_model_module_version": "1.5.0",
      "_model_name": "DescriptionStyleModel",
      "_view_count": null,
      "_view_module": "@jupyter-widgets/base",
      "_view_module_version": "1.2.0",
      "_view_name": "StyleView",
      "description_width": ""
     }
    },
    "925313ada67c492a9d83f341799caca9": {
     "model_module": "@jupyter-widgets/base",
     "model_name": "LayoutModel",
     "state": {
      "_model_module": "@jupyter-widgets/base",
      "_model_module_version": "1.2.0",
      "_model_name": "LayoutModel",
      "_view_count": null,
      "_view_module": "@jupyter-widgets/base",
      "_view_module_version": "1.2.0",
      "_view_name": "LayoutView",
      "align_content": null,
      "align_items": null,
      "align_self": null,
      "border": null,
      "bottom": null,
      "display": null,
      "flex": null,
      "flex_flow": null,
      "grid_area": null,
      "grid_auto_columns": null,
      "grid_auto_flow": null,
      "grid_auto_rows": null,
      "grid_column": null,
      "grid_gap": null,
      "grid_row": null,
      "grid_template_areas": null,
      "grid_template_columns": null,
      "grid_template_rows": null,
      "height": null,
      "justify_content": null,
      "justify_items": null,
      "left": null,
      "margin": null,
      "max_height": null,
      "max_width": null,
      "min_height": null,
      "min_width": null,
      "object_fit": null,
      "object_position": null,
      "order": null,
      "overflow": null,
      "overflow_x": null,
      "overflow_y": null,
      "padding": null,
      "right": null,
      "top": null,
      "visibility": null,
      "width": null
     }
    },
    "963eb015dd06468abe912d5e8fd1bc03": {
     "model_module": "@jupyter-widgets/controls",
     "model_name": "HTMLModel",
     "state": {
      "_dom_classes": [],
      "_model_module": "@jupyter-widgets/controls",
      "_model_module_version": "1.5.0",
      "_model_name": "HTMLModel",
      "_view_count": null,
      "_view_module": "@jupyter-widgets/controls",
      "_view_module_version": "1.5.0",
      "_view_name": "HTMLView",
      "description": "",
      "description_tooltip": null,
      "layout": "IPY_MODEL_be708fb8e9084e2398759b8d5bef2350",
      "placeholder": "​",
      "style": "IPY_MODEL_8813b849275b403d8608b532153cb166",
      "value": " 400/400 [00:01&lt;00:00, 371.96epoch/s]"
     }
    },
    "966bc70c633947259dfcde0d93e2a175": {
     "model_module": "@jupyter-widgets/controls",
     "model_name": "ProgressStyleModel",
     "state": {
      "_model_module": "@jupyter-widgets/controls",
      "_model_module_version": "1.5.0",
      "_model_name": "ProgressStyleModel",
      "_view_count": null,
      "_view_module": "@jupyter-widgets/base",
      "_view_module_version": "1.2.0",
      "_view_name": "StyleView",
      "bar_color": null,
      "description_width": "initial"
     }
    },
    "968ff21d19b84388b0e119338e5dd7e3": {
     "model_module": "@jupyter-widgets/controls",
     "model_name": "HBoxModel",
     "state": {
      "_dom_classes": [],
      "_model_module": "@jupyter-widgets/controls",
      "_model_module_version": "1.5.0",
      "_model_name": "HBoxModel",
      "_view_count": null,
      "_view_module": "@jupyter-widgets/controls",
      "_view_module_version": "1.5.0",
      "_view_name": "HBoxView",
      "box_style": "",
      "children": [
       "IPY_MODEL_6da977ee63704f29ab142074d561209d",
       "IPY_MODEL_6809430725cd46fdbd92b33de7fd7faf"
      ],
      "layout": "IPY_MODEL_b541fb735746439594b82d05917bff23"
     }
    },
    "9831f07a49144405afa7fbaaf88d208e": {
     "model_module": "@jupyter-widgets/controls",
     "model_name": "ProgressStyleModel",
     "state": {
      "_model_module": "@jupyter-widgets/controls",
      "_model_module_version": "1.5.0",
      "_model_name": "ProgressStyleModel",
      "_view_count": null,
      "_view_module": "@jupyter-widgets/base",
      "_view_module_version": "1.2.0",
      "_view_name": "StyleView",
      "bar_color": null,
      "description_width": "initial"
     }
    },
    "9a4f6d6bf1e24d008e8ad2cb9f8314e2": {
     "model_module": "@jupyter-widgets/base",
     "model_name": "LayoutModel",
     "state": {
      "_model_module": "@jupyter-widgets/base",
      "_model_module_version": "1.2.0",
      "_model_name": "LayoutModel",
      "_view_count": null,
      "_view_module": "@jupyter-widgets/base",
      "_view_module_version": "1.2.0",
      "_view_name": "LayoutView",
      "align_content": null,
      "align_items": null,
      "align_self": null,
      "border": null,
      "bottom": null,
      "display": null,
      "flex": null,
      "flex_flow": null,
      "grid_area": null,
      "grid_auto_columns": null,
      "grid_auto_flow": null,
      "grid_auto_rows": null,
      "grid_column": null,
      "grid_gap": null,
      "grid_row": null,
      "grid_template_areas": null,
      "grid_template_columns": null,
      "grid_template_rows": null,
      "height": null,
      "justify_content": null,
      "justify_items": null,
      "left": null,
      "margin": null,
      "max_height": null,
      "max_width": null,
      "min_height": null,
      "min_width": null,
      "object_fit": null,
      "object_position": null,
      "order": null,
      "overflow": null,
      "overflow_x": null,
      "overflow_y": null,
      "padding": null,
      "right": null,
      "top": null,
      "visibility": null,
      "width": null
     }
    },
    "9be69122313e43e3a2a26ca689290d61": {
     "model_module": "@jupyter-widgets/controls",
     "model_name": "HTMLModel",
     "state": {
      "_dom_classes": [],
      "_model_module": "@jupyter-widgets/controls",
      "_model_module_version": "1.5.0",
      "_model_name": "HTMLModel",
      "_view_count": null,
      "_view_module": "@jupyter-widgets/controls",
      "_view_module_version": "1.5.0",
      "_view_name": "HTMLView",
      "description": "",
      "description_tooltip": null,
      "layout": "IPY_MODEL_3fe025a8f72f4b7ea88750c557a1fbfc",
      "placeholder": "​",
      "style": "IPY_MODEL_31d28619dde44e9ba21fae221aa4cf97",
      "value": " 800/800 [00:01&lt;00:00, 470.74epoch/s]"
     }
    },
    "a199b2bedc9c4428a4266345c3c4e383": {
     "model_module": "@jupyter-widgets/base",
     "model_name": "LayoutModel",
     "state": {
      "_model_module": "@jupyter-widgets/base",
      "_model_module_version": "1.2.0",
      "_model_name": "LayoutModel",
      "_view_count": null,
      "_view_module": "@jupyter-widgets/base",
      "_view_module_version": "1.2.0",
      "_view_name": "LayoutView",
      "align_content": null,
      "align_items": null,
      "align_self": null,
      "border": null,
      "bottom": null,
      "display": null,
      "flex": null,
      "flex_flow": null,
      "grid_area": null,
      "grid_auto_columns": null,
      "grid_auto_flow": null,
      "grid_auto_rows": null,
      "grid_column": null,
      "grid_gap": null,
      "grid_row": null,
      "grid_template_areas": null,
      "grid_template_columns": null,
      "grid_template_rows": null,
      "height": null,
      "justify_content": null,
      "justify_items": null,
      "left": null,
      "margin": null,
      "max_height": null,
      "max_width": null,
      "min_height": null,
      "min_width": null,
      "object_fit": null,
      "object_position": null,
      "order": null,
      "overflow": null,
      "overflow_x": null,
      "overflow_y": null,
      "padding": null,
      "right": null,
      "top": null,
      "visibility": null,
      "width": null
     }
    },
    "a25888b6fa924cc6a93a95954d705bd9": {
     "model_module": "@jupyter-widgets/base",
     "model_name": "LayoutModel",
     "state": {
      "_model_module": "@jupyter-widgets/base",
      "_model_module_version": "1.2.0",
      "_model_name": "LayoutModel",
      "_view_count": null,
      "_view_module": "@jupyter-widgets/base",
      "_view_module_version": "1.2.0",
      "_view_name": "LayoutView",
      "align_content": null,
      "align_items": null,
      "align_self": null,
      "border": null,
      "bottom": null,
      "display": null,
      "flex": null,
      "flex_flow": null,
      "grid_area": null,
      "grid_auto_columns": null,
      "grid_auto_flow": null,
      "grid_auto_rows": null,
      "grid_column": null,
      "grid_gap": null,
      "grid_row": null,
      "grid_template_areas": null,
      "grid_template_columns": null,
      "grid_template_rows": null,
      "height": null,
      "justify_content": null,
      "justify_items": null,
      "left": null,
      "margin": null,
      "max_height": null,
      "max_width": null,
      "min_height": null,
      "min_width": null,
      "object_fit": null,
      "object_position": null,
      "order": null,
      "overflow": null,
      "overflow_x": null,
      "overflow_y": null,
      "padding": null,
      "right": null,
      "top": null,
      "visibility": null,
      "width": null
     }
    },
    "a806085d6e664e5399dcb01a4c53bbce": {
     "model_module": "@jupyter-widgets/base",
     "model_name": "LayoutModel",
     "state": {
      "_model_module": "@jupyter-widgets/base",
      "_model_module_version": "1.2.0",
      "_model_name": "LayoutModel",
      "_view_count": null,
      "_view_module": "@jupyter-widgets/base",
      "_view_module_version": "1.2.0",
      "_view_name": "LayoutView",
      "align_content": null,
      "align_items": null,
      "align_self": null,
      "border": null,
      "bottom": null,
      "display": null,
      "flex": null,
      "flex_flow": null,
      "grid_area": null,
      "grid_auto_columns": null,
      "grid_auto_flow": null,
      "grid_auto_rows": null,
      "grid_column": null,
      "grid_gap": null,
      "grid_row": null,
      "grid_template_areas": null,
      "grid_template_columns": null,
      "grid_template_rows": null,
      "height": null,
      "justify_content": null,
      "justify_items": null,
      "left": null,
      "margin": null,
      "max_height": null,
      "max_width": null,
      "min_height": null,
      "min_width": null,
      "object_fit": null,
      "object_position": null,
      "order": null,
      "overflow": null,
      "overflow_x": null,
      "overflow_y": null,
      "padding": null,
      "right": null,
      "top": null,
      "visibility": null,
      "width": null
     }
    },
    "a9569229191e499699c397d73c3c485d": {
     "model_module": "@jupyter-widgets/controls",
     "model_name": "DescriptionStyleModel",
     "state": {
      "_model_module": "@jupyter-widgets/controls",
      "_model_module_version": "1.5.0",
      "_model_name": "DescriptionStyleModel",
      "_view_count": null,
      "_view_module": "@jupyter-widgets/base",
      "_view_module_version": "1.2.0",
      "_view_name": "StyleView",
      "description_width": ""
     }
    },
    "aafaee241a8a472e84227d49bb5f6eaa": {
     "model_module": "@jupyter-widgets/controls",
     "model_name": "FloatProgressModel",
     "state": {
      "_dom_classes": [],
      "_model_module": "@jupyter-widgets/controls",
      "_model_module_version": "1.5.0",
      "_model_name": "FloatProgressModel",
      "_view_count": null,
      "_view_module": "@jupyter-widgets/controls",
      "_view_module_version": "1.5.0",
      "_view_name": "ProgressView",
      "bar_style": "success",
      "description": "100%",
      "description_tooltip": null,
      "layout": "IPY_MODEL_79dac01783c948b8a1ce24941fb77c90",
      "max": 500,
      "min": 0,
      "orientation": "horizontal",
      "style": "IPY_MODEL_966bc70c633947259dfcde0d93e2a175",
      "value": 500
     }
    },
    "acd63fa955d2442ea2e33e22ffba4eb8": {
     "model_module": "@jupyter-widgets/controls",
     "model_name": "DescriptionStyleModel",
     "state": {
      "_model_module": "@jupyter-widgets/controls",
      "_model_module_version": "1.5.0",
      "_model_name": "DescriptionStyleModel",
      "_view_count": null,
      "_view_module": "@jupyter-widgets/base",
      "_view_module_version": "1.2.0",
      "_view_name": "StyleView",
      "description_width": ""
     }
    },
    "ad9ab84bb1fe4b64999aee172138a912": {
     "model_module": "@jupyter-widgets/controls",
     "model_name": "FloatProgressModel",
     "state": {
      "_dom_classes": [],
      "_model_module": "@jupyter-widgets/controls",
      "_model_module_version": "1.5.0",
      "_model_name": "FloatProgressModel",
      "_view_count": null,
      "_view_module": "@jupyter-widgets/controls",
      "_view_module_version": "1.5.0",
      "_view_name": "ProgressView",
      "bar_style": "success",
      "description": "100%",
      "description_tooltip": null,
      "layout": "IPY_MODEL_590705c90d8b413a85672e3fd6a2212e",
      "max": 700,
      "min": 0,
      "orientation": "horizontal",
      "style": "IPY_MODEL_d366303f9982474999615333f6d85623",
      "value": 700
     }
    },
    "ae930b003f374ce0bb32f7c12d7aa7b8": {
     "model_module": "@jupyter-widgets/controls",
     "model_name": "ProgressStyleModel",
     "state": {
      "_model_module": "@jupyter-widgets/controls",
      "_model_module_version": "1.5.0",
      "_model_name": "ProgressStyleModel",
      "_view_count": null,
      "_view_module": "@jupyter-widgets/base",
      "_view_module_version": "1.2.0",
      "_view_name": "StyleView",
      "bar_color": null,
      "description_width": "initial"
     }
    },
    "b0ac730bf489483fbd281984dd72cc88": {
     "model_module": "@jupyter-widgets/controls",
     "model_name": "FloatProgressModel",
     "state": {
      "_dom_classes": [],
      "_model_module": "@jupyter-widgets/controls",
      "_model_module_version": "1.5.0",
      "_model_name": "FloatProgressModel",
      "_view_count": null,
      "_view_module": "@jupyter-widgets/controls",
      "_view_module_version": "1.5.0",
      "_view_name": "ProgressView",
      "bar_style": "success",
      "description": "100%",
      "description_tooltip": null,
      "layout": "IPY_MODEL_a25888b6fa924cc6a93a95954d705bd9",
      "max": 2200,
      "min": 0,
      "orientation": "horizontal",
      "style": "IPY_MODEL_58b29290667d42dd9cf934aa3e530514",
      "value": 2200
     }
    },
    "b218b655146640c0aee6247b9dcd35d2": {
     "model_module": "@jupyter-widgets/controls",
     "model_name": "ProgressStyleModel",
     "state": {
      "_model_module": "@jupyter-widgets/controls",
      "_model_module_version": "1.5.0",
      "_model_name": "ProgressStyleModel",
      "_view_count": null,
      "_view_module": "@jupyter-widgets/base",
      "_view_module_version": "1.2.0",
      "_view_name": "StyleView",
      "bar_color": null,
      "description_width": "initial"
     }
    },
    "b541fb735746439594b82d05917bff23": {
     "model_module": "@jupyter-widgets/base",
     "model_name": "LayoutModel",
     "state": {
      "_model_module": "@jupyter-widgets/base",
      "_model_module_version": "1.2.0",
      "_model_name": "LayoutModel",
      "_view_count": null,
      "_view_module": "@jupyter-widgets/base",
      "_view_module_version": "1.2.0",
      "_view_name": "LayoutView",
      "align_content": null,
      "align_items": null,
      "align_self": null,
      "border": null,
      "bottom": null,
      "display": null,
      "flex": null,
      "flex_flow": null,
      "grid_area": null,
      "grid_auto_columns": null,
      "grid_auto_flow": null,
      "grid_auto_rows": null,
      "grid_column": null,
      "grid_gap": null,
      "grid_row": null,
      "grid_template_areas": null,
      "grid_template_columns": null,
      "grid_template_rows": null,
      "height": null,
      "justify_content": null,
      "justify_items": null,
      "left": null,
      "margin": null,
      "max_height": null,
      "max_width": null,
      "min_height": null,
      "min_width": null,
      "object_fit": null,
      "object_position": null,
      "order": null,
      "overflow": null,
      "overflow_x": null,
      "overflow_y": null,
      "padding": null,
      "right": null,
      "top": null,
      "visibility": null,
      "width": null
     }
    },
    "b5ade15465c943e2b54aeced42f089dd": {
     "model_module": "@jupyter-widgets/base",
     "model_name": "LayoutModel",
     "state": {
      "_model_module": "@jupyter-widgets/base",
      "_model_module_version": "1.2.0",
      "_model_name": "LayoutModel",
      "_view_count": null,
      "_view_module": "@jupyter-widgets/base",
      "_view_module_version": "1.2.0",
      "_view_name": "LayoutView",
      "align_content": null,
      "align_items": null,
      "align_self": null,
      "border": null,
      "bottom": null,
      "display": null,
      "flex": null,
      "flex_flow": null,
      "grid_area": null,
      "grid_auto_columns": null,
      "grid_auto_flow": null,
      "grid_auto_rows": null,
      "grid_column": null,
      "grid_gap": null,
      "grid_row": null,
      "grid_template_areas": null,
      "grid_template_columns": null,
      "grid_template_rows": null,
      "height": null,
      "justify_content": null,
      "justify_items": null,
      "left": null,
      "margin": null,
      "max_height": null,
      "max_width": null,
      "min_height": null,
      "min_width": null,
      "object_fit": null,
      "object_position": null,
      "order": null,
      "overflow": null,
      "overflow_x": null,
      "overflow_y": null,
      "padding": null,
      "right": null,
      "top": null,
      "visibility": null,
      "width": null
     }
    },
    "b778c7d5a564429db501b9b5c49eabb3": {
     "model_module": "@jupyter-widgets/controls",
     "model_name": "HBoxModel",
     "state": {
      "_dom_classes": [],
      "_model_module": "@jupyter-widgets/controls",
      "_model_module_version": "1.5.0",
      "_model_name": "HBoxModel",
      "_view_count": null,
      "_view_module": "@jupyter-widgets/controls",
      "_view_module_version": "1.5.0",
      "_view_name": "HBoxView",
      "box_style": "",
      "children": [
       "IPY_MODEL_5fd34d412cfe4dceb9a8d53f5bac48ec",
       "IPY_MODEL_3f7f96ec2a3742ef8c8e27611a8944cb"
      ],
      "layout": "IPY_MODEL_d0541fc9d57443cda37eb8522e69b458"
     }
    },
    "b9b2f6ef822349b38c75c05f1411dccd": {
     "model_module": "@jupyter-widgets/base",
     "model_name": "LayoutModel",
     "state": {
      "_model_module": "@jupyter-widgets/base",
      "_model_module_version": "1.2.0",
      "_model_name": "LayoutModel",
      "_view_count": null,
      "_view_module": "@jupyter-widgets/base",
      "_view_module_version": "1.2.0",
      "_view_name": "LayoutView",
      "align_content": null,
      "align_items": null,
      "align_self": null,
      "border": null,
      "bottom": null,
      "display": null,
      "flex": null,
      "flex_flow": null,
      "grid_area": null,
      "grid_auto_columns": null,
      "grid_auto_flow": null,
      "grid_auto_rows": null,
      "grid_column": null,
      "grid_gap": null,
      "grid_row": null,
      "grid_template_areas": null,
      "grid_template_columns": null,
      "grid_template_rows": null,
      "height": null,
      "justify_content": null,
      "justify_items": null,
      "left": null,
      "margin": null,
      "max_height": null,
      "max_width": null,
      "min_height": null,
      "min_width": null,
      "object_fit": null,
      "object_position": null,
      "order": null,
      "overflow": null,
      "overflow_x": null,
      "overflow_y": null,
      "padding": null,
      "right": null,
      "top": null,
      "visibility": null,
      "width": null
     }
    },
    "bc717d2a6631460ca83455bbb20e12b5": {
     "model_module": "@jupyter-widgets/controls",
     "model_name": "ProgressStyleModel",
     "state": {
      "_model_module": "@jupyter-widgets/controls",
      "_model_module_version": "1.5.0",
      "_model_name": "ProgressStyleModel",
      "_view_count": null,
      "_view_module": "@jupyter-widgets/base",
      "_view_module_version": "1.2.0",
      "_view_name": "StyleView",
      "bar_color": null,
      "description_width": "initial"
     }
    },
    "be708fb8e9084e2398759b8d5bef2350": {
     "model_module": "@jupyter-widgets/base",
     "model_name": "LayoutModel",
     "state": {
      "_model_module": "@jupyter-widgets/base",
      "_model_module_version": "1.2.0",
      "_model_name": "LayoutModel",
      "_view_count": null,
      "_view_module": "@jupyter-widgets/base",
      "_view_module_version": "1.2.0",
      "_view_name": "LayoutView",
      "align_content": null,
      "align_items": null,
      "align_self": null,
      "border": null,
      "bottom": null,
      "display": null,
      "flex": null,
      "flex_flow": null,
      "grid_area": null,
      "grid_auto_columns": null,
      "grid_auto_flow": null,
      "grid_auto_rows": null,
      "grid_column": null,
      "grid_gap": null,
      "grid_row": null,
      "grid_template_areas": null,
      "grid_template_columns": null,
      "grid_template_rows": null,
      "height": null,
      "justify_content": null,
      "justify_items": null,
      "left": null,
      "margin": null,
      "max_height": null,
      "max_width": null,
      "min_height": null,
      "min_width": null,
      "object_fit": null,
      "object_position": null,
      "order": null,
      "overflow": null,
      "overflow_x": null,
      "overflow_y": null,
      "padding": null,
      "right": null,
      "top": null,
      "visibility": null,
      "width": null
     }
    },
    "c02c1d8bf55a422e9957a1faf14c1f80": {
     "model_module": "@jupyter-widgets/controls",
     "model_name": "FloatProgressModel",
     "state": {
      "_dom_classes": [],
      "_model_module": "@jupyter-widgets/controls",
      "_model_module_version": "1.5.0",
      "_model_name": "FloatProgressModel",
      "_view_count": null,
      "_view_module": "@jupyter-widgets/controls",
      "_view_module_version": "1.5.0",
      "_view_name": "ProgressView",
      "bar_style": "success",
      "description": "100%",
      "description_tooltip": null,
      "layout": "IPY_MODEL_8f4653ac71e9464ca668f96fc4b6ff2f",
      "max": 800,
      "min": 0,
      "orientation": "horizontal",
      "style": "IPY_MODEL_819d889b60e94413935829c608ee419d",
      "value": 800
     }
    },
    "c50560388993439d8126b142ef9bf463": {
     "model_module": "@jupyter-widgets/controls",
     "model_name": "ProgressStyleModel",
     "state": {
      "_model_module": "@jupyter-widgets/controls",
      "_model_module_version": "1.5.0",
      "_model_name": "ProgressStyleModel",
      "_view_count": null,
      "_view_module": "@jupyter-widgets/base",
      "_view_module_version": "1.2.0",
      "_view_name": "StyleView",
      "bar_color": null,
      "description_width": "initial"
     }
    },
    "c55cd7de1ded43a78beb64f74799c1c0": {
     "model_module": "@jupyter-widgets/base",
     "model_name": "LayoutModel",
     "state": {
      "_model_module": "@jupyter-widgets/base",
      "_model_module_version": "1.2.0",
      "_model_name": "LayoutModel",
      "_view_count": null,
      "_view_module": "@jupyter-widgets/base",
      "_view_module_version": "1.2.0",
      "_view_name": "LayoutView",
      "align_content": null,
      "align_items": null,
      "align_self": null,
      "border": null,
      "bottom": null,
      "display": null,
      "flex": null,
      "flex_flow": null,
      "grid_area": null,
      "grid_auto_columns": null,
      "grid_auto_flow": null,
      "grid_auto_rows": null,
      "grid_column": null,
      "grid_gap": null,
      "grid_row": null,
      "grid_template_areas": null,
      "grid_template_columns": null,
      "grid_template_rows": null,
      "height": null,
      "justify_content": null,
      "justify_items": null,
      "left": null,
      "margin": null,
      "max_height": null,
      "max_width": null,
      "min_height": null,
      "min_width": null,
      "object_fit": null,
      "object_position": null,
      "order": null,
      "overflow": null,
      "overflow_x": null,
      "overflow_y": null,
      "padding": null,
      "right": null,
      "top": null,
      "visibility": null,
      "width": null
     }
    },
    "c5945412582d4af7aef8384897f47b3a": {
     "model_module": "@jupyter-widgets/controls",
     "model_name": "HBoxModel",
     "state": {
      "_dom_classes": [],
      "_model_module": "@jupyter-widgets/controls",
      "_model_module_version": "1.5.0",
      "_model_name": "HBoxModel",
      "_view_count": null,
      "_view_module": "@jupyter-widgets/controls",
      "_view_module_version": "1.5.0",
      "_view_name": "HBoxView",
      "box_style": "",
      "children": [
       "IPY_MODEL_87357915b6794620a81be174a5f7030e",
       "IPY_MODEL_74fcca4d432149feb50659afb70cb2f7"
      ],
      "layout": "IPY_MODEL_78a662ca26884cfdbef539b219086170"
     }
    },
    "c5b113236f8641babb54d52081ae60c7": {
     "model_module": "@jupyter-widgets/base",
     "model_name": "LayoutModel",
     "state": {
      "_model_module": "@jupyter-widgets/base",
      "_model_module_version": "1.2.0",
      "_model_name": "LayoutModel",
      "_view_count": null,
      "_view_module": "@jupyter-widgets/base",
      "_view_module_version": "1.2.0",
      "_view_name": "LayoutView",
      "align_content": null,
      "align_items": null,
      "align_self": null,
      "border": null,
      "bottom": null,
      "display": null,
      "flex": null,
      "flex_flow": null,
      "grid_area": null,
      "grid_auto_columns": null,
      "grid_auto_flow": null,
      "grid_auto_rows": null,
      "grid_column": null,
      "grid_gap": null,
      "grid_row": null,
      "grid_template_areas": null,
      "grid_template_columns": null,
      "grid_template_rows": null,
      "height": null,
      "justify_content": null,
      "justify_items": null,
      "left": null,
      "margin": null,
      "max_height": null,
      "max_width": null,
      "min_height": null,
      "min_width": null,
      "object_fit": null,
      "object_position": null,
      "order": null,
      "overflow": null,
      "overflow_x": null,
      "overflow_y": null,
      "padding": null,
      "right": null,
      "top": null,
      "visibility": null,
      "width": null
     }
    },
    "cdafbee37d0c4b9c92118d9471cbb7f8": {
     "model_module": "@jupyter-widgets/controls",
     "model_name": "HBoxModel",
     "state": {
      "_dom_classes": [],
      "_model_module": "@jupyter-widgets/controls",
      "_model_module_version": "1.5.0",
      "_model_name": "HBoxModel",
      "_view_count": null,
      "_view_module": "@jupyter-widgets/controls",
      "_view_module_version": "1.5.0",
      "_view_name": "HBoxView",
      "box_style": "",
      "children": [
       "IPY_MODEL_ad9ab84bb1fe4b64999aee172138a912",
       "IPY_MODEL_90e97ad735794272b501bd849b94cb0a"
      ],
      "layout": "IPY_MODEL_925313ada67c492a9d83f341799caca9"
     }
    },
    "cdb66921e66f49d88450eecf3271e711": {
     "model_module": "@jupyter-widgets/controls",
     "model_name": "HBoxModel",
     "state": {
      "_dom_classes": [],
      "_model_module": "@jupyter-widgets/controls",
      "_model_module_version": "1.5.0",
      "_model_name": "HBoxModel",
      "_view_count": null,
      "_view_module": "@jupyter-widgets/controls",
      "_view_module_version": "1.5.0",
      "_view_name": "HBoxView",
      "box_style": "",
      "children": [
       "IPY_MODEL_4ae8d5f31e9449a59948f643b979a167",
       "IPY_MODEL_660d5084587f493cbc29cfde733f0962"
      ],
      "layout": "IPY_MODEL_01f9e0605b8948c59b56eaefe449013a"
     }
    },
    "cec62e79b725479087ec56710a6f1834": {
     "model_module": "@jupyter-widgets/base",
     "model_name": "LayoutModel",
     "state": {
      "_model_module": "@jupyter-widgets/base",
      "_model_module_version": "1.2.0",
      "_model_name": "LayoutModel",
      "_view_count": null,
      "_view_module": "@jupyter-widgets/base",
      "_view_module_version": "1.2.0",
      "_view_name": "LayoutView",
      "align_content": null,
      "align_items": null,
      "align_self": null,
      "border": null,
      "bottom": null,
      "display": null,
      "flex": null,
      "flex_flow": null,
      "grid_area": null,
      "grid_auto_columns": null,
      "grid_auto_flow": null,
      "grid_auto_rows": null,
      "grid_column": null,
      "grid_gap": null,
      "grid_row": null,
      "grid_template_areas": null,
      "grid_template_columns": null,
      "grid_template_rows": null,
      "height": null,
      "justify_content": null,
      "justify_items": null,
      "left": null,
      "margin": null,
      "max_height": null,
      "max_width": null,
      "min_height": null,
      "min_width": null,
      "object_fit": null,
      "object_position": null,
      "order": null,
      "overflow": null,
      "overflow_x": null,
      "overflow_y": null,
      "padding": null,
      "right": null,
      "top": null,
      "visibility": null,
      "width": null
     }
    },
    "d0541fc9d57443cda37eb8522e69b458": {
     "model_module": "@jupyter-widgets/base",
     "model_name": "LayoutModel",
     "state": {
      "_model_module": "@jupyter-widgets/base",
      "_model_module_version": "1.2.0",
      "_model_name": "LayoutModel",
      "_view_count": null,
      "_view_module": "@jupyter-widgets/base",
      "_view_module_version": "1.2.0",
      "_view_name": "LayoutView",
      "align_content": null,
      "align_items": null,
      "align_self": null,
      "border": null,
      "bottom": null,
      "display": null,
      "flex": null,
      "flex_flow": null,
      "grid_area": null,
      "grid_auto_columns": null,
      "grid_auto_flow": null,
      "grid_auto_rows": null,
      "grid_column": null,
      "grid_gap": null,
      "grid_row": null,
      "grid_template_areas": null,
      "grid_template_columns": null,
      "grid_template_rows": null,
      "height": null,
      "justify_content": null,
      "justify_items": null,
      "left": null,
      "margin": null,
      "max_height": null,
      "max_width": null,
      "min_height": null,
      "min_width": null,
      "object_fit": null,
      "object_position": null,
      "order": null,
      "overflow": null,
      "overflow_x": null,
      "overflow_y": null,
      "padding": null,
      "right": null,
      "top": null,
      "visibility": null,
      "width": null
     }
    },
    "d09ea46456b746d6be03f656072f6a05": {
     "model_module": "@jupyter-widgets/controls",
     "model_name": "HBoxModel",
     "state": {
      "_dom_classes": [],
      "_model_module": "@jupyter-widgets/controls",
      "_model_module_version": "1.5.0",
      "_model_name": "HBoxModel",
      "_view_count": null,
      "_view_module": "@jupyter-widgets/controls",
      "_view_module_version": "1.5.0",
      "_view_name": "HBoxView",
      "box_style": "",
      "children": [
       "IPY_MODEL_aafaee241a8a472e84227d49bb5f6eaa",
       "IPY_MODEL_16413eccfe0a4249ad811f8946bdac70"
      ],
      "layout": "IPY_MODEL_07d95b160d3d43fca5ee0b891359d4ec"
     }
    },
    "d366303f9982474999615333f6d85623": {
     "model_module": "@jupyter-widgets/controls",
     "model_name": "ProgressStyleModel",
     "state": {
      "_model_module": "@jupyter-widgets/controls",
      "_model_module_version": "1.5.0",
      "_model_name": "ProgressStyleModel",
      "_view_count": null,
      "_view_module": "@jupyter-widgets/base",
      "_view_module_version": "1.2.0",
      "_view_name": "StyleView",
      "bar_color": null,
      "description_width": "initial"
     }
    },
    "d48af63365384bf5b928a5bbfc07a8fd": {
     "model_module": "@jupyter-widgets/controls",
     "model_name": "FloatProgressModel",
     "state": {
      "_dom_classes": [],
      "_model_module": "@jupyter-widgets/controls",
      "_model_module_version": "1.5.0",
      "_model_name": "FloatProgressModel",
      "_view_count": null,
      "_view_module": "@jupyter-widgets/controls",
      "_view_module_version": "1.5.0",
      "_view_name": "ProgressView",
      "bar_style": "success",
      "description": "100%",
      "description_tooltip": null,
      "layout": "IPY_MODEL_c55cd7de1ded43a78beb64f74799c1c0",
      "max": 200,
      "min": 0,
      "orientation": "horizontal",
      "style": "IPY_MODEL_02f751cbd8904d648b17226f7d678ae8",
      "value": 200
     }
    },
    "d5e908d8c5c84f7b94f8bc63ead142b6": {
     "model_module": "@jupyter-widgets/controls",
     "model_name": "DescriptionStyleModel",
     "state": {
      "_model_module": "@jupyter-widgets/controls",
      "_model_module_version": "1.5.0",
      "_model_name": "DescriptionStyleModel",
      "_view_count": null,
      "_view_module": "@jupyter-widgets/base",
      "_view_module_version": "1.2.0",
      "_view_name": "StyleView",
      "description_width": ""
     }
    },
    "d9fbad99ae2749da9b5e89676f2b48b5": {
     "model_module": "@jupyter-widgets/controls",
     "model_name": "HTMLModel",
     "state": {
      "_dom_classes": [],
      "_model_module": "@jupyter-widgets/controls",
      "_model_module_version": "1.5.0",
      "_model_name": "HTMLModel",
      "_view_count": null,
      "_view_module": "@jupyter-widgets/controls",
      "_view_module_version": "1.5.0",
      "_view_name": "HTMLView",
      "description": "",
      "description_tooltip": null,
      "layout": "IPY_MODEL_8ab78f98052a4523982969a06fb3f394",
      "placeholder": "​",
      "style": "IPY_MODEL_6956041c590845268ddb870066c4ad30",
      "value": " 750/750 [00:01&lt;00:00, 442.77epoch/s]"
     }
    },
    "e56940d1ae9a4ce78fed4d3e60ca962d": {
     "model_module": "@jupyter-widgets/base",
     "model_name": "LayoutModel",
     "state": {
      "_model_module": "@jupyter-widgets/base",
      "_model_module_version": "1.2.0",
      "_model_name": "LayoutModel",
      "_view_count": null,
      "_view_module": "@jupyter-widgets/base",
      "_view_module_version": "1.2.0",
      "_view_name": "LayoutView",
      "align_content": null,
      "align_items": null,
      "align_self": null,
      "border": null,
      "bottom": null,
      "display": null,
      "flex": null,
      "flex_flow": null,
      "grid_area": null,
      "grid_auto_columns": null,
      "grid_auto_flow": null,
      "grid_auto_rows": null,
      "grid_column": null,
      "grid_gap": null,
      "grid_row": null,
      "grid_template_areas": null,
      "grid_template_columns": null,
      "grid_template_rows": null,
      "height": null,
      "justify_content": null,
      "justify_items": null,
      "left": null,
      "margin": null,
      "max_height": null,
      "max_width": null,
      "min_height": null,
      "min_width": null,
      "object_fit": null,
      "object_position": null,
      "order": null,
      "overflow": null,
      "overflow_x": null,
      "overflow_y": null,
      "padding": null,
      "right": null,
      "top": null,
      "visibility": null,
      "width": null
     }
    },
    "e64c4f8b4d574b4886257dc9e1817442": {
     "model_module": "@jupyter-widgets/controls",
     "model_name": "HBoxModel",
     "state": {
      "_dom_classes": [],
      "_model_module": "@jupyter-widgets/controls",
      "_model_module_version": "1.5.0",
      "_model_name": "HBoxModel",
      "_view_count": null,
      "_view_module": "@jupyter-widgets/controls",
      "_view_module_version": "1.5.0",
      "_view_name": "HBoxView",
      "box_style": "",
      "children": [
       "IPY_MODEL_5c58cf439648465d965968ea34d40401",
       "IPY_MODEL_963eb015dd06468abe912d5e8fd1bc03"
      ],
      "layout": "IPY_MODEL_03694d96304f4c9dbc81d8b2e1114eb7"
     }
    },
    "eaaec69293f2418db00de0ec3890b993": {
     "model_module": "@jupyter-widgets/controls",
     "model_name": "DescriptionStyleModel",
     "state": {
      "_model_module": "@jupyter-widgets/controls",
      "_model_module_version": "1.5.0",
      "_model_name": "DescriptionStyleModel",
      "_view_count": null,
      "_view_module": "@jupyter-widgets/base",
      "_view_module_version": "1.2.0",
      "_view_name": "StyleView",
      "description_width": ""
     }
    },
    "ed18f308d52546febf60ddac7d09328d": {
     "model_module": "@jupyter-widgets/base",
     "model_name": "LayoutModel",
     "state": {
      "_model_module": "@jupyter-widgets/base",
      "_model_module_version": "1.2.0",
      "_model_name": "LayoutModel",
      "_view_count": null,
      "_view_module": "@jupyter-widgets/base",
      "_view_module_version": "1.2.0",
      "_view_name": "LayoutView",
      "align_content": null,
      "align_items": null,
      "align_self": null,
      "border": null,
      "bottom": null,
      "display": null,
      "flex": null,
      "flex_flow": null,
      "grid_area": null,
      "grid_auto_columns": null,
      "grid_auto_flow": null,
      "grid_auto_rows": null,
      "grid_column": null,
      "grid_gap": null,
      "grid_row": null,
      "grid_template_areas": null,
      "grid_template_columns": null,
      "grid_template_rows": null,
      "height": null,
      "justify_content": null,
      "justify_items": null,
      "left": null,
      "margin": null,
      "max_height": null,
      "max_width": null,
      "min_height": null,
      "min_width": null,
      "object_fit": null,
      "object_position": null,
      "order": null,
      "overflow": null,
      "overflow_x": null,
      "overflow_y": null,
      "padding": null,
      "right": null,
      "top": null,
      "visibility": null,
      "width": null
     }
    },
    "ef3b6623e09b4dfcbb0253c412886489": {
     "model_module": "@jupyter-widgets/controls",
     "model_name": "DescriptionStyleModel",
     "state": {
      "_model_module": "@jupyter-widgets/controls",
      "_model_module_version": "1.5.0",
      "_model_name": "DescriptionStyleModel",
      "_view_count": null,
      "_view_module": "@jupyter-widgets/base",
      "_view_module_version": "1.2.0",
      "_view_name": "StyleView",
      "description_width": ""
     }
    },
    "f9a6785467c94f3f99a2019ac7a6bc63": {
     "model_module": "@jupyter-widgets/controls",
     "model_name": "FloatProgressModel",
     "state": {
      "_dom_classes": [],
      "_model_module": "@jupyter-widgets/controls",
      "_model_module_version": "1.5.0",
      "_model_name": "FloatProgressModel",
      "_view_count": null,
      "_view_module": "@jupyter-widgets/controls",
      "_view_module_version": "1.5.0",
      "_view_name": "ProgressView",
      "bar_style": "success",
      "description": "100%",
      "description_tooltip": null,
      "layout": "IPY_MODEL_91855b32d037416299dbfd664f4ce1f6",
      "max": 750,
      "min": 0,
      "orientation": "horizontal",
      "style": "IPY_MODEL_bc717d2a6631460ca83455bbb20e12b5",
      "value": 750
     }
    },
    "fb0d7dafb408445a9ef8f1d32485d1ea": {
     "model_module": "@jupyter-widgets/base",
     "model_name": "LayoutModel",
     "state": {
      "_model_module": "@jupyter-widgets/base",
      "_model_module_version": "1.2.0",
      "_model_name": "LayoutModel",
      "_view_count": null,
      "_view_module": "@jupyter-widgets/base",
      "_view_module_version": "1.2.0",
      "_view_name": "LayoutView",
      "align_content": null,
      "align_items": null,
      "align_self": null,
      "border": null,
      "bottom": null,
      "display": null,
      "flex": null,
      "flex_flow": null,
      "grid_area": null,
      "grid_auto_columns": null,
      "grid_auto_flow": null,
      "grid_auto_rows": null,
      "grid_column": null,
      "grid_gap": null,
      "grid_row": null,
      "grid_template_areas": null,
      "grid_template_columns": null,
      "grid_template_rows": null,
      "height": null,
      "justify_content": null,
      "justify_items": null,
      "left": null,
      "margin": null,
      "max_height": null,
      "max_width": null,
      "min_height": null,
      "min_width": null,
      "object_fit": null,
      "object_position": null,
      "order": null,
      "overflow": null,
      "overflow_x": null,
      "overflow_y": null,
      "padding": null,
      "right": null,
      "top": null,
      "visibility": null,
      "width": null
     }
    },
    "fb24293f6ee6401486eb72dc9830a301": {
     "model_module": "@jupyter-widgets/base",
     "model_name": "LayoutModel",
     "state": {
      "_model_module": "@jupyter-widgets/base",
      "_model_module_version": "1.2.0",
      "_model_name": "LayoutModel",
      "_view_count": null,
      "_view_module": "@jupyter-widgets/base",
      "_view_module_version": "1.2.0",
      "_view_name": "LayoutView",
      "align_content": null,
      "align_items": null,
      "align_self": null,
      "border": null,
      "bottom": null,
      "display": null,
      "flex": null,
      "flex_flow": null,
      "grid_area": null,
      "grid_auto_columns": null,
      "grid_auto_flow": null,
      "grid_auto_rows": null,
      "grid_column": null,
      "grid_gap": null,
      "grid_row": null,
      "grid_template_areas": null,
      "grid_template_columns": null,
      "grid_template_rows": null,
      "height": null,
      "justify_content": null,
      "justify_items": null,
      "left": null,
      "margin": null,
      "max_height": null,
      "max_width": null,
      "min_height": null,
      "min_width": null,
      "object_fit": null,
      "object_position": null,
      "order": null,
      "overflow": null,
      "overflow_x": null,
      "overflow_y": null,
      "padding": null,
      "right": null,
      "top": null,
      "visibility": null,
      "width": null
     }
    },
    "fbaa89dcbaad4a38bea8b0cf45e2d0c0": {
     "model_module": "@jupyter-widgets/controls",
     "model_name": "HBoxModel",
     "state": {
      "_dom_classes": [],
      "_model_module": "@jupyter-widgets/controls",
      "_model_module_version": "1.5.0",
      "_model_name": "HBoxModel",
      "_view_count": null,
      "_view_module": "@jupyter-widgets/controls",
      "_view_module_version": "1.5.0",
      "_view_name": "HBoxView",
      "box_style": "",
      "children": [
       "IPY_MODEL_361ee4921214428aa3b9025344c2ab47",
       "IPY_MODEL_5b20fad96fa3452c9f24868982309c45"
      ],
      "layout": "IPY_MODEL_0e45420a207c422ea3e9568ff82c1680"
     }
    },
    "fe61720a35874f29a08f48bccbf9dbb6": {
     "model_module": "@jupyter-widgets/controls",
     "model_name": "DescriptionStyleModel",
     "state": {
      "_model_module": "@jupyter-widgets/controls",
      "_model_module_version": "1.5.0",
      "_model_name": "DescriptionStyleModel",
      "_view_count": null,
      "_view_module": "@jupyter-widgets/base",
      "_view_module_version": "1.2.0",
      "_view_name": "StyleView",
      "description_width": ""
     }
    },
    "ff1870ef211b4f0885ed74516b86eb27": {
     "model_module": "@jupyter-widgets/base",
     "model_name": "LayoutModel",
     "state": {
      "_model_module": "@jupyter-widgets/base",
      "_model_module_version": "1.2.0",
      "_model_name": "LayoutModel",
      "_view_count": null,
      "_view_module": "@jupyter-widgets/base",
      "_view_module_version": "1.2.0",
      "_view_name": "LayoutView",
      "align_content": null,
      "align_items": null,
      "align_self": null,
      "border": null,
      "bottom": null,
      "display": null,
      "flex": null,
      "flex_flow": null,
      "grid_area": null,
      "grid_auto_columns": null,
      "grid_auto_flow": null,
      "grid_auto_rows": null,
      "grid_column": null,
      "grid_gap": null,
      "grid_row": null,
      "grid_template_areas": null,
      "grid_template_columns": null,
      "grid_template_rows": null,
      "height": null,
      "justify_content": null,
      "justify_items": null,
      "left": null,
      "margin": null,
      "max_height": null,
      "max_width": null,
      "min_height": null,
      "min_width": null,
      "object_fit": null,
      "object_position": null,
      "order": null,
      "overflow": null,
      "overflow_x": null,
      "overflow_y": null,
      "padding": null,
      "right": null,
      "top": null,
      "visibility": null,
      "width": null
     }
    }
   }
  }
 },
 "nbformat": 4,
 "nbformat_minor": 1
}
