{
 "cells": [
  {
   "cell_type": "code",
   "execution_count": 1,
   "metadata": {
    "colab": {},
    "colab_type": "code",
    "id": "O2qR7QrLiuVQ"
   },
   "outputs": [],
   "source": [
    "import matplotlib.pyplot as plt\n",
    "import numpy as np\n",
    "import tensorflow as tf\n",
    "from tensorflow.python.framework import ops\n",
    "ops.reset_default_graph()\n",
    "from sklearn.preprocessing import OneHotEncoder\n",
    "from sklearn.datasets import load_breast_cancer"
   ]
  },
  {
   "cell_type": "code",
   "execution_count": 2,
   "metadata": {
    "colab": {},
    "colab_type": "code",
    "id": "G8rSq7myi4iE"
   },
   "outputs": [
    {
     "name": "stdout",
     "output_type": "stream",
     "text": [
      "(569, 30) (569,)\n"
     ]
    }
   ],
   "source": [
    "cancer = load_breast_cancer()\n",
    "data = cancer.data\n",
    "labels = cancer.target\n",
    "print(data.shape,labels.shape)"
   ]
  },
  {
   "cell_type": "code",
   "execution_count": 3,
   "metadata": {},
   "outputs": [
    {
     "name": "stdout",
     "output_type": "stream",
     "text": [
      "(569, 2)\n"
     ]
    }
   ],
   "source": [
    "enc = OneHotEncoder()\n",
    "labels = enc.fit_transform(np.expand_dims(labels,1)).toarray()\n",
    "print(labels.shape)"
   ]
  },
  {
   "cell_type": "code",
   "execution_count": 4,
   "metadata": {
    "colab": {
     "base_uri": "https://localhost:8080/",
     "height": 139
    },
    "colab_type": "code",
    "executionInfo": {
     "elapsed": 527,
     "status": "ok",
     "timestamp": 1574481606235,
     "user": {
      "displayName": "Indumathi Nagarajan",
      "photoUrl": "https://lh3.googleusercontent.com/a-/AAuE7mBpnL0fWxkPykUmP_UmA14I4qQqAjkWryGEwMo2M28=s64",
      "userId": "16520609829492788205"
     },
     "user_tz": 480
    },
    "id": "g0_nJKmMj9FB",
    "outputId": "40d1cced-5b12-4c23-9695-2a39acf3311e"
   },
   "outputs": [
    {
     "data": {
      "text/plain": [
       "569"
      ]
     },
     "execution_count": 4,
     "metadata": {},
     "output_type": "execute_result"
    }
   ],
   "source": [
    "len(data)"
   ]
  },
  {
   "cell_type": "code",
   "execution_count": 5,
   "metadata": {
    "colab": {},
    "colab_type": "code",
    "id": "3SVYW7KEkYhn"
   },
   "outputs": [],
   "source": [
    "# Set Seed\n",
    "seed = 3\n",
    "tf.set_random_seed(seed)\n",
    "np.random.seed(seed)"
   ]
  },
  {
   "cell_type": "code",
   "execution_count": 6,
   "metadata": {
    "colab": {},
    "colab_type": "code",
    "id": "qDQbrokrkbOR"
   },
   "outputs": [],
   "source": [
    "# Split data into train/test = 80%/20%\n",
    "train_indices = np.random.choice(len(data), round(len(data)*0.8), replace=False)\n",
    "test_indices = np.array(list(set(range(len(data))) - set(train_indices)))\n",
    "x_vals_train = data[train_indices]\n",
    "x_vals_test = data[test_indices]\n",
    "y_vals_train = labels[train_indices]\n",
    "y_vals_test = labels[test_indices]"
   ]
  },
  {
   "cell_type": "code",
   "execution_count": 7,
   "metadata": {
    "colab": {
     "base_uri": "https://localhost:8080/",
     "height": 87
    },
    "colab_type": "code",
    "executionInfo": {
     "elapsed": 752,
     "status": "ok",
     "timestamp": 1574481670845,
     "user": {
      "displayName": "Indumathi Nagarajan",
      "photoUrl": "https://lh3.googleusercontent.com/a-/AAuE7mBpnL0fWxkPykUmP_UmA14I4qQqAjkWryGEwMo2M28=s64",
      "userId": "16520609829492788205"
     },
     "user_tz": 480
    },
    "id": "tKrfDCeMlJ2c",
    "outputId": "c66f2333-5bc0-4a1b-ab2b-7c237c77e0f6"
   },
   "outputs": [
    {
     "name": "stdout",
     "output_type": "stream",
     "text": [
      "(455, 30)\n",
      "(114, 30)\n",
      "(455, 2)\n",
      "(114, 2)\n"
     ]
    }
   ],
   "source": [
    "print(x_vals_train.shape)\n",
    "print(x_vals_test.shape)\n",
    "print(y_vals_train.shape)\n",
    "print(y_vals_test.shape)"
   ]
  },
  {
   "cell_type": "code",
   "execution_count": 8,
   "metadata": {
    "colab": {},
    "colab_type": "code",
    "id": "1gonn2ZclYdI"
   },
   "outputs": [],
   "source": [
    "# Normalize by column (min-max norm)\n",
    "def normalize_cols(m):\n",
    "    col_max = m.max(axis=0)\n",
    "    col_min = m.min(axis=0)\n",
    "    return (m-col_min) / (col_max - col_min)\n",
    "    \n",
    "x_vals_train = np.nan_to_num(normalize_cols(x_vals_train))\n",
    "x_vals_test = np.nan_to_num(normalize_cols(x_vals_test))\n"
   ]
  },
  {
   "cell_type": "code",
   "execution_count": 9,
   "metadata": {
    "colab": {},
    "colab_type": "code",
    "id": "6wg8ZhXXluxk"
   },
   "outputs": [],
   "source": [
    "# Declare batch size\n",
    "batch_size = 20"
   ]
  },
  {
   "cell_type": "code",
   "execution_count": 10,
   "metadata": {
    "colab": {},
    "colab_type": "code",
    "id": "j1IskERYmhM5"
   },
   "outputs": [],
   "source": [
    "# Initialize placeholders\n",
    "x_data = tf.placeholder(shape=[None, 30], dtype=tf.float32)\n",
    "y_target = tf.placeholder(shape=[None,2], dtype=tf.float32)"
   ]
  },
  {
   "cell_type": "code",
   "execution_count": 11,
   "metadata": {
    "colab": {},
    "colab_type": "code",
    "id": "EBIzkEH6mkzx"
   },
   "outputs": [],
   "source": [
    "# Create variables for both Neural Network Layers\n",
    "hidden_layer_nodes = 30\n",
    "A1 = tf.Variable(tf.random_normal(shape=[30,hidden_layer_nodes])) # inputs -> hidden nodes\n",
    "b1 = tf.Variable(tf.random_normal(shape=[hidden_layer_nodes]))   # one biases for each hidden node\n",
    "A2 = tf.Variable(tf.random_normal(shape=[hidden_layer_nodes,2])) # hidden inputs -> 1 output\n",
    "b2 = tf.Variable(tf.random_normal(shape=[2]))   # 1 bias for the output"
   ]
  },
  {
   "cell_type": "code",
   "execution_count": 12,
   "metadata": {
    "colab": {},
    "colab_type": "code",
    "id": "pmtSYNpdmmmR"
   },
   "outputs": [],
   "source": [
    "\n",
    "# Declare model operations\n",
    "hidden_output = tf.nn.relu(tf.add(tf.matmul(x_data, A1), b1))\n",
    "final_output = tf.nn.relu(tf.add(tf.matmul(hidden_output, A2), b2), name=\"op_to_restore\")"
   ]
  },
  {
   "cell_type": "code",
   "execution_count": 13,
   "metadata": {
    "colab": {},
    "colab_type": "code",
    "id": "y7QFLkuHm5i3"
   },
   "outputs": [],
   "source": [
    "# Declare loss function\n",
    "loss = tf.reduce_mean(tf.nn.softmax_cross_entropy_with_logits_v2(final_output, y_target))"
   ]
  },
  {
   "cell_type": "code",
   "execution_count": 14,
   "metadata": {
    "colab": {},
    "colab_type": "code",
    "id": "n-d_xAGAnTQX"
   },
   "outputs": [],
   "source": [
    "# Declare optimizer\n",
    "my_opt = tf.train.MomentumOptimizer(learning_rate=0.00005, momentum=0.9)\n",
    "train_step = my_opt.minimize(loss)"
   ]
  },
  {
   "cell_type": "code",
   "execution_count": 15,
   "metadata": {
    "colab": {},
    "colab_type": "code",
    "id": "AMGuFn7anXGK"
   },
   "outputs": [],
   "source": [
    "# Initialize variables\n",
    "init = tf.global_variables_initializer()\n",
    "sess=tf.Session()\n",
    "sess.run(init)"
   ]
  },
  {
   "cell_type": "code",
   "execution_count": 16,
   "metadata": {
    "colab": {
     "base_uri": "https://localhost:8080/",
     "height": 191
    },
    "colab_type": "code",
    "executionInfo": {
     "elapsed": 3262,
     "status": "ok",
     "timestamp": 1574482119481,
     "user": {
      "displayName": "Indumathi Nagarajan",
      "photoUrl": "https://lh3.googleusercontent.com/a-/AAuE7mBpnL0fWxkPykUmP_UmA14I4qQqAjkWryGEwMo2M28=s64",
      "userId": "16520609829492788205"
     },
     "user_tz": 480
    },
    "id": "tD3NmbhmnZtv",
    "outputId": "730ec75b-6cc0-466a-9840-98a2890cd941"
   },
   "outputs": [
    {
     "name": "stdout",
     "output_type": "stream",
     "text": [
      "Epochs: 50. Loss = 2.4090252\n",
      "Epochs: 100. Loss = 1.7425117\n",
      "Epochs: 150. Loss = 0.87549126\n",
      "Epochs: 200. Loss = 0.4979214\n",
      "Epochs: 250. Loss = 0.4649474\n",
      "Epochs: 300. Loss = 0.2654227\n",
      "Epochs: 350. Loss = 0.111364104\n",
      "Epochs: 400. Loss = 0.08239646\n",
      "Epochs: 450. Loss = 0.08275569\n",
      "Epochs: 500. Loss = 0.1388987\n",
      "Epochs: 550. Loss = 0.03158307\n",
      "Epochs: 600. Loss = 0.020841233\n",
      "Epochs: 650. Loss = 0.0\n",
      "Epochs: 700. Loss = 0.036877897\n",
      "Epochs: 750. Loss = 0.038822033\n",
      "Epochs: 800. Loss = 0.018497568\n",
      "Epochs: 850. Loss = 0.001733334\n",
      "Epochs: 900. Loss = 0.04035021\n",
      "Epochs: 950. Loss = 0.03976764\n",
      "Epochs: 1000. Loss = 0.034275364\n"
     ]
    }
   ],
   "source": [
    "# Training loop\n",
    "loss_vec = []\n",
    "test_loss = []\n",
    "for i in range(1000):\n",
    "    rand_index = np.random.choice(len(x_vals_train), size=batch_size)\n",
    "    rand_x = x_vals_train[rand_index]\n",
    "    #print(rand_x)\n",
    "    #print(rand_x.shape)\n",
    "    rand_y = y_vals_train[rand_index]\n",
    "    #print(rand_y.shape)\n",
    "    sess.run(train_step, feed_dict={x_data: rand_x, y_target: rand_y})\n",
    "\n",
    "    temp_loss = sess.run(loss, feed_dict={x_data: rand_x, y_target: rand_y})\n",
    "    #print(temp_loss)\n",
    "    loss_vec.append(np.sqrt(temp_loss))\n",
    "    \n",
    "    test_temp_loss = sess.run(loss, feed_dict={x_data: x_vals_test, y_target: y_vals_test})\n",
    "    test_loss.append(np.sqrt(test_temp_loss))\n",
    "    if (i+1)%50==0:\n",
    "        print('Epochs: ' + str(i+1) + '. Loss = ' + str(temp_loss))\n"
   ]
  },
  {
   "cell_type": "code",
   "execution_count": 17,
   "metadata": {
    "colab": {
     "base_uri": "https://localhost:8080/",
     "height": 313
    },
    "colab_type": "code",
    "executionInfo": {
     "elapsed": 1320,
     "status": "ok",
     "timestamp": 1574482121570,
     "user": {
      "displayName": "Indumathi Nagarajan",
      "photoUrl": "https://lh3.googleusercontent.com/a-/AAuE7mBpnL0fWxkPykUmP_UmA14I4qQqAjkWryGEwMo2M28=s64",
      "userId": "16520609829492788205"
     },
     "user_tz": 480
    },
    "id": "EINSTcjqnq9I",
    "outputId": "910521c2-ca78-4e6d-a9fe-fca35673f6cd"
   },
   "outputs": [
    {
     "data": {
      "image/png": "[encoded data removed]",
      "text/plain": [
       "<Figure size 432x288 with 1 Axes>"
      ]
     },
     "metadata": {
      "needs_background": "light"
     },
     "output_type": "display_data"
    }
   ],
   "source": [
    "# Plot loss (MSE) over time\n",
    "plt.plot(loss_vec, 'k-', label='Train Loss')\n",
    "plt.plot(test_loss, 'r--', label='Test Loss')\n",
    "plt.title('Loss (MSE) per Epochs')\n",
    "plt.xlabel('Generation')\n",
    "plt.ylabel('Loss')\n",
    "plt.legend(loc='upper right')\n",
    "plt.show()\n",
    "\n",
    "saver = tf.train.Saver()\n"
   ]
  },
  {
   "cell_type": "code",
   "execution_count": null,
   "metadata": {},
   "outputs": [],
   "source": []
  }
 ],
 "metadata": {
  "colab": {
   "collapsed_sections": [],
   "name": "Method_1.ipynb",
   "provenance": []
  },
  "kernelspec": {
   "display_name": "Python 3",
   "language": "python",
   "name": "python3"
  },
  "language_info": {
   "codemirror_mode": {
    "name": "ipython",
    "version": 3
   },
   "file_extension": ".py",
   "mimetype": "text/x-python",
   "name": "python",
   "nbconvert_exporter": "python",
   "pygments_lexer": "ipython3",
   "version": "3.7.9"
  }
 },
 "nbformat": 4,
 "nbformat_minor": 1
}
